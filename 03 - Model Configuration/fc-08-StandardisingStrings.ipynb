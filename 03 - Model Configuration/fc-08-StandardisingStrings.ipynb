{
 "cells": [
  {
   "cell_type": "code",
   "execution_count": 5,
   "id": "d4b4757c",
   "metadata": {},
   "outputs": [],
   "source": [
    "from pydantic import BaseModel, ConfigDict, ValidationError"
   ]
  },
  {
   "cell_type": "code",
   "execution_count": 6,
   "id": "15233e9c",
   "metadata": {},
   "outputs": [],
   "source": [
    "s1 = \"    python     \""
   ]
  },
  {
   "cell_type": "code",
   "execution_count": 7,
   "id": "4b32e5a5",
   "metadata": {},
   "outputs": [],
   "source": [
    "s2 =\"  python      \\t\\n\""
   ]
  },
  {
   "cell_type": "code",
   "execution_count": 8,
   "id": "06451a28",
   "metadata": {},
   "outputs": [
    {
     "data": {
      "text/plain": [
       "False"
      ]
     },
     "execution_count": 8,
     "metadata": {},
     "output_type": "execute_result"
    }
   ],
   "source": [
    "s1 == s2"
   ]
  },
  {
   "cell_type": "code",
   "execution_count": 9,
   "id": "87c725a0",
   "metadata": {},
   "outputs": [
    {
     "data": {
      "text/plain": [
       "'python'"
      ]
     },
     "execution_count": 9,
     "metadata": {},
     "output_type": "execute_result"
    }
   ],
   "source": [
    "s1.strip()"
   ]
  },
  {
   "cell_type": "code",
   "execution_count": 10,
   "id": "eeb858c9",
   "metadata": {},
   "outputs": [
    {
     "data": {
      "text/plain": [
       "True"
      ]
     },
     "execution_count": 10,
     "metadata": {},
     "output_type": "execute_result"
    }
   ],
   "source": [
    "s1.strip() == s2.strip()"
   ]
  },
  {
   "cell_type": "code",
   "execution_count": 14,
   "id": "38e0e359",
   "metadata": {},
   "outputs": [],
   "source": [
    "class Model(BaseModel):\n",
    "    model_config = ConfigDict(str_strip_whitespace = True)\n",
    "    field: str"
   ]
  },
  {
   "cell_type": "code",
   "execution_count": 15,
   "id": "363a0674",
   "metadata": {},
   "outputs": [],
   "source": [
    "m1 = Model(field=\"    python     \")"
   ]
  },
  {
   "cell_type": "code",
   "execution_count": 16,
   "id": "5545a271",
   "metadata": {},
   "outputs": [],
   "source": [
    "m2 = Model(field=\" python     \\t\\n\")"
   ]
  },
  {
   "cell_type": "code",
   "execution_count": 17,
   "id": "d0cf614c",
   "metadata": {},
   "outputs": [
    {
     "data": {
      "text/plain": [
       "True"
      ]
     },
     "execution_count": 17,
     "metadata": {},
     "output_type": "execute_result"
    }
   ],
   "source": [
    "m1 == m2"
   ]
  },
  {
   "cell_type": "code",
   "execution_count": 18,
   "id": "c696a731",
   "metadata": {},
   "outputs": [
    {
     "data": {
      "text/plain": [
       "True"
      ]
     },
     "execution_count": 18,
     "metadata": {},
     "output_type": "execute_result"
    }
   ],
   "source": [
    "m1.field == m2.field"
   ]
  },
  {
   "cell_type": "code",
   "execution_count": 19,
   "id": "2935f95d",
   "metadata": {},
   "outputs": [],
   "source": [
    "class Model(BaseModel):\n",
    "    model_config = ConfigDict(str_strip_whitespace = True, str_to_lower=True)\n",
    "    field: str"
   ]
  },
  {
   "cell_type": "code",
   "execution_count": 20,
   "id": "cffac0da",
   "metadata": {},
   "outputs": [],
   "source": [
    "m1 = Model(field=\"    PYTHON     \")"
   ]
  },
  {
   "cell_type": "code",
   "execution_count": 21,
   "id": "4c8a55ea",
   "metadata": {},
   "outputs": [],
   "source": [
    "m2 = Model(field=\" Python     \\t\\n\")"
   ]
  },
  {
   "cell_type": "code",
   "execution_count": 22,
   "id": "18fdcb64",
   "metadata": {},
   "outputs": [
    {
     "data": {
      "text/plain": [
       "True"
      ]
     },
     "execution_count": 22,
     "metadata": {},
     "output_type": "execute_result"
    }
   ],
   "source": [
    "m1 == m2"
   ]
  },
  {
   "cell_type": "code",
   "execution_count": 23,
   "id": "22b2fd2e",
   "metadata": {},
   "outputs": [],
   "source": [
    "class Model(BaseModel):\n",
    "    model_config = ConfigDict(str_strip_whitespace = True, str_to_upper= True, str_to_lower=True)\n",
    "    field: str"
   ]
  },
  {
   "cell_type": "code",
   "execution_count": 25,
   "id": "ba3d50df",
   "metadata": {},
   "outputs": [],
   "source": [
    "m1 = Model(field=\"    PYTHON     \")\n",
    "m2 = Model(field=\" Python     \\t\\n\")"
   ]
  },
  {
   "cell_type": "code",
   "execution_count": 26,
   "id": "e90fa6a8",
   "metadata": {},
   "outputs": [
    {
     "data": {
      "text/plain": [
       "True"
      ]
     },
     "execution_count": 26,
     "metadata": {},
     "output_type": "execute_result"
    }
   ],
   "source": [
    "m1 == m2"
   ]
  },
  {
   "cell_type": "code",
   "execution_count": 27,
   "id": "cb667a35",
   "metadata": {},
   "outputs": [
    {
     "data": {
      "text/plain": [
       "Model(field='python')"
      ]
     },
     "execution_count": 27,
     "metadata": {},
     "output_type": "execute_result"
    }
   ],
   "source": [
    "m1"
   ]
  },
  {
   "cell_type": "code",
   "execution_count": 34,
   "id": "0535d2c7",
   "metadata": {},
   "outputs": [
    {
     "data": {
      "text/plain": [
       "Model(field='python')"
      ]
     },
     "execution_count": 34,
     "metadata": {},
     "output_type": "execute_result"
    }
   ],
   "source": [
    "m2"
   ]
  },
  {
   "cell_type": "code",
   "execution_count": 35,
   "id": "623c49b9",
   "metadata": {},
   "outputs": [
    {
     "data": {
      "text/plain": [
       "True"
      ]
     },
     "execution_count": 35,
     "metadata": {},
     "output_type": "execute_result"
    }
   ],
   "source": [
    "class Model(BaseModel):\n",
    "    model_config = ConfigDict(str_strip_whitespace = True, str_to_lower=True, str_to_upper= True)\n",
    "    field: str\n",
    "    \n",
    "m1 = Model(field=\"    PYTHON     \")\n",
    "m2 = Model(field=\" Python     \\t\\n\")\n",
    "\n",
    "m1 == m2"
   ]
  },
  {
   "cell_type": "code",
   "execution_count": 36,
   "id": "e57f40af",
   "metadata": {},
   "outputs": [
    {
     "data": {
      "text/plain": [
       "Model(field='python')"
      ]
     },
     "execution_count": 36,
     "metadata": {},
     "output_type": "execute_result"
    }
   ],
   "source": [
    "m1"
   ]
  },
  {
   "cell_type": "code",
   "execution_count": null,
   "id": "afed2b07",
   "metadata": {},
   "outputs": [],
   "source": []
  }
 ],
 "metadata": {
  "kernelspec": {
   "display_name": "Python 3 (ipykernel)",
   "language": "python",
   "name": "python3"
  },
  "language_info": {
   "codemirror_mode": {
    "name": "ipython",
    "version": 3
   },
   "file_extension": ".py",
   "mimetype": "text/x-python",
   "name": "python",
   "nbconvert_exporter": "python",
   "pygments_lexer": "ipython3",
   "version": "3.10.12"
  }
 },
 "nbformat": 4,
 "nbformat_minor": 5
}
