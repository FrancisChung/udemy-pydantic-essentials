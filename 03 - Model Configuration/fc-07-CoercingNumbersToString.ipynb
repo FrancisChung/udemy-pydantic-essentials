{
 "cells": [
  {
   "cell_type": "code",
   "execution_count": 2,
   "id": "c39a0b5f",
   "metadata": {},
   "outputs": [],
   "source": [
    "from pydantic import BaseModel, ConfigDict, ValidationError"
   ]
  },
  {
   "cell_type": "code",
   "execution_count": 3,
   "id": "0bbc4cf0",
   "metadata": {},
   "outputs": [],
   "source": [
    "class Model(BaseModel):\n",
    "    field: str"
   ]
  },
  {
   "cell_type": "code",
   "execution_count": 4,
   "id": "4c5c961b",
   "metadata": {},
   "outputs": [
    {
     "name": "stdout",
     "output_type": "stream",
     "text": [
      "1 validation error for Model\n",
      "field\n",
      "  Input should be a valid string [type=string_type, input_value=100, input_type=int]\n",
      "    For further information visit https://errors.pydantic.dev/2.9/v/string_type\n"
     ]
    }
   ],
   "source": [
    "try:\n",
    "    Model(field=100)\n",
    "except ValidationError as ex:\n",
    "    print(ex)"
   ]
  },
  {
   "cell_type": "code",
   "execution_count": 5,
   "id": "55ee405b",
   "metadata": {},
   "outputs": [],
   "source": [
    "class Model(BaseModel):\n",
    "    model_config = ConfigDict(coerce_numbers_to_str=True)\n",
    "    field: str"
   ]
  },
  {
   "cell_type": "code",
   "execution_count": 6,
   "id": "d0e6fd97",
   "metadata": {},
   "outputs": [],
   "source": [
    "try:\n",
    "    Model(field=100)\n",
    "except ValidationError as ex:\n",
    "    print(ex)"
   ]
  },
  {
   "cell_type": "code",
   "execution_count": 7,
   "id": "3aa6edb4",
   "metadata": {},
   "outputs": [
    {
     "data": {
      "text/plain": [
       "Model(field='100')"
      ]
     },
     "execution_count": 7,
     "metadata": {},
     "output_type": "execute_result"
    }
   ],
   "source": [
    "Model(field=100)"
   ]
  },
  {
   "cell_type": "code",
   "execution_count": 8,
   "id": "c9f51bd3",
   "metadata": {},
   "outputs": [
    {
     "data": {
      "text/plain": [
       "Model(field='1.5')"
      ]
     },
     "execution_count": 8,
     "metadata": {},
     "output_type": "execute_result"
    }
   ],
   "source": [
    "Model(field=1.5)"
   ]
  },
  {
   "cell_type": "code",
   "execution_count": 9,
   "id": "e1a90a67",
   "metadata": {},
   "outputs": [],
   "source": [
    "class Model(BaseModel):\n",
    "    model_config = ConfigDict(coerce_numbers_to_str=True, strict=True)\n",
    "    field: str"
   ]
  },
  {
   "cell_type": "code",
   "execution_count": 10,
   "id": "60ba0c8f",
   "metadata": {},
   "outputs": [
    {
     "name": "stdout",
     "output_type": "stream",
     "text": [
      "1 validation error for Model\n",
      "field\n",
      "  Input should be a valid string [type=string_type, input_value=100, input_type=int]\n",
      "    For further information visit https://errors.pydantic.dev/2.9/v/string_type\n"
     ]
    }
   ],
   "source": [
    "try:\n",
    "    Model(field=100)\n",
    "except ValidationError as ex:\n",
    "    print(ex)"
   ]
  },
  {
   "cell_type": "code",
   "execution_count": null,
   "id": "e2ef02dc",
   "metadata": {},
   "outputs": [],
   "source": []
  }
 ],
 "metadata": {
  "kernelspec": {
   "display_name": "Python 3 (ipykernel)",
   "language": "python",
   "name": "python3"
  },
  "language_info": {
   "codemirror_mode": {
    "name": "ipython",
    "version": 3
   },
   "file_extension": ".py",
   "mimetype": "text/x-python",
   "name": "python",
   "nbconvert_exporter": "python",
   "pygments_lexer": "ipython3",
   "version": "3.10.12"
  }
 },
 "nbformat": 4,
 "nbformat_minor": 5
}
