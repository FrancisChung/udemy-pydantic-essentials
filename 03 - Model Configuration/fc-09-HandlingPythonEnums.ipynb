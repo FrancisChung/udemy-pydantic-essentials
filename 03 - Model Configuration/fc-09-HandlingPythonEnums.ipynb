{
 "cells": [
  {
   "cell_type": "code",
   "execution_count": 56,
   "id": "9a41f2d6",
   "metadata": {},
   "outputs": [],
   "source": [
    "from pydantic import BaseModel, ConfigDict, ValidationError\n",
    "from enum import Enum"
   ]
  },
  {
   "cell_type": "code",
   "execution_count": 57,
   "id": "61d8a9c7",
   "metadata": {},
   "outputs": [],
   "source": [
    "class Color(Enum):\n",
    "    red = \"Red\"\n",
    "    green = \"Green\"\n",
    "    blue = \"Blue\"\n",
    "    orange = \"Orange\"\n",
    "    yellow = \"Yellow\"\n",
    "    cyan = \"Cyan\""
   ]
  },
  {
   "cell_type": "code",
   "execution_count": 58,
   "id": "885c102f",
   "metadata": {},
   "outputs": [
    {
     "data": {
      "text/plain": [
       "<Color.red: 'Red'>"
      ]
     },
     "execution_count": 58,
     "metadata": {},
     "output_type": "execute_result"
    }
   ],
   "source": [
    "Color.red"
   ]
  },
  {
   "cell_type": "code",
   "execution_count": 59,
   "id": "39bc5c08",
   "metadata": {},
   "outputs": [
    {
     "data": {
      "text/plain": [
       "<enum 'Color'>"
      ]
     },
     "execution_count": 59,
     "metadata": {},
     "output_type": "execute_result"
    }
   ],
   "source": [
    "type(Color.red)"
   ]
  },
  {
   "cell_type": "code",
   "execution_count": 60,
   "id": "4e70ae4d",
   "metadata": {},
   "outputs": [
    {
     "data": {
      "text/plain": [
       "'Red'"
      ]
     },
     "execution_count": 60,
     "metadata": {},
     "output_type": "execute_result"
    }
   ],
   "source": [
    "Color.red.value"
   ]
  },
  {
   "cell_type": "code",
   "execution_count": 61,
   "id": "635559bb",
   "metadata": {},
   "outputs": [],
   "source": [
    "class Model(BaseModel):\n",
    "    color: Color"
   ]
  },
  {
   "cell_type": "code",
   "execution_count": 62,
   "id": "9387f73f",
   "metadata": {},
   "outputs": [
    {
     "data": {
      "text/plain": [
       "Model(color=<Color.red: 'Red'>)"
      ]
     },
     "execution_count": 62,
     "metadata": {},
     "output_type": "execute_result"
    }
   ],
   "source": [
    "Model(color = Color.red)"
   ]
  },
  {
   "cell_type": "code",
   "execution_count": 72,
   "id": "c0322afb",
   "metadata": {},
   "outputs": [],
   "source": [
    "data = \"\"\"\n",
    "{\n",
    "    \"color\": \"Red\"\n",
    "}\n",
    "\"\"\""
   ]
  },
  {
   "cell_type": "code",
   "execution_count": 73,
   "id": "307ac3e9",
   "metadata": {},
   "outputs": [
    {
     "data": {
      "text/plain": [
       "'\\n{\\n    \"color\": \"Red\"\\n}\\n'"
      ]
     },
     "execution_count": 73,
     "metadata": {},
     "output_type": "execute_result"
    }
   ],
   "source": [
    "data"
   ]
  },
  {
   "cell_type": "code",
   "execution_count": 74,
   "id": "55accefa",
   "metadata": {},
   "outputs": [
    {
     "data": {
      "text/plain": [
       "Model(color='Red')"
      ]
     },
     "execution_count": 74,
     "metadata": {},
     "output_type": "execute_result"
    }
   ],
   "source": [
    "Model.model_validate_json(data)"
   ]
  },
  {
   "cell_type": "code",
   "execution_count": 87,
   "id": "f4378ef7",
   "metadata": {},
   "outputs": [
    {
     "data": {
      "text/plain": [
       "Model(color='Red')"
      ]
     },
     "execution_count": 87,
     "metadata": {},
     "output_type": "execute_result"
    }
   ],
   "source": [
    "Model(color=Color.red.value)"
   ]
  },
  {
   "cell_type": "code",
   "execution_count": 88,
   "id": "b0262033",
   "metadata": {},
   "outputs": [],
   "source": [
    "class Model(BaseModel):\n",
    "    model_config = ConfigDict(use_enum_values=True)\n",
    "    color: Color"
   ]
  },
  {
   "cell_type": "code",
   "execution_count": 89,
   "id": "eff68139",
   "metadata": {},
   "outputs": [],
   "source": [
    "m = Model(color = Color.red)"
   ]
  },
  {
   "cell_type": "markdown",
   "id": "51d51e97",
   "metadata": {},
   "source": [
    "m"
   ]
  },
  {
   "cell_type": "code",
   "execution_count": 84,
   "id": "b2087f60",
   "metadata": {},
   "outputs": [
    {
     "data": {
      "text/plain": [
       "__main__.Model"
      ]
     },
     "execution_count": 84,
     "metadata": {},
     "output_type": "execute_result"
    }
   ],
   "source": [
    "type(Model(color = Color.red))"
   ]
  },
  {
   "cell_type": "code",
   "execution_count": 86,
   "id": "5de5e16e",
   "metadata": {},
   "outputs": [
    {
     "data": {
      "text/plain": [
       "{'color': 'Red'}"
      ]
     },
     "execution_count": 86,
     "metadata": {},
     "output_type": "execute_result"
    }
   ],
   "source": [
    "m.model_dump()"
   ]
  },
  {
   "cell_type": "code",
   "execution_count": 91,
   "id": "8f145770",
   "metadata": {},
   "outputs": [],
   "source": [
    "class Model(BaseModel):\n",
    "    model_config = ConfigDict(use_enum_values=True)\n",
    "    color: Color.red.value"
   ]
  },
  {
   "cell_type": "markdown",
   "id": "82abff80",
   "metadata": {},
   "source": [
    "m = Model()\n",
    "model()\n"
   ]
  },
  {
   "cell_type": "code",
   "execution_count": 101,
   "id": "f9651a3a",
   "metadata": {},
   "outputs": [],
   "source": [
    "class Model(BaseModel):\n",
    "    model_config = ConfigDict(use_enum_values=True, Validate_Default=True)\n",
    "    color: Color = Color.red"
   ]
  },
  {
   "cell_type": "code",
   "execution_count": 105,
   "id": "375cfbb1",
   "metadata": {},
   "outputs": [
    {
     "data": {
      "text/plain": [
       "Model(color='Red')"
      ]
     },
     "execution_count": 105,
     "metadata": {},
     "output_type": "execute_result"
    }
   ],
   "source": [
    "m = Model(color = 'Red')\n",
    "m"
   ]
  },
  {
   "cell_type": "code",
   "execution_count": null,
   "id": "ec40c02f",
   "metadata": {},
   "outputs": [],
   "source": []
  }
 ],
 "metadata": {
  "kernelspec": {
   "display_name": "Python 3 (ipykernel)",
   "language": "python",
   "name": "python3"
  },
  "language_info": {
   "codemirror_mode": {
    "name": "ipython",
    "version": 3
   },
   "file_extension": ".py",
   "mimetype": "text/x-python",
   "name": "python",
   "nbconvert_exporter": "python",
   "pygments_lexer": "ipython3",
   "version": "3.10.12"
  }
 },
 "nbformat": 4,
 "nbformat_minor": 5
}
