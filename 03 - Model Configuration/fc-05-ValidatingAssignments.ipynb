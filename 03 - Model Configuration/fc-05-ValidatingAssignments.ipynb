{
 "cells": [
  {
   "cell_type": "code",
   "execution_count": 1,
   "id": "9fe6ddb8",
   "metadata": {},
   "outputs": [],
   "source": [
    "from pydantic import ConfigDict, ValidationError, BaseModel"
   ]
  },
  {
   "cell_type": "code",
   "execution_count": 4,
   "id": "a4e96900",
   "metadata": {},
   "outputs": [],
   "source": [
    "class Model(BaseModel):\n",
    "    field: int"
   ]
  },
  {
   "cell_type": "code",
   "execution_count": 5,
   "id": "c3cc6cc1",
   "metadata": {},
   "outputs": [],
   "source": [
    "m = Model(field=10)"
   ]
  },
  {
   "cell_type": "code",
   "execution_count": 6,
   "id": "9398f2bd",
   "metadata": {},
   "outputs": [],
   "source": [
    "m.field = \"Python\""
   ]
  },
  {
   "cell_type": "code",
   "execution_count": 7,
   "id": "26d75958",
   "metadata": {},
   "outputs": [
    {
     "data": {
      "text/plain": [
       "Model(field='Python')"
      ]
     },
     "execution_count": 7,
     "metadata": {},
     "output_type": "execute_result"
    }
   ],
   "source": [
    "m"
   ]
  },
  {
   "cell_type": "code",
   "execution_count": 13,
   "id": "8e3b3cc7",
   "metadata": {},
   "outputs": [],
   "source": [
    "class Model(BaseModel):\n",
    "    model_config = ConfigDict(validate_assignment=True)\n",
    "    field: int"
   ]
  },
  {
   "cell_type": "code",
   "execution_count": 14,
   "id": "3c405575",
   "metadata": {},
   "outputs": [],
   "source": [
    "m = Model(field=100)"
   ]
  },
  {
   "cell_type": "code",
   "execution_count": 15,
   "id": "5553fe01",
   "metadata": {},
   "outputs": [
    {
     "name": "stdout",
     "output_type": "stream",
     "text": [
      "1 validation error for Model\n",
      "field\n",
      "  Input should be a valid integer, unable to parse string as an integer [type=int_parsing, input_value='Pything', input_type=str]\n",
      "    For further information visit https://errors.pydantic.dev/2.9/v/int_parsing\n"
     ]
    }
   ],
   "source": [
    "try:\n",
    "    m.field = \"Pything\"\n",
    "except ValidationError as ex:\n",
    "    print(ex)"
   ]
  },
  {
   "cell_type": "code",
   "execution_count": null,
   "id": "903c4485",
   "metadata": {},
   "outputs": [],
   "source": []
  },
  {
   "cell_type": "code",
   "execution_count": null,
   "id": "eef19b3a",
   "metadata": {},
   "outputs": [],
   "source": []
  }
 ],
 "metadata": {
  "kernelspec": {
   "display_name": "Python 3 (ipykernel)",
   "language": "python",
   "name": "python3"
  },
  "language_info": {
   "codemirror_mode": {
    "name": "ipython",
    "version": 3
   },
   "file_extension": ".py",
   "mimetype": "text/x-python",
   "name": "python",
   "nbconvert_exporter": "python",
   "pygments_lexer": "ipython3",
   "version": "3.10.12"
  }
 },
 "nbformat": 4,
 "nbformat_minor": 5
}
