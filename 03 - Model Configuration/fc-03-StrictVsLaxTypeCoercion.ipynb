{
 "cells": [
  {
   "cell_type": "code",
   "execution_count": 14,
   "id": "a69e4892",
   "metadata": {},
   "outputs": [],
   "source": [
    "import json\n",
    "from pprint import pprint"
   ]
  },
  {
   "cell_type": "code",
   "execution_count": 17,
   "id": "418712fd",
   "metadata": {},
   "outputs": [],
   "source": [
    "json_data = '''\n",
    "{\n",
    "    \"field_1\": true,\n",
    "    \"field_2\": 10.5,\n",
    "    \"field_3\": 10,\n",
    "    \"field_4\": null,\n",
    "    \"field_5\": [1,2,3],\n",
    "    \"field_6\": {\n",
    "        \"a\": 1,\n",
    "        \"b\": 2,\n",
    "        \"c\": [3,4,5]\n",
    "    },\n",
    "    \"field_7\": [\n",
    "        [1,0,0],\n",
    "        [0,1,0],\n",
    "        [0,0,1]\n",
    "    ]\n",
    "}\n",
    "'''"
   ]
  },
  {
   "cell_type": "code",
   "execution_count": 18,
   "id": "f42492ba",
   "metadata": {},
   "outputs": [
    {
     "name": "stdout",
     "output_type": "stream",
     "text": [
      "{'field_1': True,\n",
      " 'field_2': 10.5,\n",
      " 'field_3': 10,\n",
      " 'field_4': None,\n",
      " 'field_5': [1, 2, 3],\n",
      " 'field_6': {'a': 1, 'b': 2, 'c': [3, 4, 5]},\n",
      " 'field_7': [[1, 0, 0], [0, 1, 0], [0, 0, 1]]}\n"
     ]
    }
   ],
   "source": [
    "data = json.loads(json_data)\n",
    "pprint(data)"
   ]
  },
  {
   "cell_type": "code",
   "execution_count": 19,
   "id": "51b198de",
   "metadata": {},
   "outputs": [
    {
     "data": {
      "text/plain": [
       "int"
      ]
     },
     "execution_count": 19,
     "metadata": {},
     "output_type": "execute_result"
    }
   ],
   "source": [
    "type(data['field_3'])"
   ]
  },
  {
   "cell_type": "code",
   "execution_count": 31,
   "id": "48e3e82d",
   "metadata": {},
   "outputs": [],
   "source": [
    "json_data = '''\n",
    "{'field_1': True,\n",
    " 'field_2': 10.5,\n",
    " 'field_3': 10,\n",
    " 'field_4': None,\n",
    " 'field_5': [1, 2, 3],\n",
    " 'field_6': {'a': 1, 'b': 2, 'c': [3, 4, 5]},\n",
    " 'field_7': [[1, 0, 0], [0, 1, 0], [0, 0, 1]]}\n",
    "'''"
   ]
  },
  {
   "cell_type": "code",
   "execution_count": 82,
   "id": "c460fdab",
   "metadata": {},
   "outputs": [],
   "source": [
    "json_data = '''\n",
    "{\n",
    " \"field_1\": true,\n",
    " \"field_2\": 10,\n",
    " \"field_3\": 1,\n",
    " \"field_4\": null,\n",
    " \"field_5\": [1, 2, 3],\n",
    " \"field_6\": [\"a\", \"b\", \"c\"],\n",
    " \"field_7\": {\"a\":1 , \"b\":2}\n",
    " }\n",
    "'''"
   ]
  },
  {
   "cell_type": "code",
   "execution_count": 83,
   "id": "9cbc3448",
   "metadata": {},
   "outputs": [
    {
     "name": "stdout",
     "output_type": "stream",
     "text": [
      "('\\n'\n",
      " '{\\n'\n",
      " ' \"field_1\": true,\\n'\n",
      " ' \"field_2\": 10,\\n'\n",
      " ' \"field_3\": 1,\\n'\n",
      " ' \"field_4\": null,\\n'\n",
      " ' \"field_5\": [1, 2, 3],\\n'\n",
      " ' \"field_6\": [\"a\", \"b\", \"c\"],\\n'\n",
      " ' \"field_7\": {\"a\":1 , \"b\":2}\\n'\n",
      " ' }\\n')\n"
     ]
    }
   ],
   "source": [
    "pprint(json_data)"
   ]
  },
  {
   "cell_type": "code",
   "execution_count": 84,
   "id": "e3de890e",
   "metadata": {},
   "outputs": [],
   "source": [
    "from typing import List\n",
    "from pydantic import BaseModel\n",
    "class Model(BaseModel):\n",
    "    field_1: bool\n",
    "    field_2: float\n",
    "    field_3: int\n",
    "    field_4: str | None\n",
    "    field_5: tuple[int, ...]\n",
    "    field_6: set[str]\n",
    "    field_7: dict"
   ]
  },
  {
   "cell_type": "code",
   "execution_count": 85,
   "id": "3d733d2a",
   "metadata": {},
   "outputs": [],
   "source": [
    "data = Model.model_validate_json(json_data)"
   ]
  },
  {
   "cell_type": "code",
   "execution_count": null,
   "id": "8dad4652",
   "metadata": {},
   "outputs": [],
   "source": []
  }
 ],
 "metadata": {
  "kernelspec": {
   "display_name": "Python 3 (ipykernel)",
   "language": "python",
   "name": "python3"
  },
  "language_info": {
   "codemirror_mode": {
    "name": "ipython",
    "version": 3
   },
   "file_extension": ".py",
   "mimetype": "text/x-python",
   "name": "python",
   "nbconvert_exporter": "python",
   "pygments_lexer": "ipython3",
   "version": "3.10.12"
  }
 },
 "nbformat": 4,
 "nbformat_minor": 5
}
