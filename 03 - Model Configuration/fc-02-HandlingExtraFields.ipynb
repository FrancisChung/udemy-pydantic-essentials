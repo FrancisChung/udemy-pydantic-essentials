{
 "cells": [
  {
   "cell_type": "code",
   "execution_count": 1,
   "id": "4e8ae5ef",
   "metadata": {},
   "outputs": [],
   "source": [
    "from pydantic import BaseModel, ConfigDict, ValidationError"
   ]
  },
  {
   "cell_type": "code",
   "execution_count": 2,
   "id": "5523178d",
   "metadata": {},
   "outputs": [],
   "source": [
    "class Model(BaseModel):\n",
    "    field_1 : int"
   ]
  },
  {
   "cell_type": "code",
   "execution_count": 3,
   "id": "1067cff6",
   "metadata": {},
   "outputs": [],
   "source": [
    "m = Model(field_1=10, field_2=20)"
   ]
  },
  {
   "cell_type": "code",
   "execution_count": 4,
   "id": "0def64dc",
   "metadata": {},
   "outputs": [
    {
     "data": {
      "text/plain": [
       "Model(field_1=10)"
      ]
     },
     "execution_count": 4,
     "metadata": {},
     "output_type": "execute_result"
    }
   ],
   "source": [
    "m"
   ]
  },
  {
   "cell_type": "code",
   "execution_count": 5,
   "id": "63685143",
   "metadata": {},
   "outputs": [
    {
     "data": {
      "text/plain": [
       "{'field_1': 10}"
      ]
     },
     "execution_count": 5,
     "metadata": {},
     "output_type": "execute_result"
    }
   ],
   "source": [
    "dict(m)"
   ]
  },
  {
   "cell_type": "code",
   "execution_count": 6,
   "id": "0788e869",
   "metadata": {},
   "outputs": [],
   "source": [
    "m.model_extra"
   ]
  },
  {
   "cell_type": "code",
   "execution_count": 7,
   "id": "59d1c2f0",
   "metadata": {},
   "outputs": [
    {
     "data": {
      "text/plain": [
       "NoneType"
      ]
     },
     "execution_count": 7,
     "metadata": {},
     "output_type": "execute_result"
    }
   ],
   "source": [
    "type(m.model_extra)"
   ]
  },
  {
   "cell_type": "code",
   "execution_count": 9,
   "id": "f80be2df",
   "metadata": {},
   "outputs": [],
   "source": [
    "class Model(BaseModel):\n",
    "    model_config = ConfigDict(extra='ignore')\n",
    "    field_1 : int"
   ]
  },
  {
   "cell_type": "code",
   "execution_count": 17,
   "id": "8cb75d09",
   "metadata": {},
   "outputs": [],
   "source": [
    "class Model(BaseModel):\n",
    "    model_config = ConfigDict(extra='allow')\n",
    "    field_1 : int"
   ]
  },
  {
   "cell_type": "code",
   "execution_count": 18,
   "id": "a2f38dc8",
   "metadata": {},
   "outputs": [],
   "source": [
    "m = Model(field_1=10, field_2=20)"
   ]
  },
  {
   "cell_type": "code",
   "execution_count": 19,
   "id": "ed073528",
   "metadata": {},
   "outputs": [
    {
     "data": {
      "text/plain": [
       "Model(field_1=10, field_2=20)"
      ]
     },
     "execution_count": 19,
     "metadata": {},
     "output_type": "execute_result"
    }
   ],
   "source": [
    "m"
   ]
  },
  {
   "cell_type": "code",
   "execution_count": 13,
   "id": "25616db6",
   "metadata": {},
   "outputs": [
    {
     "data": {
      "text/plain": [
       "{'field_1': 10, 'field_2': 20}"
      ]
     },
     "execution_count": 13,
     "metadata": {},
     "output_type": "execute_result"
    }
   ],
   "source": [
    "dict(m)"
   ]
  },
  {
   "cell_type": "code",
   "execution_count": 21,
   "id": "6bc5b2df",
   "metadata": {},
   "outputs": [
    {
     "data": {
      "text/plain": [
       "{'field_1': FieldInfo(annotation=int, required=True)}"
      ]
     },
     "execution_count": 21,
     "metadata": {},
     "output_type": "execute_result"
    }
   ],
   "source": [
    "m.model_fields"
   ]
  },
  {
   "cell_type": "code",
   "execution_count": 23,
   "id": "634656e6",
   "metadata": {},
   "outputs": [
    {
     "data": {
      "text/plain": [
       "{'field_1', 'field_2'}"
      ]
     },
     "execution_count": 23,
     "metadata": {},
     "output_type": "execute_result"
    }
   ],
   "source": [
    "m.model_fields_set"
   ]
  },
  {
   "cell_type": "code",
   "execution_count": 24,
   "id": "f2adb2f3",
   "metadata": {},
   "outputs": [
    {
     "data": {
      "text/plain": [
       "{'field_2': 20}"
      ]
     },
     "execution_count": 24,
     "metadata": {},
     "output_type": "execute_result"
    }
   ],
   "source": [
    "m.model_extra"
   ]
  },
  {
   "cell_type": "code",
   "execution_count": 14,
   "id": "ceb42ac3",
   "metadata": {},
   "outputs": [],
   "source": [
    "class Model(BaseModel):\n",
    "    model_config = ConfigDict(extra='forbid')\n",
    "    field_1 : int"
   ]
  },
  {
   "cell_type": "code",
   "execution_count": 15,
   "id": "f4209e57",
   "metadata": {},
   "outputs": [
    {
     "ename": "ValidationError",
     "evalue": "1 validation error for Model\nfield_2\n  Extra inputs are not permitted [type=extra_forbidden, input_value=20, input_type=int]\n    For further information visit https://errors.pydantic.dev/2.9/v/extra_forbidden",
     "output_type": "error",
     "traceback": [
      "\u001b[0;31m---------------------------------------------------------------------------\u001b[0m",
      "\u001b[0;31mValidationError\u001b[0m                           Traceback (most recent call last)",
      "\u001b[0;32m/tmp/ipykernel_8477/3446013353.py\u001b[0m in \u001b[0;36m<module>\u001b[0;34m\u001b[0m\n\u001b[0;32m----> 1\u001b[0;31m \u001b[0mm\u001b[0m \u001b[0;34m=\u001b[0m \u001b[0mModel\u001b[0m\u001b[0;34m(\u001b[0m\u001b[0mfield_1\u001b[0m\u001b[0;34m=\u001b[0m\u001b[0;36m10\u001b[0m\u001b[0;34m,\u001b[0m \u001b[0mfield_2\u001b[0m\u001b[0;34m=\u001b[0m\u001b[0;36m20\u001b[0m\u001b[0;34m)\u001b[0m\u001b[0;34m\u001b[0m\u001b[0;34m\u001b[0m\u001b[0m\n\u001b[0m",
      "\u001b[0;32m~/.local/lib/python3.10/site-packages/pydantic/main.py\u001b[0m in \u001b[0;36m__init__\u001b[0;34m(self, **data)\u001b[0m\n\u001b[1;32m    210\u001b[0m         \u001b[0;31m# `__tracebackhide__` tells pytest and some other tools to omit this function from tracebacks\u001b[0m\u001b[0;34m\u001b[0m\u001b[0;34m\u001b[0m\u001b[0m\n\u001b[1;32m    211\u001b[0m         \u001b[0m__tracebackhide__\u001b[0m \u001b[0;34m=\u001b[0m \u001b[0;32mTrue\u001b[0m\u001b[0;34m\u001b[0m\u001b[0;34m\u001b[0m\u001b[0m\n\u001b[0;32m--> 212\u001b[0;31m         \u001b[0mvalidated_self\u001b[0m \u001b[0;34m=\u001b[0m \u001b[0mself\u001b[0m\u001b[0;34m.\u001b[0m\u001b[0m__pydantic_validator__\u001b[0m\u001b[0;34m.\u001b[0m\u001b[0mvalidate_python\u001b[0m\u001b[0;34m(\u001b[0m\u001b[0mdata\u001b[0m\u001b[0;34m,\u001b[0m \u001b[0mself_instance\u001b[0m\u001b[0;34m=\u001b[0m\u001b[0mself\u001b[0m\u001b[0;34m)\u001b[0m\u001b[0;34m\u001b[0m\u001b[0;34m\u001b[0m\u001b[0m\n\u001b[0m\u001b[1;32m    213\u001b[0m         \u001b[0;32mif\u001b[0m \u001b[0mself\u001b[0m \u001b[0;32mis\u001b[0m \u001b[0;32mnot\u001b[0m \u001b[0mvalidated_self\u001b[0m\u001b[0;34m:\u001b[0m\u001b[0;34m\u001b[0m\u001b[0;34m\u001b[0m\u001b[0m\n\u001b[1;32m    214\u001b[0m             warnings.warn(\n",
      "\u001b[0;31mValidationError\u001b[0m: 1 validation error for Model\nfield_2\n  Extra inputs are not permitted [type=extra_forbidden, input_value=20, input_type=int]\n    For further information visit https://errors.pydantic.dev/2.9/v/extra_forbidden"
     ]
    }
   ],
   "source": [
    "m = Model(field_1=10, field_2=20)"
   ]
  },
  {
   "cell_type": "code",
   "execution_count": 16,
   "id": "c668dc68",
   "metadata": {},
   "outputs": [
    {
     "name": "stdout",
     "output_type": "stream",
     "text": [
      "1 validation error for Model\n",
      "field_2\n",
      "  Extra inputs are not permitted [type=extra_forbidden, input_value=20, input_type=int]\n",
      "    For further information visit https://errors.pydantic.dev/2.9/v/extra_forbidden\n"
     ]
    }
   ],
   "source": [
    "try:\n",
    "    Model(field_1=10, field_2=20)\n",
    "except ValidationError as ex:\n",
    "    print(ex)"
   ]
  },
  {
   "cell_type": "code",
   "execution_count": 25,
   "id": "be801bd3",
   "metadata": {},
   "outputs": [
    {
     "data": {
      "text/plain": [
       "{'extra': 'allow'}"
      ]
     },
     "execution_count": 25,
     "metadata": {},
     "output_type": "execute_result"
    }
   ],
   "source": [
    "Model.model_config"
   ]
  },
  {
   "cell_type": "code",
   "execution_count": null,
   "id": "b8544df8",
   "metadata": {},
   "outputs": [],
   "source": []
  }
 ],
 "metadata": {
  "kernelspec": {
   "display_name": "Python 3 (ipykernel)",
   "language": "python",
   "name": "python3"
  },
  "language_info": {
   "codemirror_mode": {
    "name": "ipython",
    "version": 3
   },
   "file_extension": ".py",
   "mimetype": "text/x-python",
   "name": "python",
   "nbconvert_exporter": "python",
   "pygments_lexer": "ipython3",
   "version": "3.10.12"
  }
 },
 "nbformat": 4,
 "nbformat_minor": 5
}
