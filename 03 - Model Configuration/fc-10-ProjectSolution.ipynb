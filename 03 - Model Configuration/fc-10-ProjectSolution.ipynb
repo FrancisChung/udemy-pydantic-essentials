{
 "cells": [
  {
   "cell_type": "code",
   "execution_count": 12,
   "id": "f3a34a90",
   "metadata": {},
   "outputs": [],
   "source": [
    "from pydantic import BaseModel, ValidationError, ConfigDict\n",
    "from datetime import date\n",
    "from enum import Enum\n",
    "\n",
    "class AutomobileType(Enum):\n",
    "    sedan = \"Sedan\"\n",
    "    coupe = \"Coupe\"\n",
    "    convertible = \"Convertible\"\n",
    "    suv = \"SUV\"\n",
    "    truck = \"Truck\"\n",
    "\n",
    "class Automobile(BaseModel):\n",
    "    model_config = ConfigDict(\n",
    "        extra='forbid',\n",
    "        str_strip_whitespace = True,\n",
    "        validate_defaults = True,\n",
    "        validate_assignments = True\n",
    "    )\n",
    "    manufacturer: str\n",
    "    series_name: str\n",
    "    type_: AutomobileType\n",
    "    is_electric: bool = False\n",
    "    manufactured_date: date\n",
    "    base_msrp_usd: float \n",
    "    vin: str\n",
    "    number_of_doors: int = 4\n",
    "    registration_country: str | None = None\n",
    "    license_plate: str | None = None\n",
    "    \n"
   ]
  },
  {
   "cell_type": "code",
   "execution_count": 26,
   "id": "35c3f4dd",
   "metadata": {},
   "outputs": [],
   "source": [
    "data = {\n",
    "    \"manufacturer\": \"BMW\",\n",
    "    \"series_name\": \"M4\",\n",
    "    \"type_\": \"Convertible\",\n",
    "    \"is_electric\": False,\n",
    "    \"manufactured_date\": \"2023-01-01\",\n",
    "    \"base_msrp_usd\": 93_300,\n",
    "    \"vin\": \"1234567890\",\n",
    "    \"number_of_doors\": 2,\n",
    "    \"registration_country\": \"France\",\n",
    "    \"license_plate\": \"AAA-BBB\",\n",
    "}\n",
    "\n",
    "data_expected_serialization = {\n",
    "    'manufacturer': 'BMW',\n",
    "    'series_name': 'M4',\n",
    "    'type_': AutomobileType.convertible,\n",
    "    'is_electric': False,\n",
    "    'manufactured_date': date(2023,1,1),\n",
    "    'base_msrp_usd': 93_300,\n",
    "    'vin': '1234567890',\n",
    "    'number_of_doors': 2,\n",
    "    'registration_country': 'France',\n",
    "    'license_plate': 'AAA-BBB',\n",
    "}"
   ]
  },
  {
   "cell_type": "code",
   "execution_count": 27,
   "id": "b2f834a7",
   "metadata": {},
   "outputs": [
    {
     "data": {
      "text/plain": [
       "{'manufacturer': 'BMW',\n",
       " 'series_name': 'M4',\n",
       " 'type_': <AutomobileType.convertible: 'Convertible'>,\n",
       " 'is_electric': False,\n",
       " 'manufactured_date': datetime.date(2023, 1, 1),\n",
       " 'base_msrp_usd': 93300.0,\n",
       " 'vin': '1234567890',\n",
       " 'number_of_doors': 2,\n",
       " 'registration_country': 'France',\n",
       " 'license_plate': 'AAA-BBB'}"
      ]
     },
     "execution_count": 27,
     "metadata": {},
     "output_type": "execute_result"
    }
   ],
   "source": [
    "car = Automobile.model_validate(data)\n",
    "car.model_dump() "
   ]
  },
  {
   "cell_type": "code",
   "execution_count": 28,
   "id": "9c1200cd",
   "metadata": {},
   "outputs": [
    {
     "data": {
      "text/plain": [
       "{'manufacturer': 'BMW',\n",
       " 'series_name': 'M4',\n",
       " 'type_': <AutomobileType.convertible: 'Convertible'>,\n",
       " 'is_electric': False,\n",
       " 'manufactured_date': datetime.date(2023, 1, 1),\n",
       " 'base_msrp_usd': 93300,\n",
       " 'vin': '1234567890',\n",
       " 'number_of_doors': 2,\n",
       " 'registration_country': 'France',\n",
       " 'license_plate': 'AAA-BBB'}"
      ]
     },
     "execution_count": 28,
     "metadata": {},
     "output_type": "execute_result"
    }
   ],
   "source": [
    "data_expected_serialization"
   ]
  },
  {
   "cell_type": "code",
   "execution_count": 29,
   "id": "866e493d",
   "metadata": {},
   "outputs": [],
   "source": [
    "assert car.model_dump() == data_expected_serialization"
   ]
  },
  {
   "cell_type": "code",
   "execution_count": null,
   "id": "c2385c6b",
   "metadata": {},
   "outputs": [],
   "source": []
  }
 ],
 "metadata": {
  "kernelspec": {
   "display_name": "Python 3 (ipykernel)",
   "language": "python",
   "name": "python3"
  },
  "language_info": {
   "codemirror_mode": {
    "name": "ipython",
    "version": 3
   },
   "file_extension": ".py",
   "mimetype": "text/x-python",
   "name": "python",
   "nbconvert_exporter": "python",
   "pygments_lexer": "ipython3",
   "version": "3.10.12"
  }
 },
 "nbformat": 4,
 "nbformat_minor": 5
}
