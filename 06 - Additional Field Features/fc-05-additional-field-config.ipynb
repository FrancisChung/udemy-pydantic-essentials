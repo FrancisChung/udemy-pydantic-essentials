{
 "cells": [
  {
   "cell_type": "code",
   "id": "initial_id",
   "metadata": {
    "collapsed": true,
    "ExecuteTime": {
     "end_time": "2025-07-08T23:45:41.101846Z",
     "start_time": "2025-07-08T23:45:41.099340Z"
    }
   },
   "source": "from pydantic import BaseModel, ConfigDict, Field, ValidationError",
   "outputs": [],
   "execution_count": 2
  },
  {
   "metadata": {
    "ExecuteTime": {
     "end_time": "2025-07-08T23:47:00.896140Z",
     "start_time": "2025-07-08T23:47:00.891266Z"
    }
   },
   "cell_type": "code",
   "source": [
    "class Model(BaseModel):\n",
    "    model_config = ConfigDict(strict=True)\n",
    "    field_1: bool = False\n",
    "    field_2: bool = False"
   ],
   "id": "b6e686880777274d",
   "outputs": [],
   "execution_count": 4
  },
  {
   "metadata": {
    "ExecuteTime": {
     "end_time": "2025-07-08T23:47:48.496346Z",
     "start_time": "2025-07-08T23:47:48.491664Z"
    }
   },
   "cell_type": "code",
   "source": [
    "try:\n",
    "    Model(field_1=1.0, field_2=2.0)\n",
    "except ValidationError as ex:\n",
    "    print(ex)"
   ],
   "id": "76f066d9d8637bdb",
   "outputs": [
    {
     "name": "stdout",
     "output_type": "stream",
     "text": [
      "2 validation errors for Model\n",
      "field_1\n",
      "  Input should be a valid boolean [type=bool_type, input_value=1.0, input_type=float]\n",
      "    For further information visit https://errors.pydantic.dev/2.9/v/bool_type\n",
      "field_2\n",
      "  Input should be a valid boolean [type=bool_type, input_value=2.0, input_type=float]\n",
      "    For further information visit https://errors.pydantic.dev/2.9/v/bool_type\n"
     ]
    }
   ],
   "execution_count": 6
  },
  {
   "metadata": {
    "ExecuteTime": {
     "end_time": "2025-07-08T23:49:44.157928Z",
     "start_time": "2025-07-08T23:49:44.149983Z"
    }
   },
   "cell_type": "code",
   "source": [
    "class Model(BaseModel):\n",
    "    model_config = ConfigDict(strict=False, validate_default=True)\n",
    "    field_1: bool = Field(strict=True, default=False)\n",
    "    field_2: bool = False"
   ],
   "id": "c83992c6460e44a3",
   "outputs": [],
   "execution_count": 10
  },
  {
   "metadata": {
    "ExecuteTime": {
     "end_time": "2025-07-08T23:49:44.792385Z",
     "start_time": "2025-07-08T23:49:44.786370Z"
    }
   },
   "cell_type": "code",
   "source": "Model(field_1=False, field_2=1.0)",
   "id": "a903186dd0867708",
   "outputs": [
    {
     "data": {
      "text/plain": [
       "Model(field_1=False, field_2=True)"
      ]
     },
     "execution_count": 11,
     "metadata": {},
     "output_type": "execute_result"
    }
   ],
   "execution_count": 11
  },
  {
   "metadata": {
    "ExecuteTime": {
     "end_time": "2025-07-08T23:49:46.000856Z",
     "start_time": "2025-07-08T23:49:45.990701Z"
    }
   },
   "cell_type": "code",
   "source": "Model(field_1=1.0, field_2=1.0)",
   "id": "9f372b8bce485aec",
   "outputs": [
    {
     "ename": "ValidationError",
     "evalue": "1 validation error for Model\nfield_1\n  Input should be a valid boolean [type=bool_type, input_value=1.0, input_type=float]\n    For further information visit https://errors.pydantic.dev/2.9/v/bool_type",
     "output_type": "error",
     "traceback": [
      "\u001B[0;31m---------------------------------------------------------------------------\u001B[0m",
      "\u001B[0;31mValidationError\u001B[0m                           Traceback (most recent call last)",
      "\u001B[0;32m/tmp/ipykernel_14209/1220909377.py\u001B[0m in \u001B[0;36m<module>\u001B[0;34m\u001B[0m\n\u001B[0;32m----> 1\u001B[0;31m \u001B[0mModel\u001B[0m\u001B[0;34m(\u001B[0m\u001B[0mfield_1\u001B[0m\u001B[0;34m=\u001B[0m\u001B[0;36m1.0\u001B[0m\u001B[0;34m,\u001B[0m \u001B[0mfield_2\u001B[0m\u001B[0;34m=\u001B[0m\u001B[0;36m1.0\u001B[0m\u001B[0;34m)\u001B[0m\u001B[0;34m\u001B[0m\u001B[0;34m\u001B[0m\u001B[0m\n\u001B[0m",
      "\u001B[0;32m~/.local/lib/python3.10/site-packages/pydantic/main.py\u001B[0m in \u001B[0;36m__init__\u001B[0;34m(self, **data)\u001B[0m\n\u001B[1;32m    210\u001B[0m         \u001B[0;31m# `__tracebackhide__` tells pytest and some other tools to omit this function from tracebacks\u001B[0m\u001B[0;34m\u001B[0m\u001B[0;34m\u001B[0m\u001B[0m\n\u001B[1;32m    211\u001B[0m         \u001B[0m__tracebackhide__\u001B[0m \u001B[0;34m=\u001B[0m \u001B[0;32mTrue\u001B[0m\u001B[0;34m\u001B[0m\u001B[0;34m\u001B[0m\u001B[0m\n\u001B[0;32m--> 212\u001B[0;31m         \u001B[0mvalidated_self\u001B[0m \u001B[0;34m=\u001B[0m \u001B[0mself\u001B[0m\u001B[0;34m.\u001B[0m\u001B[0m__pydantic_validator__\u001B[0m\u001B[0;34m.\u001B[0m\u001B[0mvalidate_python\u001B[0m\u001B[0;34m(\u001B[0m\u001B[0mdata\u001B[0m\u001B[0;34m,\u001B[0m \u001B[0mself_instance\u001B[0m\u001B[0;34m=\u001B[0m\u001B[0mself\u001B[0m\u001B[0;34m)\u001B[0m\u001B[0;34m\u001B[0m\u001B[0;34m\u001B[0m\u001B[0m\n\u001B[0m\u001B[1;32m    213\u001B[0m         \u001B[0;32mif\u001B[0m \u001B[0mself\u001B[0m \u001B[0;32mis\u001B[0m \u001B[0;32mnot\u001B[0m \u001B[0mvalidated_self\u001B[0m\u001B[0;34m:\u001B[0m\u001B[0;34m\u001B[0m\u001B[0;34m\u001B[0m\u001B[0m\n\u001B[1;32m    214\u001B[0m             warnings.warn(\n",
      "\u001B[0;31mValidationError\u001B[0m: 1 validation error for Model\nfield_1\n  Input should be a valid boolean [type=bool_type, input_value=1.0, input_type=float]\n    For further information visit https://errors.pydantic.dev/2.9/v/bool_type"
     ]
    }
   ],
   "execution_count": 12
  },
  {
   "metadata": {
    "ExecuteTime": {
     "end_time": "2025-07-08T23:57:24.243960Z",
     "start_time": "2025-07-08T23:57:24.238236Z"
    }
   },
   "cell_type": "code",
   "source": [
    "class Model(BaseModel):\n",
    "    model_config = ConfigDict(strict=False, validate_default=True)\n",
    "    field_1: bool = Field(strict=True, default=1.0, validate_default=False)\n",
    "    field_2: bool = False"
   ],
   "id": "b4a326325eda69e3",
   "outputs": [],
   "execution_count": 13
  },
  {
   "metadata": {
    "ExecuteTime": {
     "end_time": "2025-07-08T23:57:27.823514Z",
     "start_time": "2025-07-08T23:57:27.820585Z"
    }
   },
   "cell_type": "code",
   "source": "Model()",
   "id": "3ee5b2e0c75cd9ad",
   "outputs": [
    {
     "data": {
      "text/plain": [
       "Model(field_1=1.0, field_2=False)"
      ]
     },
     "execution_count": 14,
     "metadata": {},
     "output_type": "execute_result"
    }
   ],
   "execution_count": 14
  },
  {
   "metadata": {},
   "cell_type": "code",
   "outputs": [],
   "execution_count": null,
   "source": "",
   "id": "d41146617ccd8706"
  }
 ],
 "metadata": {
  "kernelspec": {
   "display_name": "Python 3",
   "language": "python",
   "name": "python3"
  },
  "language_info": {
   "codemirror_mode": {
    "name": "ipython",
    "version": 2
   },
   "file_extension": ".py",
   "mimetype": "text/x-python",
   "name": "python",
   "nbconvert_exporter": "python",
   "pygments_lexer": "ipython2",
   "version": "2.7.6"
  }
 },
 "nbformat": 4,
 "nbformat_minor": 5
}
