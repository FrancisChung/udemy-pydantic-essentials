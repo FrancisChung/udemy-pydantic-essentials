{
 "cells": [
  {
   "cell_type": "code",
   "id": "initial_id",
   "metadata": {
    "collapsed": true,
    "ExecuteTime": {
     "end_time": "2025-07-08T23:45:41.101846Z",
     "start_time": "2025-07-08T23:45:41.099340Z"
    }
   },
   "source": "from pydantic import BaseModel, ConfigDict, Field, ValidationError",
   "outputs": [],
   "execution_count": 2
  },
  {
   "metadata": {
    "ExecuteTime": {
     "end_time": "2025-07-08T23:47:00.896140Z",
     "start_time": "2025-07-08T23:47:00.891266Z"
    }
   },
   "cell_type": "code",
   "source": [
    "class Model(BaseModel):\n",
    "    model_config = ConfigDict(strict=True)\n",
    "    field_1: bool = False\n",
    "    field_2: bool = False"
   ],
   "id": "b6e686880777274d",
   "outputs": [],
   "execution_count": 4
  },
  {
   "metadata": {
    "ExecuteTime": {
     "end_time": "2025-07-08T23:47:48.496346Z",
     "start_time": "2025-07-08T23:47:48.491664Z"
    }
   },
   "cell_type": "code",
   "source": [
    "try:\n",
    "    Model(field_1=1.0, field_2=2.0)\n",
    "except ValidationError as ex:\n",
    "    print(ex)"
   ],
   "id": "76f066d9d8637bdb",
   "outputs": [
    {
     "name": "stdout",
     "output_type": "stream",
     "text": [
      "2 validation errors for Model\n",
      "field_1\n",
      "  Input should be a valid boolean [type=bool_type, input_value=1.0, input_type=float]\n",
      "    For further information visit https://errors.pydantic.dev/2.9/v/bool_type\n",
      "field_2\n",
      "  Input should be a valid boolean [type=bool_type, input_value=2.0, input_type=float]\n",
      "    For further information visit https://errors.pydantic.dev/2.9/v/bool_type\n"
     ]
    }
   ],
   "execution_count": 6
  },
  {
   "metadata": {
    "ExecuteTime": {
     "end_time": "2025-07-08T23:49:44.157928Z",
     "start_time": "2025-07-08T23:49:44.149983Z"
    }
   },
   "cell_type": "code",
   "source": [
    "class Model(BaseModel):\n",
    "    model_config = ConfigDict(strict=False, validate_default=True)\n",
    "    field_1: bool = Field(strict=True, default=False)\n",
    "    field_2: bool = False"
   ],
   "id": "c83992c6460e44a3",
   "outputs": [],
   "execution_count": 10
  },
  {
   "metadata": {
    "ExecuteTime": {
     "end_time": "2025-07-08T23:49:44.792385Z",
     "start_time": "2025-07-08T23:49:44.786370Z"
    }
   },
   "cell_type": "code",
   "source": "Model(field_1=False, field_2=1.0)",
   "id": "a903186dd0867708",
   "outputs": [
    {
     "data": {
      "text/plain": [
       "Model(field_1=False, field_2=True)"
      ]
     },
     "execution_count": 11,
     "metadata": {},
     "output_type": "execute_result"
    }
   ],
   "execution_count": 11
  },
  {
   "metadata": {
    "ExecuteTime": {
     "end_time": "2025-07-08T23:49:46.000856Z",
     "start_time": "2025-07-08T23:49:45.990701Z"
    }
   },
   "cell_type": "code",
   "source": "Model(field_1=1.0, field_2=1.0)",
   "id": "9f372b8bce485aec",
   "outputs": [
    {
     "ename": "ValidationError",
     "evalue": "1 validation error for Model\nfield_1\n  Input should be a valid boolean [type=bool_type, input_value=1.0, input_type=float]\n    For further information visit https://errors.pydantic.dev/2.9/v/bool_type",
     "output_type": "error",
     "traceback": [
      "\u001B[0;31m---------------------------------------------------------------------------\u001B[0m",
      "\u001B[0;31mValidationError\u001B[0m                           Traceback (most recent call last)",
      "\u001B[0;32m/tmp/ipykernel_14209/1220909377.py\u001B[0m in \u001B[0;36m<module>\u001B[0;34m\u001B[0m\n\u001B[0;32m----> 1\u001B[0;31m \u001B[0mModel\u001B[0m\u001B[0;34m(\u001B[0m\u001B[0mfield_1\u001B[0m\u001B[0;34m=\u001B[0m\u001B[0;36m1.0\u001B[0m\u001B[0;34m,\u001B[0m \u001B[0mfield_2\u001B[0m\u001B[0;34m=\u001B[0m\u001B[0;36m1.0\u001B[0m\u001B[0;34m)\u001B[0m\u001B[0;34m\u001B[0m\u001B[0;34m\u001B[0m\u001B[0m\n\u001B[0m",
      "\u001B[0;32m~/.local/lib/python3.10/site-packages/pydantic/main.py\u001B[0m in \u001B[0;36m__init__\u001B[0;34m(self, **data)\u001B[0m\n\u001B[1;32m    210\u001B[0m         \u001B[0;31m# `__tracebackhide__` tells pytest and some other tools to omit this function from tracebacks\u001B[0m\u001B[0;34m\u001B[0m\u001B[0;34m\u001B[0m\u001B[0m\n\u001B[1;32m    211\u001B[0m         \u001B[0m__tracebackhide__\u001B[0m \u001B[0;34m=\u001B[0m \u001B[0;32mTrue\u001B[0m\u001B[0;34m\u001B[0m\u001B[0;34m\u001B[0m\u001B[0m\n\u001B[0;32m--> 212\u001B[0;31m         \u001B[0mvalidated_self\u001B[0m \u001B[0;34m=\u001B[0m \u001B[0mself\u001B[0m\u001B[0;34m.\u001B[0m\u001B[0m__pydantic_validator__\u001B[0m\u001B[0;34m.\u001B[0m\u001B[0mvalidate_python\u001B[0m\u001B[0;34m(\u001B[0m\u001B[0mdata\u001B[0m\u001B[0;34m,\u001B[0m \u001B[0mself_instance\u001B[0m\u001B[0;34m=\u001B[0m\u001B[0mself\u001B[0m\u001B[0;34m)\u001B[0m\u001B[0;34m\u001B[0m\u001B[0;34m\u001B[0m\u001B[0m\n\u001B[0m\u001B[1;32m    213\u001B[0m         \u001B[0;32mif\u001B[0m \u001B[0mself\u001B[0m \u001B[0;32mis\u001B[0m \u001B[0;32mnot\u001B[0m \u001B[0mvalidated_self\u001B[0m\u001B[0;34m:\u001B[0m\u001B[0;34m\u001B[0m\u001B[0;34m\u001B[0m\u001B[0m\n\u001B[1;32m    214\u001B[0m             warnings.warn(\n",
      "\u001B[0;31mValidationError\u001B[0m: 1 validation error for Model\nfield_1\n  Input should be a valid boolean [type=bool_type, input_value=1.0, input_type=float]\n    For further information visit https://errors.pydantic.dev/2.9/v/bool_type"
     ]
    }
   ],
   "execution_count": 12
  },
  {
   "metadata": {
    "ExecuteTime": {
     "end_time": "2025-07-08T23:57:24.243960Z",
     "start_time": "2025-07-08T23:57:24.238236Z"
    }
   },
   "cell_type": "code",
   "source": [
    "class Model(BaseModel):\n",
    "    model_config = ConfigDict(strict=False, validate_default=True)\n",
    "    field_1: bool = Field(strict=True, default=1.0, validate_default=False)\n",
    "    field_2: bool = False"
   ],
   "id": "b4a326325eda69e3",
   "outputs": [],
   "execution_count": 13
  },
  {
   "metadata": {
    "ExecuteTime": {
     "end_time": "2025-07-08T23:57:27.823514Z",
     "start_time": "2025-07-08T23:57:27.820585Z"
    }
   },
   "cell_type": "code",
   "source": "Model()",
   "id": "3ee5b2e0c75cd9ad",
   "outputs": [
    {
     "data": {
      "text/plain": [
       "Model(field_1=1.0, field_2=False)"
      ]
     },
     "execution_count": 14,
     "metadata": {},
     "output_type": "execute_result"
    }
   ],
   "execution_count": 14
  },
  {
   "metadata": {
    "ExecuteTime": {
     "end_time": "2025-07-08T23:59:05.869659Z",
     "start_time": "2025-07-08T23:59:05.864198Z"
    }
   },
   "cell_type": "code",
   "source": [
    "class Model(BaseModel):\n",
    "    model_config = ConfigDict(frozen=True)\n",
    "    field_1: int\n",
    "    field_2: int"
   ],
   "id": "d41146617ccd8706",
   "outputs": [],
   "execution_count": 15
  },
  {
   "metadata": {
    "ExecuteTime": {
     "end_time": "2025-07-08T23:59:29.933256Z",
     "start_time": "2025-07-08T23:59:29.928039Z"
    }
   },
   "cell_type": "code",
   "source": [
    "m =Model(field_1=1, field_2=2.0)\n",
    "m"
   ],
   "id": "b2e7e5472636c739",
   "outputs": [
    {
     "data": {
      "text/plain": [
       "Model(field_1=1, field_2=2)"
      ]
     },
     "execution_count": 17,
     "metadata": {},
     "output_type": "execute_result"
    }
   ],
   "execution_count": 17
  },
  {
   "metadata": {
    "ExecuteTime": {
     "end_time": "2025-07-09T00:00:06.443854Z",
     "start_time": "2025-07-09T00:00:06.440237Z"
    }
   },
   "cell_type": "code",
   "source": [
    "try:\n",
    "    m.field_1 = 1\n",
    "except ValidationError as ex:\n",
    "    print(ex)"
   ],
   "id": "994724f6029e0e4b",
   "outputs": [
    {
     "name": "stdout",
     "output_type": "stream",
     "text": [
      "1 validation error for Model\n",
      "field_1\n",
      "  Instance is frozen [type=frozen_instance, input_value=1, input_type=int]\n",
      "    For further information visit https://errors.pydantic.dev/2.9/v/frozen_instance\n"
     ]
    }
   ],
   "execution_count": 19
  },
  {
   "metadata": {
    "ExecuteTime": {
     "end_time": "2025-07-09T00:01:42.300601Z",
     "start_time": "2025-07-09T00:01:42.294784Z"
    }
   },
   "cell_type": "code",
   "source": [
    "class Model(BaseModel):\n",
    "    field_1: int = Field(frozen=True)\n",
    "    field_2: int"
   ],
   "id": "58ba950d1eb90d1c",
   "outputs": [],
   "execution_count": 20
  },
  {
   "metadata": {
    "ExecuteTime": {
     "end_time": "2025-07-09T00:01:47.771057Z",
     "start_time": "2025-07-09T00:01:47.765955Z"
    }
   },
   "cell_type": "code",
   "source": "m = Model(field_1=1, field_2=2.0)",
   "id": "53b709403715e389",
   "outputs": [],
   "execution_count": 21
  },
  {
   "metadata": {
    "ExecuteTime": {
     "end_time": "2025-07-09T00:01:53.606464Z",
     "start_time": "2025-07-09T00:01:53.604453Z"
    }
   },
   "cell_type": "code",
   "source": "m.field_2 = 20",
   "id": "d76d21ecb7e5db0b",
   "outputs": [],
   "execution_count": 22
  },
  {
   "metadata": {
    "ExecuteTime": {
     "end_time": "2025-07-09T00:02:01.754626Z",
     "start_time": "2025-07-09T00:02:01.750419Z"
    }
   },
   "cell_type": "code",
   "source": [
    "try:\n",
    "    m.field_1 = 1\n",
    "except ValidationError as ex:\n",
    "    print(ex)"
   ],
   "id": "42a4d078a96ac8d",
   "outputs": [
    {
     "name": "stdout",
     "output_type": "stream",
     "text": [
      "1 validation error for Model\n",
      "field_1\n",
      "  Field is frozen [type=frozen_field, input_value=1, input_type=int]\n",
      "    For further information visit https://errors.pydantic.dev/2.9/v/frozen_field\n"
     ]
    }
   ],
   "execution_count": 23
  },
  {
   "metadata": {
    "ExecuteTime": {
     "end_time": "2025-07-09T00:03:20.487502Z",
     "start_time": "2025-07-09T00:03:20.481359Z"
    }
   },
   "cell_type": "code",
   "source": [
    "class Model(BaseModel):\n",
    "    field_1: int = 1\n",
    "    field_2: int = 2\n",
    "    field_3: int = 3\n"
   ],
   "id": "f1e4ce41ed81eb2d",
   "outputs": [],
   "execution_count": 25
  },
  {
   "metadata": {
    "ExecuteTime": {
     "end_time": "2025-07-09T00:03:49.571485Z",
     "start_time": "2025-07-09T00:03:49.568645Z"
    }
   },
   "cell_type": "code",
   "source": [
    "m = Model()\n",
    "m"
   ],
   "id": "cbe85da2a3e6d98",
   "outputs": [
    {
     "data": {
      "text/plain": [
       "Model(field_1=1, field_2=2, field_3=3)"
      ]
     },
     "execution_count": 27,
     "metadata": {},
     "output_type": "execute_result"
    }
   ],
   "execution_count": 27
  },
  {
   "metadata": {
    "ExecuteTime": {
     "end_time": "2025-07-09T00:04:16.112119Z",
     "start_time": "2025-07-09T00:04:16.106215Z"
    }
   },
   "cell_type": "code",
   "source": "m.model_dump(exclude=['field_1'])",
   "id": "c3a23ee238a07e4b",
   "outputs": [
    {
     "data": {
      "text/plain": [
       "{'field_2': 2, 'field_3': 3}"
      ]
     },
     "execution_count": 29,
     "metadata": {},
     "output_type": "execute_result"
    }
   ],
   "execution_count": 29
  },
  {
   "metadata": {
    "ExecuteTime": {
     "end_time": "2025-07-09T00:06:48.229689Z",
     "start_time": "2025-07-09T00:06:48.224206Z"
    }
   },
   "cell_type": "code",
   "source": [
    "class Model(BaseModel):\n",
    "    key : str = Field(default='python', exclude=True)\n",
    "    field_1: int = 1\n",
    "    field_2: int = 2\n",
    "    field_3: int = 3"
   ],
   "id": "48658a99769a100f",
   "outputs": [],
   "execution_count": 30
  },
  {
   "metadata": {
    "ExecuteTime": {
     "end_time": "2025-07-09T00:07:10.837050Z",
     "start_time": "2025-07-09T00:07:10.831415Z"
    }
   },
   "cell_type": "code",
   "source": [
    "m = Model()\n",
    "m"
   ],
   "id": "d8c2d879a7489f09",
   "outputs": [
    {
     "data": {
      "text/plain": [
       "Model(key='python', field_1=1, field_2=2, field_3=3)"
      ]
     },
     "execution_count": 31,
     "metadata": {},
     "output_type": "execute_result"
    }
   ],
   "execution_count": 31
  },
  {
   "metadata": {
    "ExecuteTime": {
     "end_time": "2025-07-09T00:07:20.956266Z",
     "start_time": "2025-07-09T00:07:20.950328Z"
    }
   },
   "cell_type": "code",
   "source": "m.model_dump()",
   "id": "f0776e9afa848e6e",
   "outputs": [
    {
     "data": {
      "text/plain": [
       "{'field_1': 1, 'field_2': 2, 'field_3': 3}"
      ]
     },
     "execution_count": 32,
     "metadata": {},
     "output_type": "execute_result"
    }
   ],
   "execution_count": 32
  },
  {
   "metadata": {
    "ExecuteTime": {
     "end_time": "2025-07-09T00:07:57.151750Z",
     "start_time": "2025-07-09T00:07:57.146429Z"
    }
   },
   "cell_type": "code",
   "source": "m.model_dump_json()",
   "id": "6aa8879fa206970",
   "outputs": [
    {
     "data": {
      "text/plain": [
       "'{\"field_1\":1,\"field_2\":2,\"field_3\":3}'"
      ]
     },
     "execution_count": 33,
     "metadata": {},
     "output_type": "execute_result"
    }
   ],
   "execution_count": 33
  },
  {
   "metadata": {
    "ExecuteTime": {
     "end_time": "2025-07-09T00:08:26.511031Z",
     "start_time": "2025-07-09T00:08:26.505108Z"
    }
   },
   "cell_type": "code",
   "source": "m.model_dump(exclude=['field_2'])",
   "id": "211947647ca01596",
   "outputs": [
    {
     "data": {
      "text/plain": [
       "{'field_1': 1, 'field_3': 3}"
      ]
     },
     "execution_count": 34,
     "metadata": {},
     "output_type": "execute_result"
    }
   ],
   "execution_count": 34
  },
  {
   "metadata": {
    "ExecuteTime": {
     "end_time": "2025-07-09T00:09:45.576337Z",
     "start_time": "2025-07-09T00:09:45.570949Z"
    }
   },
   "cell_type": "code",
   "source": "m.model_dump(include=['key','field_1','field_2', 'field_3'])",
   "id": "7653ddf516f153ef",
   "outputs": [
    {
     "data": {
      "text/plain": [
       "{'field_1': 1, 'field_2': 2, 'field_3': 3}"
      ]
     },
     "execution_count": 37,
     "metadata": {},
     "output_type": "execute_result"
    }
   ],
   "execution_count": 37
  },
  {
   "metadata": {},
   "cell_type": "code",
   "outputs": [],
   "execution_count": null,
   "source": "",
   "id": "eb7bcce13cd2bd89"
  }
 ],
 "metadata": {
  "kernelspec": {
   "display_name": "Python 3",
   "language": "python",
   "name": "python3"
  },
  "language_info": {
   "codemirror_mode": {
    "name": "ipython",
    "version": 2
   },
   "file_extension": ".py",
   "mimetype": "text/x-python",
   "name": "python",
   "nbconvert_exporter": "python",
   "pygments_lexer": "ipython2",
   "version": "2.7.6"
  }
 },
 "nbformat": 4,
 "nbformat_minor": 5
}
