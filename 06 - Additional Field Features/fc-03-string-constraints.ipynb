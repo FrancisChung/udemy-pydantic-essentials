{
 "cells": [
  {
   "metadata": {},
   "cell_type": "markdown",
   "source": [
    "Similarly to numerical constraints defined with the `Field` object, we also have constraints that are applicable to strings, and in fact, are applicable to sequence types in general, not just strings, even though the documentation does not seem to mention that.\n",
    "\n",
    "These constraints are:\n",
    "- `min_length` -> minimum length of string (or sequence)\n",
    "- `max_length` -> maximum length of string (or sequence)\n",
    "\n",
    "(Docs are located [here](https://docs.pydantic.dev/latest/api/fields/))"
   ],
   "id": "f071ebedd357b703"
  },
  {
   "metadata": {
    "ExecuteTime": {
     "end_time": "2025-03-31T07:59:19.682801Z",
     "start_time": "2025-03-31T07:59:19.628861Z"
    }
   },
   "cell_type": "code",
   "source": [
    "from pydantic import BaseModel, Field, ValidationError\n",
    "from sympy import elliptic_e"
   ],
   "id": "d21bbdbd848a0495",
   "outputs": [],
   "execution_count": 5
  },
  {
   "metadata": {
    "ExecuteTime": {
     "end_time": "2025-03-31T07:59:19.994457Z",
     "start_time": "2025-03-31T07:59:19.964660Z"
    }
   },
   "cell_type": "code",
   "source": [
    "class Model(BaseModel):\n",
    "    name: str = Field(min_length=1, max_length=20)"
   ],
   "id": "d57e65995f3a8cea",
   "outputs": [],
   "execution_count": 6
  },
  {
   "metadata": {
    "ExecuteTime": {
     "end_time": "2025-03-31T07:59:20.261112Z",
     "start_time": "2025-03-31T07:59:20.256231Z"
    }
   },
   "cell_type": "code",
   "source": "Model(name='Richard')",
   "id": "6623df36a52b15c",
   "outputs": [
    {
     "data": {
      "text/plain": [
       "Model(name='Richard')"
      ]
     },
     "execution_count": 7,
     "metadata": {},
     "output_type": "execute_result"
    }
   ],
   "execution_count": 7
  },
  {
   "metadata": {
    "ExecuteTime": {
     "end_time": "2025-03-31T07:59:20.508508Z",
     "start_time": "2025-03-31T07:59:20.506018Z"
    }
   },
   "cell_type": "code",
   "source": [
    "try:\n",
    "    Model(name='')\n",
    "except ValidationError as e:\n",
    "    print(e)"
   ],
   "id": "24da8706689ee2d2",
   "outputs": [
    {
     "name": "stdout",
     "output_type": "stream",
     "text": [
      "1 validation error for Model\n",
      "name\n",
      "  String should have at least 1 character [type=string_too_short, input_value='', input_type=str]\n",
      "    For further information visit https://errors.pydantic.dev/2.9/v/string_too_short\n"
     ]
    }
   ],
   "execution_count": 8
  },
  {
   "metadata": {
    "ExecuteTime": {
     "end_time": "2025-03-31T07:59:20.807494Z",
     "start_time": "2025-03-31T07:59:20.803173Z"
    }
   },
   "cell_type": "code",
   "source": [
    "try:\n",
    "    Model(name='*' * 21)\n",
    "except ValidationError as e:\n",
    "    print(e)"
   ],
   "id": "a76754c9b82a56e4",
   "outputs": [
    {
     "name": "stdout",
     "output_type": "stream",
     "text": [
      "1 validation error for Model\n",
      "name\n",
      "  String should have at most 20 characters [type=string_too_long, input_value='*********************', input_type=str]\n",
      "    For further information visit https://errors.pydantic.dev/2.9/v/string_too_long\n"
     ]
    }
   ],
   "execution_count": 9
  },
  {
   "metadata": {
    "ExecuteTime": {
     "end_time": "2025-03-31T08:00:55.701259Z",
     "start_time": "2025-03-31T08:00:55.697686Z"
    }
   },
   "cell_type": "code",
   "source": [
    "class Model(BaseModel):\n",
    "    items: list[float] = Field(min_length=3, max_length=5, default=[1.0, 2.0, 3.0])"
   ],
   "id": "3f150583bbc50537",
   "outputs": [],
   "execution_count": 14
  },
  {
   "metadata": {
    "ExecuteTime": {
     "end_time": "2025-03-31T08:00:56.228565Z",
     "start_time": "2025-03-31T08:00:56.223325Z"
    }
   },
   "cell_type": "code",
   "source": "Model()",
   "id": "8e1fa2eac3393dee",
   "outputs": [
    {
     "data": {
      "text/plain": [
       "Model(items=[1.0, 2.0, 3.0])"
      ]
     },
     "execution_count": 15,
     "metadata": {},
     "output_type": "execute_result"
    }
   ],
   "execution_count": 15
  },
  {
   "metadata": {
    "ExecuteTime": {
     "end_time": "2025-03-31T08:00:56.845870Z",
     "start_time": "2025-03-31T08:00:56.841440Z"
    }
   },
   "cell_type": "code",
   "source": "Model(items=[4, 5.5, 6])",
   "id": "fe4d9f09e6df6ed1",
   "outputs": [
    {
     "data": {
      "text/plain": [
       "Model(items=[4.0, 5.5, 6.0])"
      ]
     },
     "execution_count": 16,
     "metadata": {},
     "output_type": "execute_result"
    }
   ],
   "execution_count": 16
  },
  {
   "metadata": {
    "ExecuteTime": {
     "end_time": "2025-03-31T08:01:50.704284Z",
     "start_time": "2025-03-31T08:01:50.701118Z"
    }
   },
   "cell_type": "code",
   "source": [
    "try:\n",
    "    Model(items=[1,2,5,57])\n",
    "except ValidationError as e:\n",
    "    print(e)"
   ],
   "id": "fd5ff6568d5fa1cd",
   "outputs": [],
   "execution_count": 18
  },
  {
   "metadata": {},
   "cell_type": "code",
   "outputs": [],
   "execution_count": null,
   "source": [
    "\n",
    "\n",
    "\n",
    "\n"
   ],
   "id": "b818e2ed6dd5ad1b"
  },
  {
   "metadata": {},
   "cell_type": "code",
   "outputs": [],
   "execution_count": null,
   "source": "",
   "id": "6a06e83a72f10d1a"
  }
 ],
 "metadata": {
  "kernelspec": {
   "display_name": "Python 3",
   "language": "python",
   "name": "python3"
  },
  "language_info": {
   "codemirror_mode": {
    "name": "ipython",
    "version": 2
   },
   "file_extension": ".py",
   "mimetype": "text/x-python",
   "name": "python",
   "nbconvert_exporter": "python",
   "pygments_lexer": "ipython2",
   "version": "2.7.6"
  }
 },
 "nbformat": 4,
 "nbformat_minor": 5
}
