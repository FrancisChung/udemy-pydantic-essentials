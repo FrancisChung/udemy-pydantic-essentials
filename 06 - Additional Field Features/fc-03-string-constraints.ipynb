{
 "cells": [
  {
   "metadata": {},
   "cell_type": "markdown",
   "source": [
    "Similarly to numerical constraints defined with the `Field` object, we also have constraints that are applicable to strings, and in fact, are applicable to sequence types in general, not just strings, even though the documentation does not seem to mention that.\n",
    "\n",
    "These constraints are:\n",
    "- `min_length` -> minimum length of string (or sequence)\n",
    "- `max_length` -> maximum length of string (or sequence)\n",
    "\n",
    "(Docs are located [here](https://docs.pydantic.dev/latest/api/fields/))"
   ],
   "id": "f071ebedd357b703"
  },
  {
   "metadata": {
    "ExecuteTime": {
     "end_time": "2025-03-28T06:14:01.402570Z",
     "start_time": "2025-03-28T06:14:01.340304Z"
    }
   },
   "cell_type": "code",
   "source": "from pydantic import BaseModel, Field, ValidationError",
   "id": "d21bbdbd848a0495",
   "outputs": [],
   "execution_count": 2
  },
  {
   "metadata": {
    "ExecuteTime": {
     "end_time": "2025-03-28T06:14:21.018906Z",
     "start_time": "2025-03-28T06:14:20.990426Z"
    }
   },
   "cell_type": "code",
   "source": [
    "class Model(BaseModel):\n",
    "    name: str = Field(min_length=1, max_length=20)"
   ],
   "id": "d57e65995f3a8cea",
   "outputs": [],
   "execution_count": 3
  },
  {
   "metadata": {
    "ExecuteTime": {
     "end_time": "2025-03-28T06:14:37.252175Z",
     "start_time": "2025-03-28T06:14:37.247920Z"
    }
   },
   "cell_type": "code",
   "source": "Model(name='Richard')",
   "id": "6623df36a52b15c",
   "outputs": [
    {
     "data": {
      "text/plain": [
       "Model(name='Richard')"
      ]
     },
     "execution_count": 4,
     "metadata": {},
     "output_type": "execute_result"
    }
   ],
   "execution_count": 4
  },
  {
   "metadata": {
    "ExecuteTime": {
     "end_time": "2025-03-28T06:15:01.725791Z",
     "start_time": "2025-03-28T06:15:01.722881Z"
    }
   },
   "cell_type": "code",
   "source": [
    "try:\n",
    "    Model(name='')\n",
    "except ValidationError as e:\n",
    "    print(e)"
   ],
   "id": "24da8706689ee2d2",
   "outputs": [
    {
     "name": "stdout",
     "output_type": "stream",
     "text": [
      "1 validation error for Model\n",
      "name\n",
      "  String should have at least 1 character [type=string_too_short, input_value='', input_type=str]\n",
      "    For further information visit https://errors.pydantic.dev/2.9/v/string_too_short\n"
     ]
    }
   ],
   "execution_count": 5
  },
  {
   "metadata": {
    "ExecuteTime": {
     "end_time": "2025-03-28T06:15:36.490062Z",
     "start_time": "2025-03-28T06:15:36.487005Z"
    }
   },
   "cell_type": "code",
   "source": [
    "try:\n",
    "    Model(name='*' * 21)\n",
    "except ValidationError as e:\n",
    "    print(e)"
   ],
   "id": "a76754c9b82a56e4",
   "outputs": [
    {
     "name": "stdout",
     "output_type": "stream",
     "text": [
      "1 validation error for Model\n",
      "name\n",
      "  String should have at most 20 characters [type=string_too_long, input_value='*********************', input_type=str]\n",
      "    For further information visit https://errors.pydantic.dev/2.9/v/string_too_long\n"
     ]
    }
   ],
   "execution_count": 6
  },
  {
   "metadata": {},
   "cell_type": "code",
   "outputs": [],
   "execution_count": null,
   "source": "",
   "id": "3f150583bbc50537"
  }
 ],
 "metadata": {
  "kernelspec": {
   "display_name": "Python 3",
   "language": "python",
   "name": "python3"
  },
  "language_info": {
   "codemirror_mode": {
    "name": "ipython",
    "version": 2
   },
   "file_extension": ".py",
   "mimetype": "text/x-python",
   "name": "python",
   "nbconvert_exporter": "python",
   "pygments_lexer": "ipython2",
   "version": "2.7.6"
  }
 },
 "nbformat": 4,
 "nbformat_minor": 5
}
