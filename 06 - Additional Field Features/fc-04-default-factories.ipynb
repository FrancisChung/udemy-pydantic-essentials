{
 "cells": [
  {
   "metadata": {},
   "cell_type": "markdown",
   "source": "",
   "id": "ef78e83ed9bf146a"
  },
  {
   "metadata": {},
   "cell_type": "markdown",
   "source": "Default Factories\n",
   "id": "b87d99ccfd5fd83"
  },
  {
   "metadata": {
    "ExecuteTime": {
     "end_time": "2025-07-03T06:35:41.175900Z",
     "start_time": "2025-07-03T06:35:41.171371Z"
    }
   },
   "cell_type": "code",
   "source": [
    "def my_func(a=1, b=2):\n",
    "    pass"
   ],
   "id": "ed52e7413d27049e",
   "outputs": [],
   "execution_count": 2
  },
  {
   "metadata": {
    "ExecuteTime": {
     "end_time": "2025-07-03T06:45:24.477413Z",
     "start_time": "2025-07-03T06:45:24.472321Z"
    }
   },
   "cell_type": "code",
   "source": "from datetime import datetime, timezone",
   "id": "3dcf9ca969009003",
   "outputs": [],
   "execution_count": 7
  },
  {
   "metadata": {
    "ExecuteTime": {
     "end_time": "2025-07-03T06:45:26.744618Z",
     "start_time": "2025-07-03T06:45:26.741794Z"
    }
   },
   "cell_type": "code",
   "source": [
    "def log(text: str, dt: datetime = datetime.now(timezone.utc)):\n",
    "    print(f\"{dt.isoformat()}: {text}\")"
   ],
   "id": "8eeae7130bd448ff",
   "outputs": [],
   "execution_count": 8
  },
  {
   "metadata": {
    "ExecuteTime": {
     "end_time": "2025-07-03T06:46:14.917643Z",
     "start_time": "2025-07-03T06:46:14.914806Z"
    }
   },
   "cell_type": "code",
   "source": "log(\"line_1\", dt=datetime(2025,7,2,15,0,0))",
   "id": "1a45cdc2d4611211",
   "outputs": [
    {
     "name": "stdout",
     "output_type": "stream",
     "text": [
      "2025-07-02T15:00:00: line_1\n"
     ]
    }
   ],
   "execution_count": 9
  },
  {
   "metadata": {
    "ExecuteTime": {
     "end_time": "2025-07-03T06:46:42.614431Z",
     "start_time": "2025-07-03T06:46:42.612030Z"
    }
   },
   "cell_type": "code",
   "source": "log(\"line_1\")",
   "id": "84c3e154af4909a2",
   "outputs": [
    {
     "name": "stdout",
     "output_type": "stream",
     "text": [
      "2025-07-03T06:45:26.743235+00:00: line_1\n"
     ]
    }
   ],
   "execution_count": 10
  },
  {
   "metadata": {
    "ExecuteTime": {
     "end_time": "2025-07-03T06:47:38.917964Z",
     "start_time": "2025-07-03T06:47:38.914297Z"
    }
   },
   "cell_type": "code",
   "source": "log(\"line_2\")",
   "id": "b8e9084ba742b741",
   "outputs": [
    {
     "name": "stdout",
     "output_type": "stream",
     "text": [
      "2025-07-03T06:45:26.743235+00:00: line_2\n"
     ]
    }
   ],
   "execution_count": 12
  },
  {
   "metadata": {
    "ExecuteTime": {
     "end_time": "2025-07-03T06:50:23.871655Z",
     "start_time": "2025-07-03T06:50:23.869118Z"
    }
   },
   "cell_type": "code",
   "source": [
    "def log(text: str, dt: datetime = None):\n",
    "    dt = dt or datetime.now(timezone.utc)\n",
    "    print(f\"{dt.isoformat()}: {text}\")"
   ],
   "id": "922855152daac598",
   "outputs": [],
   "execution_count": 15
  },
  {
   "metadata": {
    "ExecuteTime": {
     "end_time": "2025-07-03T06:50:38.011868Z",
     "start_time": "2025-07-03T06:50:38.008741Z"
    }
   },
   "cell_type": "code",
   "source": "log(\"line_1\")",
   "id": "8f5b69ad144dc928",
   "outputs": [
    {
     "name": "stdout",
     "output_type": "stream",
     "text": [
      "2025-07-03T06:50:38.010160+00:00: line_1\n"
     ]
    }
   ],
   "execution_count": 17
  },
  {
   "metadata": {
    "ExecuteTime": {
     "end_time": "2025-07-08T23:35:29.418378Z",
     "start_time": "2025-07-08T23:35:29.414256Z"
    }
   },
   "cell_type": "code",
   "source": [
    "from pydantic import BaseModel\n",
    "from datetime import datetime, timezone"
   ],
   "id": "c50f69a7699a9d49",
   "outputs": [],
   "execution_count": 6
  },
  {
   "metadata": {
    "ExecuteTime": {
     "end_time": "2025-07-08T23:35:30.276787Z",
     "start_time": "2025-07-08T23:35:30.228064Z"
    }
   },
   "cell_type": "code",
   "source": [
    "class Log(BaseModel):\n",
    "    dt: datetime = datetime.now(timezone.utc)\n",
    "    message: str"
   ],
   "id": "8b90a2cc7e3e3774",
   "outputs": [],
   "execution_count": 7
  },
  {
   "metadata": {
    "ExecuteTime": {
     "end_time": "2025-07-08T23:35:31.441152Z",
     "start_time": "2025-07-08T23:35:31.433912Z"
    }
   },
   "cell_type": "code",
   "source": "Log(message=\"line_1\")",
   "id": "9bb85cc5b67bc6fc",
   "outputs": [
    {
     "data": {
      "text/plain": [
       "Log(dt=datetime.datetime(2025, 7, 8, 23, 35, 30, 229488, tzinfo=datetime.timezone.utc), message='line_1')"
      ]
     },
     "execution_count": 8,
     "metadata": {},
     "output_type": "execute_result"
    }
   ],
   "execution_count": 8
  },
  {
   "metadata": {
    "ExecuteTime": {
     "end_time": "2025-07-08T23:36:22.016946Z",
     "start_time": "2025-07-08T23:36:22.013225Z"
    }
   },
   "cell_type": "code",
   "source": "Log(message=\"line_2\")",
   "id": "cb463dacc0ada3ee",
   "outputs": [
    {
     "data": {
      "text/plain": [
       "Log(dt=datetime.datetime(2025, 7, 8, 23, 35, 30, 229488, tzinfo=datetime.timezone.utc), message='line_2')"
      ]
     },
     "execution_count": 10,
     "metadata": {},
     "output_type": "execute_result"
    }
   ],
   "execution_count": 10
  },
  {
   "metadata": {
    "ExecuteTime": {
     "end_time": "2025-07-08T23:36:45.299058Z",
     "start_time": "2025-07-08T23:36:45.294456Z"
    }
   },
   "cell_type": "code",
   "source": "from pydantic import Field",
   "id": "a76c059d56adf1a",
   "outputs": [],
   "execution_count": 12
  },
  {
   "metadata": {
    "ExecuteTime": {
     "end_time": "2025-07-08T23:37:39.158656Z",
     "start_time": "2025-07-08T23:37:39.154758Z"
    }
   },
   "cell_type": "code",
   "source": [
    "class Log(BaseModel):\n",
    "    dt: datetime = Field(default_factory=lambda: datetime.now(timezone.utc))\n",
    "    message: str"
   ],
   "id": "e6123391e563977b",
   "outputs": [],
   "execution_count": 14
  },
  {
   "metadata": {
    "ExecuteTime": {
     "end_time": "2025-07-08T23:37:50.003893Z",
     "start_time": "2025-07-08T23:37:49.996864Z"
    }
   },
   "cell_type": "code",
   "source": "Log(message=\"line_1\")",
   "id": "2dea17d080a1abb7",
   "outputs": [
    {
     "data": {
      "text/plain": [
       "Log(dt=datetime.datetime(2025, 7, 8, 23, 37, 49, 998289, tzinfo=datetime.timezone.utc), message='line_1')"
      ]
     },
     "execution_count": 15,
     "metadata": {},
     "output_type": "execute_result"
    }
   ],
   "execution_count": 15
  },
  {
   "metadata": {
    "ExecuteTime": {
     "end_time": "2025-07-08T23:37:51.684111Z",
     "start_time": "2025-07-08T23:37:51.677449Z"
    }
   },
   "cell_type": "code",
   "source": "Log(message=\"line_2\")",
   "id": "38227b85ab63d957",
   "outputs": [
    {
     "data": {
      "text/plain": [
       "Log(dt=datetime.datetime(2025, 7, 8, 23, 37, 51, 678958, tzinfo=datetime.timezone.utc), message='line_2')"
      ]
     },
     "execution_count": 16,
     "metadata": {},
     "output_type": "execute_result"
    }
   ],
   "execution_count": 16
  },
  {
   "metadata": {},
   "cell_type": "code",
   "outputs": [],
   "execution_count": null,
   "source": "",
   "id": "3237defeefb1909f"
  }
 ],
 "metadata": {
  "kernelspec": {
   "display_name": "Python 3 (ipykernel)",
   "language": "python",
   "name": "python3"
  },
  "language_info": {
   "codemirror_mode": {
    "name": "ipython",
    "version": 3
   },
   "file_extension": ".py",
   "mimetype": "text/x-python",
   "name": "python",
   "nbconvert_exporter": "python",
   "pygments_lexer": "ipython3",
   "version": "3.12.0"
  }
 },
 "nbformat": 4,
 "nbformat_minor": 5
}
