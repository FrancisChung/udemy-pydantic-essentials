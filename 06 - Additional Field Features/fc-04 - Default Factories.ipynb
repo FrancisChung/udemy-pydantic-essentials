{
 "cells": [
  {
   "metadata": {},
   "cell_type": "markdown",
   "source": "",
   "id": "ef78e83ed9bf146a"
  },
  {
   "metadata": {},
   "cell_type": "markdown",
   "source": "Default Factories\n",
   "id": "b87d99ccfd5fd83"
  },
  {
   "metadata": {
    "ExecuteTime": {
     "end_time": "2025-07-03T06:35:41.175900Z",
     "start_time": "2025-07-03T06:35:41.171371Z"
    }
   },
   "cell_type": "code",
   "source": [
    "def my_func(a=1, b=2):\n",
    "    pass"
   ],
   "id": "ed52e7413d27049e",
   "outputs": [],
   "execution_count": 2
  },
  {
   "metadata": {
    "ExecuteTime": {
     "end_time": "2025-07-03T06:45:24.477413Z",
     "start_time": "2025-07-03T06:45:24.472321Z"
    }
   },
   "cell_type": "code",
   "source": "from datetime import datetime, timezone",
   "id": "3dcf9ca969009003",
   "outputs": [],
   "execution_count": 7
  },
  {
   "metadata": {
    "ExecuteTime": {
     "end_time": "2025-07-03T06:45:26.744618Z",
     "start_time": "2025-07-03T06:45:26.741794Z"
    }
   },
   "cell_type": "code",
   "source": [
    "def log(text: str, dt: datetime = datetime.now(timezone.utc)):\n",
    "    print(f\"{dt.isoformat()}: {text}\")"
   ],
   "id": "8eeae7130bd448ff",
   "outputs": [],
   "execution_count": 8
  },
  {
   "metadata": {
    "ExecuteTime": {
     "end_time": "2025-07-03T06:46:14.917643Z",
     "start_time": "2025-07-03T06:46:14.914806Z"
    }
   },
   "cell_type": "code",
   "source": "log(\"line_1\", dt=datetime(2025,7,2,15,0,0))",
   "id": "1a45cdc2d4611211",
   "outputs": [
    {
     "name": "stdout",
     "output_type": "stream",
     "text": [
      "2025-07-02T15:00:00: line_1\n"
     ]
    }
   ],
   "execution_count": 9
  },
  {
   "metadata": {
    "ExecuteTime": {
     "end_time": "2025-07-03T06:46:42.614431Z",
     "start_time": "2025-07-03T06:46:42.612030Z"
    }
   },
   "cell_type": "code",
   "source": "log(\"line_1\")",
   "id": "84c3e154af4909a2",
   "outputs": [
    {
     "name": "stdout",
     "output_type": "stream",
     "text": [
      "2025-07-03T06:45:26.743235+00:00: line_1\n"
     ]
    }
   ],
   "execution_count": 10
  },
  {
   "metadata": {
    "ExecuteTime": {
     "end_time": "2025-07-03T06:47:38.917964Z",
     "start_time": "2025-07-03T06:47:38.914297Z"
    }
   },
   "cell_type": "code",
   "source": "log(\"line_2\")",
   "id": "b8e9084ba742b741",
   "outputs": [
    {
     "name": "stdout",
     "output_type": "stream",
     "text": [
      "2025-07-03T06:45:26.743235+00:00: line_2\n"
     ]
    }
   ],
   "execution_count": 12
  },
  {
   "metadata": {
    "ExecuteTime": {
     "end_time": "2025-07-03T06:50:23.871655Z",
     "start_time": "2025-07-03T06:50:23.869118Z"
    }
   },
   "cell_type": "code",
   "source": [
    "def log(text: str, dt: datetime = None):\n",
    "    dt = dt or datetime.now(timezone.utc)\n",
    "    print(f\"{dt.isoformat()}: {text}\")"
   ],
   "id": "922855152daac598",
   "outputs": [],
   "execution_count": 15
  },
  {
   "metadata": {
    "ExecuteTime": {
     "end_time": "2025-07-03T06:50:38.011868Z",
     "start_time": "2025-07-03T06:50:38.008741Z"
    }
   },
   "cell_type": "code",
   "source": "log(\"line_1\")",
   "id": "8f5b69ad144dc928",
   "outputs": [
    {
     "name": "stdout",
     "output_type": "stream",
     "text": [
      "2025-07-03T06:50:38.010160+00:00: line_1\n"
     ]
    }
   ],
   "execution_count": 17
  },
  {
   "metadata": {
    "ExecuteTime": {
     "end_time": "2025-07-03T06:50:38.857345Z",
     "start_time": "2025-07-03T06:50:38.855260Z"
    }
   },
   "cell_type": "code",
   "source": "",
   "id": "8b90a2cc7e3e3774",
   "outputs": [],
   "execution_count": null
  },
  {
   "metadata": {},
   "cell_type": "code",
   "outputs": [],
   "execution_count": null,
   "source": "",
   "id": "9bb85cc5b67bc6fc"
  }
 ],
 "metadata": {
  "kernelspec": {
   "display_name": "Python 3 (ipykernel)",
   "language": "python",
   "name": "python3"
  },
  "language_info": {
   "codemirror_mode": {
    "name": "ipython",
    "version": 3
   },
   "file_extension": ".py",
   "mimetype": "text/x-python",
   "name": "python",
   "nbconvert_exporter": "python",
   "pygments_lexer": "ipython3",
   "version": "3.12.0"
  }
 },
 "nbformat": 4,
 "nbformat_minor": 5
}
