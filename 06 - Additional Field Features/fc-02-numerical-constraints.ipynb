{
 "cells": [
  {
   "cell_type": "code",
   "id": "initial_id",
   "metadata": {
    "collapsed": true,
    "ExecuteTime": {
     "end_time": "2025-03-28T06:01:01.136659Z",
     "start_time": "2025-03-28T06:01:01.088163Z"
    }
   },
   "source": "from pydantic import BaseModel, Field, ValidationError",
   "outputs": [],
   "execution_count": 1
  },
  {
   "metadata": {
    "ExecuteTime": {
     "end_time": "2025-03-28T06:02:03.603447Z",
     "start_time": "2025-03-28T06:02:03.569205Z"
    }
   },
   "cell_type": "code",
   "source": [
    "class Model(BaseModel):\n",
    "    number: float = Field(gt=2, le=10, multiple_of=2)"
   ],
   "id": "776f95e8a30c45d7",
   "outputs": [],
   "execution_count": 3
  },
  {
   "metadata": {
    "ExecuteTime": {
     "end_time": "2025-03-28T06:02:16.964064Z",
     "start_time": "2025-03-28T06:02:16.958854Z"
    }
   },
   "cell_type": "code",
   "source": [
    "m = Model(number=4)\n",
    "m"
   ],
   "id": "baced168128ca7db",
   "outputs": [
    {
     "data": {
      "text/plain": [
       "Model(number=4.0)"
      ]
     },
     "execution_count": 4,
     "metadata": {},
     "output_type": "execute_result"
    }
   ],
   "execution_count": 4
  },
  {
   "metadata": {
    "ExecuteTime": {
     "end_time": "2025-03-28T06:02:41.707664Z",
     "start_time": "2025-03-28T06:02:41.703197Z"
    }
   },
   "cell_type": "code",
   "source": [
    "try:\n",
    "    Model(number=14)\n",
    "except ValidationError as e:\n",
    "    print(e);"
   ],
   "id": "9de6b6c9cf7f9b54",
   "outputs": [
    {
     "name": "stdout",
     "output_type": "stream",
     "text": [
      "1 validation error for Model\n",
      "number\n",
      "  Input should be less than or equal to 10 [type=less_than_equal, input_value=14, input_type=int]\n",
      "    For further information visit https://errors.pydantic.dev/2.9/v/less_than_equal\n"
     ]
    }
   ],
   "execution_count": 5
  },
  {
   "metadata": {},
   "cell_type": "code",
   "outputs": [],
   "execution_count": null,
   "source": "",
   "id": "492f81f980b33a47"
  }
 ],
 "metadata": {
  "kernelspec": {
   "display_name": "Python 3",
   "language": "python",
   "name": "python3"
  },
  "language_info": {
   "codemirror_mode": {
    "name": "ipython",
    "version": 2
   },
   "file_extension": ".py",
   "mimetype": "text/x-python",
   "name": "python",
   "nbconvert_exporter": "python",
   "pygments_lexer": "ipython2",
   "version": "2.7.6"
  }
 },
 "nbformat": 4,
 "nbformat_minor": 5
}
