{
 "cells": [
  {
   "cell_type": "code",
   "id": "initial_id",
   "metadata": {
    "collapsed": true,
    "ExecuteTime": {
     "end_time": "2025-03-28T06:01:01.136659Z",
     "start_time": "2025-03-28T06:01:01.088163Z"
    }
   },
   "source": "from pydantic import BaseModel, Field, ValidationError",
   "outputs": [],
   "execution_count": 1
  },
  {
   "metadata": {
    "ExecuteTime": {
     "end_time": "2025-03-28T06:02:03.603447Z",
     "start_time": "2025-03-28T06:02:03.569205Z"
    }
   },
   "cell_type": "code",
   "source": [
    "class Model(BaseModel):\n",
    "    number: float = Field(gt=2, le=10, multiple_of=2)"
   ],
   "id": "776f95e8a30c45d7",
   "outputs": [],
   "execution_count": 3
  },
  {
   "metadata": {
    "ExecuteTime": {
     "end_time": "2025-03-28T06:02:16.964064Z",
     "start_time": "2025-03-28T06:02:16.958854Z"
    }
   },
   "cell_type": "code",
   "source": [
    "m = Model(number=4)\n",
    "m"
   ],
   "id": "baced168128ca7db",
   "outputs": [
    {
     "data": {
      "text/plain": [
       "Model(number=4.0)"
      ]
     },
     "execution_count": 4,
     "metadata": {},
     "output_type": "execute_result"
    }
   ],
   "execution_count": 4
  },
  {
   "metadata": {
    "ExecuteTime": {
     "end_time": "2025-03-28T06:02:41.707664Z",
     "start_time": "2025-03-28T06:02:41.703197Z"
    }
   },
   "cell_type": "code",
   "source": [
    "try:\n",
    "    Model(number=14)\n",
    "except ValidationError as e:\n",
    "    print(e);"
   ],
   "id": "9de6b6c9cf7f9b54",
   "outputs": [
    {
     "name": "stdout",
     "output_type": "stream",
     "text": [
      "1 validation error for Model\n",
      "number\n",
      "  Input should be less than or equal to 10 [type=less_than_equal, input_value=14, input_type=int]\n",
      "    For further information visit https://errors.pydantic.dev/2.9/v/less_than_equal\n"
     ]
    }
   ],
   "execution_count": 5
  },
  {
   "metadata": {
    "ExecuteTime": {
     "end_time": "2025-03-28T06:05:04.740963Z",
     "start_time": "2025-03-28T06:05:04.735633Z"
    }
   },
   "cell_type": "code",
   "source": [
    "class Model(BaseModel):\n",
    "    number: int = Field(gt=0)"
   ],
   "id": "492f81f980b33a47",
   "outputs": [],
   "execution_count": 7
  },
  {
   "metadata": {
    "ExecuteTime": {
     "end_time": "2025-03-28T06:05:17.453765Z",
     "start_time": "2025-03-28T06:05:17.450597Z"
    }
   },
   "cell_type": "code",
   "source": "Model.model_fields",
   "id": "93a5284880342fd7",
   "outputs": [
    {
     "data": {
      "text/plain": [
       "{'number': FieldInfo(annotation=int, required=True, metadata=[Gt(gt=0)])}"
      ]
     },
     "execution_count": 9,
     "metadata": {},
     "output_type": "execute_result"
    }
   ],
   "execution_count": 9
  },
  {
   "metadata": {
    "ExecuteTime": {
     "end_time": "2025-03-28T06:05:36.747228Z",
     "start_time": "2025-03-28T06:05:36.744951Z"
    }
   },
   "cell_type": "code",
   "source": "from pydantic import PositiveInt",
   "id": "265a76e000f75676",
   "outputs": [],
   "execution_count": 10
  },
  {
   "metadata": {
    "ExecuteTime": {
     "end_time": "2025-03-28T06:06:22.501045Z",
     "start_time": "2025-03-28T06:06:22.496410Z"
    }
   },
   "cell_type": "code",
   "source": [
    "class Model(BaseModel):\n",
    "    number: PositiveInt"
   ],
   "id": "f040d2e3f50e9c83",
   "outputs": [],
   "execution_count": 11
  },
  {
   "metadata": {
    "ExecuteTime": {
     "end_time": "2025-03-28T06:06:27.367194Z",
     "start_time": "2025-03-28T06:06:27.362448Z"
    }
   },
   "cell_type": "code",
   "source": "Model.model_fields",
   "id": "b004b51bf84b145a",
   "outputs": [
    {
     "data": {
      "text/plain": [
       "{'number': FieldInfo(annotation=int, required=True, metadata=[Gt(gt=0)])}"
      ]
     },
     "execution_count": 12,
     "metadata": {},
     "output_type": "execute_result"
    }
   ],
   "execution_count": 12
  }
 ],
 "metadata": {
  "kernelspec": {
   "display_name": "Python 3",
   "language": "python",
   "name": "python3"
  },
  "language_info": {
   "codemirror_mode": {
    "name": "ipython",
    "version": 2
   },
   "file_extension": ".py",
   "mimetype": "text/x-python",
   "name": "python",
   "nbconvert_exporter": "python",
   "pygments_lexer": "ipython2",
   "version": "2.7.6"
  }
 },
 "nbformat": 4,
 "nbformat_minor": 5
}
