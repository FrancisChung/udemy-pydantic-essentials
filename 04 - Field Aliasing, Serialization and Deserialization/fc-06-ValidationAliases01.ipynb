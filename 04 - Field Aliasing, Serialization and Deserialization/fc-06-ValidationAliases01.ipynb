{
 "cells": [
  {
   "cell_type": "code",
   "execution_count": 7,
   "id": "a4a9ba02",
   "metadata": {},
   "outputs": [],
   "source": [
    "from pydantic import BaseModel, Field, ConfigDict, ValidationError"
   ]
  },
  {
   "cell_type": "code",
   "execution_count": 8,
   "id": "a137ad62",
   "metadata": {},
   "outputs": [],
   "source": [
    "class Model(BaseModel):\n",
    "    model_config = ConfigDict(populate_by_name = True)\n",
    "    first_name : str = Field(validation_alias=\"FirstName\")"
   ]
  },
  {
   "cell_type": "code",
   "execution_count": 12,
   "id": "aa9f75f3",
   "metadata": {},
   "outputs": [
    {
     "data": {
      "text/plain": [
       "Model(first_name='Issac')"
      ]
     },
     "execution_count": 12,
     "metadata": {},
     "output_type": "execute_result"
    }
   ],
   "source": [
    "m = Model(FirstName=\"Issac\")\n",
    "m"
   ]
  },
  {
   "cell_type": "code",
   "execution_count": 17,
   "id": "4b6e2fb5",
   "metadata": {},
   "outputs": [
    {
     "data": {
      "text/plain": [
       "Model(first_name='Issacs')"
      ]
     },
     "execution_count": 17,
     "metadata": {},
     "output_type": "execute_result"
    }
   ],
   "source": [
    "data = {\"FirstName\" : \"Issacs\"}\n",
    "m = Model.model_validate(data)\n",
    "m"
   ]
  },
  {
   "cell_type": "code",
   "execution_count": 18,
   "id": "b57501f6",
   "metadata": {},
   "outputs": [
    {
     "data": {
      "text/plain": [
       "{'first_name': 'Issacs'}"
      ]
     },
     "execution_count": 18,
     "metadata": {},
     "output_type": "execute_result"
    }
   ],
   "source": [
    "m.model_dump()"
   ]
  },
  {
   "cell_type": "code",
   "execution_count": 19,
   "id": "906db962",
   "metadata": {},
   "outputs": [
    {
     "data": {
      "text/plain": [
       "{'first_name': 'Issacs'}"
      ]
     },
     "execution_count": 19,
     "metadata": {},
     "output_type": "execute_result"
    }
   ],
   "source": [
    "m.model_dump(by_alias=True)"
   ]
  },
  {
   "cell_type": "code",
   "execution_count": 20,
   "id": "1bf8901b",
   "metadata": {},
   "outputs": [],
   "source": [
    "class Model(BaseModel):\n",
    "    model_config = ConfigDict(populate_by_name = True)\n",
    "    first_name : str = Field(validation_alias=\"FirstName\", alias=\"firstName\")"
   ]
  },
  {
   "cell_type": "code",
   "execution_count": 21,
   "id": "e1edfb63",
   "metadata": {},
   "outputs": [
    {
     "data": {
      "text/plain": [
       "Model(first_name='Issac')"
      ]
     },
     "execution_count": 21,
     "metadata": {},
     "output_type": "execute_result"
    }
   ],
   "source": [
    "m = Model(FirstName=\"Issac\")\n",
    "m"
   ]
  },
  {
   "cell_type": "code",
   "execution_count": 22,
   "id": "52e11cf1",
   "metadata": {},
   "outputs": [
    {
     "data": {
      "text/plain": [
       "{'firstName': 'Issac'}"
      ]
     },
     "execution_count": 22,
     "metadata": {},
     "output_type": "execute_result"
    }
   ],
   "source": [
    "m.model_dump(by_alias=True)"
   ]
  },
  {
   "cell_type": "code",
   "execution_count": 27,
   "id": "810039e5",
   "metadata": {},
   "outputs": [],
   "source": [
    "class Model(BaseModel):\n",
    "    model_config = ConfigDict(populate_by_name = True)\n",
    "    first_name : str = Field(\n",
    "        validation_alias=\"FirstName\", \n",
    "        alias=\"firstName\",\n",
    "        serialization_alias=\"givenName\")"
   ]
  },
  {
   "cell_type": "code",
   "execution_count": 28,
   "id": "d5e10532",
   "metadata": {},
   "outputs": [
    {
     "data": {
      "text/plain": [
       "Model(first_name='Issacs')"
      ]
     },
     "execution_count": 28,
     "metadata": {},
     "output_type": "execute_result"
    }
   ],
   "source": [
    "data = {\"FirstName\" : \"Issacs\"}\n",
    "m = Model.model_validate(data)\n",
    "m"
   ]
  },
  {
   "cell_type": "code",
   "execution_count": 29,
   "id": "9d1d69ca",
   "metadata": {},
   "outputs": [
    {
     "data": {
      "text/plain": [
       "Model(first_name='Issacs')"
      ]
     },
     "execution_count": 29,
     "metadata": {},
     "output_type": "execute_result"
    }
   ],
   "source": [
    "Model(first_name='Issacs')"
   ]
  },
  {
   "cell_type": "code",
   "execution_count": 30,
   "id": "b81eb166",
   "metadata": {},
   "outputs": [
    {
     "data": {
      "text/plain": [
       "{'givenName': 'Issacs'}"
      ]
     },
     "execution_count": 30,
     "metadata": {},
     "output_type": "execute_result"
    }
   ],
   "source": [
    "m.model_dump(by_alias=True)"
   ]
  },
  {
   "cell_type": "code",
   "execution_count": 33,
   "id": "fa61b280",
   "metadata": {},
   "outputs": [],
   "source": [
    "from pydantic.alias_generators import to_camel"
   ]
  },
  {
   "cell_type": "code",
   "execution_count": 62,
   "id": "6af1e62c",
   "metadata": {},
   "outputs": [],
   "source": [
    "class Model(BaseModel):\n",
    "    model_config = ConfigDict(populate_by_name = True, alias_generator = to_camel)\n",
    "    first_name : str\n",
    "    last_name: str"
   ]
  },
  {
   "cell_type": "code",
   "execution_count": 63,
   "id": "1ec4b8d6",
   "metadata": {},
   "outputs": [],
   "source": [
    "data = {\"FirstName\" : \"Issacs\", \"lastName\" : \"Newton\"}"
   ]
  },
  {
   "cell_type": "code",
   "execution_count": 64,
   "id": "e696ed0c",
   "metadata": {},
   "outputs": [
    {
     "data": {
      "text/plain": [
       "{'first_name': FieldInfo(annotation=str, required=True, alias='firstName', alias_priority=1),\n",
       " 'last_name': FieldInfo(annotation=str, required=True, alias='lastName', alias_priority=1)}"
      ]
     },
     "execution_count": 64,
     "metadata": {},
     "output_type": "execute_result"
    }
   ],
   "source": [
    "Model.model_fields"
   ]
  },
  {
   "cell_type": "code",
   "execution_count": 65,
   "id": "dace5374",
   "metadata": {},
   "outputs": [],
   "source": [
    "class Model(BaseModel):\n",
    "    model_config = ConfigDict(populate_by_name = True, alias_generator = to_camel)\n",
    "    first_name : str = Field(validation_alias = \"FirstName\", serialization_alias=\"givenName\")\n",
    "    last_name: str"
   ]
  },
  {
   "cell_type": "code",
   "execution_count": 66,
   "id": "5f00c20e",
   "metadata": {},
   "outputs": [
    {
     "data": {
      "text/plain": [
       "Model(first_name='Issacs', last_name='Newton')"
      ]
     },
     "execution_count": 66,
     "metadata": {},
     "output_type": "execute_result"
    }
   ],
   "source": [
    "data = {\"FirstName\" : \"Issacs\", \"lastName\" : \"Newton\"}\n",
    "m = Model.model_validate(data)\n",
    "m"
   ]
  },
  {
   "cell_type": "code",
   "execution_count": 67,
   "id": "251a41c1",
   "metadata": {},
   "outputs": [
    {
     "data": {
      "text/plain": [
       "{'givenName': 'Issacs', 'lastName': 'Newton'}"
      ]
     },
     "execution_count": 67,
     "metadata": {},
     "output_type": "execute_result"
    }
   ],
   "source": [
    "m.model_dump(by_alias=True)"
   ]
  },
  {
   "cell_type": "code",
   "execution_count": 72,
   "id": "d5992b95",
   "metadata": {},
   "outputs": [],
   "source": [
    "from pydantic import AliasChoices"
   ]
  },
  {
   "cell_type": "code",
   "execution_count": 73,
   "id": "a1ffcecf",
   "metadata": {},
   "outputs": [],
   "source": [
    "class Model(BaseModel):\n",
    "    model_config = ConfigDict(populate_by_name = True, alias_generator = to_camel)\n",
    "    first_name : str = Field(\n",
    "        validation_alias = AliasChoices(\"FirstName\", \"GivenName\"),\n",
    "        serialization_alias = \"givenName\"\n",
    "    )\n",
    "    last_name : str"
   ]
  },
  {
   "cell_type": "code",
   "execution_count": 74,
   "id": "d7d6eea9",
   "metadata": {},
   "outputs": [
    {
     "data": {
      "text/plain": [
       "Model(first_name='Issac', last_name='Newton')"
      ]
     },
     "execution_count": 74,
     "metadata": {},
     "output_type": "execute_result"
    }
   ],
   "source": [
    "data = {\n",
    "    \"FirstName\": \"Issac\",\n",
    "    \"lastName\" : \"Newton\"\n",
    "}\n",
    "m = Model.model_validate(data)\n",
    "m"
   ]
  },
  {
   "cell_type": "code",
   "execution_count": 75,
   "id": "83f81194",
   "metadata": {},
   "outputs": [
    {
     "data": {
      "text/plain": [
       "{'givenName': 'Issac', 'lastName': 'Newton'}"
      ]
     },
     "execution_count": 75,
     "metadata": {},
     "output_type": "execute_result"
    }
   ],
   "source": [
    "m.model_dump(by_alias=True)"
   ]
  },
  {
   "cell_type": "code",
   "execution_count": null,
   "id": "42841e92",
   "metadata": {},
   "outputs": [],
   "source": []
  }
 ],
 "metadata": {
  "kernelspec": {
   "display_name": "Python 3 (ipykernel)",
   "language": "python",
   "name": "python3"
  },
  "language_info": {
   "codemirror_mode": {
    "name": "ipython",
    "version": 3
   },
   "file_extension": ".py",
   "mimetype": "text/x-python",
   "name": "python",
   "nbconvert_exporter": "python",
   "pygments_lexer": "ipython3",
   "version": "3.10.12"
  }
 },
 "nbformat": 4,
 "nbformat_minor": 5
}
