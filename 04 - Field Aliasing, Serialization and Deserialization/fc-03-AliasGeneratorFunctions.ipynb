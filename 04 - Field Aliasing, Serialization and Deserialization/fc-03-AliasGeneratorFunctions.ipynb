{
 "cells": [
  {
   "cell_type": "code",
   "execution_count": 1,
   "id": "8557a95c",
   "metadata": {},
   "outputs": [],
   "source": [
    "from pydantic import BaseModel, Field, ConfigDict, ValidationError"
   ]
  },
  {
   "cell_type": "code",
   "execution_count": 2,
   "id": "c17d8710",
   "metadata": {},
   "outputs": [],
   "source": [
    "from pydantic.alias_generators import to_camel, to_snake, to_pascal"
   ]
  },
  {
   "cell_type": "code",
   "execution_count": 3,
   "id": "9284ea33",
   "metadata": {},
   "outputs": [
    {
     "data": {
      "text/plain": [
       "'lastName'"
      ]
     },
     "execution_count": 3,
     "metadata": {},
     "output_type": "execute_result"
    }
   ],
   "source": [
    "to_camel(\"last_name\")"
   ]
  },
  {
   "cell_type": "code",
   "execution_count": 4,
   "id": "0f78b8f0",
   "metadata": {},
   "outputs": [
    {
     "data": {
      "text/plain": [
       "'last_name'"
      ]
     },
     "execution_count": 4,
     "metadata": {},
     "output_type": "execute_result"
    }
   ],
   "source": [
    "to_snake(\"lastName\")"
   ]
  },
  {
   "cell_type": "code",
   "execution_count": 5,
   "id": "f6626e3e",
   "metadata": {},
   "outputs": [
    {
     "data": {
      "text/plain": [
       "'Lastname'"
      ]
     },
     "execution_count": 5,
     "metadata": {},
     "output_type": "execute_result"
    }
   ],
   "source": [
    "to_pascal(\"lastName\")"
   ]
  },
  {
   "cell_type": "code",
   "execution_count": 6,
   "id": "e2e844cf",
   "metadata": {},
   "outputs": [
    {
     "data": {
      "text/plain": [
       "'LastName'"
      ]
     },
     "execution_count": 6,
     "metadata": {},
     "output_type": "execute_result"
    }
   ],
   "source": [
    "to_pascal(\"last_name\")"
   ]
  },
  {
   "cell_type": "code",
   "execution_count": 7,
   "id": "825563c7",
   "metadata": {},
   "outputs": [],
   "source": [
    "def make_upper(in_str : str) -> str :\n",
    "    return(in_str.upper())"
   ]
  },
  {
   "cell_type": "code",
   "execution_count": 8,
   "id": "aaf9a28f",
   "metadata": {},
   "outputs": [
    {
     "data": {
      "text/plain": [
       "'LASTNAME'"
      ]
     },
     "execution_count": 8,
     "metadata": {},
     "output_type": "execute_result"
    }
   ],
   "source": [
    "make_upper(\"lastname\")"
   ]
  },
  {
   "cell_type": "code",
   "execution_count": 14,
   "id": "2a6622d6",
   "metadata": {},
   "outputs": [],
   "source": [
    "class Person(BaseModel):\n",
    "    model_config = ConfigDict(alias_generator = make_upper)\n",
    "    \n",
    "    id_ : int\n",
    "    first_name : str | None = None\n",
    "    last_name : str\n",
    "    age : int |None = None\n",
    "\n",
    "    "
   ]
  },
  {
   "cell_type": "code",
   "execution_count": 15,
   "id": "bf66d210",
   "metadata": {},
   "outputs": [
    {
     "data": {
      "text/plain": [
       "{'id_': FieldInfo(annotation=int, required=True, alias='ID_', alias_priority=1),\n",
       " 'first_name': FieldInfo(annotation=Union[str, NoneType], required=False, default=None, alias='FIRST_NAME', alias_priority=1),\n",
       " 'last_name': FieldInfo(annotation=str, required=True, alias='LAST_NAME', alias_priority=1),\n",
       " 'age': FieldInfo(annotation=Union[int, NoneType], required=False, default=None, alias='AGE', alias_priority=1)}"
      ]
     },
     "execution_count": 15,
     "metadata": {},
     "output_type": "execute_result"
    }
   ],
   "source": [
    "Person.model_fields"
   ]
  },
  {
   "cell_type": "code",
   "execution_count": 20,
   "id": "d2bc167a",
   "metadata": {},
   "outputs": [
    {
     "ename": "ValidationError",
     "evalue": "2 validation errors for Person\nID_\n  Field required [type=missing, input_value={'id_': 1, 'last_name': 'smith', 'age': 52}, input_type=dict]\n    For further information visit https://errors.pydantic.dev/2.9/v/missing\nLAST_NAME\n  Field required [type=missing, input_value={'id_': 1, 'last_name': 'smith', 'age': 52}, input_type=dict]\n    For further information visit https://errors.pydantic.dev/2.9/v/missing",
     "output_type": "error",
     "traceback": [
      "\u001b[0;31m---------------------------------------------------------------------------\u001b[0m",
      "\u001b[0;31mValidationError\u001b[0m                           Traceback (most recent call last)",
      "\u001b[0;32m/tmp/ipykernel_6724/2067368631.py\u001b[0m in \u001b[0;36m<module>\u001b[0;34m\u001b[0m\n\u001b[0;32m----> 1\u001b[0;31m \u001b[0mp\u001b[0m \u001b[0;34m=\u001b[0m \u001b[0mPerson\u001b[0m\u001b[0;34m(\u001b[0m\u001b[0mid_\u001b[0m\u001b[0;34m=\u001b[0m\u001b[0;36m1\u001b[0m\u001b[0;34m,\u001b[0m \u001b[0mlast_name\u001b[0m \u001b[0;34m=\u001b[0m\u001b[0;34m\"smith\"\u001b[0m\u001b[0;34m,\u001b[0m \u001b[0mage\u001b[0m\u001b[0;34m=\u001b[0m\u001b[0;36m52\u001b[0m\u001b[0;34m)\u001b[0m\u001b[0;34m\u001b[0m\u001b[0;34m\u001b[0m\u001b[0m\n\u001b[0m",
      "\u001b[0;32m~/.local/lib/python3.10/site-packages/pydantic/main.py\u001b[0m in \u001b[0;36m__init__\u001b[0;34m(self, **data)\u001b[0m\n\u001b[1;32m    210\u001b[0m         \u001b[0;31m# `__tracebackhide__` tells pytest and some other tools to omit this function from tracebacks\u001b[0m\u001b[0;34m\u001b[0m\u001b[0;34m\u001b[0m\u001b[0m\n\u001b[1;32m    211\u001b[0m         \u001b[0m__tracebackhide__\u001b[0m \u001b[0;34m=\u001b[0m \u001b[0;32mTrue\u001b[0m\u001b[0;34m\u001b[0m\u001b[0;34m\u001b[0m\u001b[0m\n\u001b[0;32m--> 212\u001b[0;31m         \u001b[0mvalidated_self\u001b[0m \u001b[0;34m=\u001b[0m \u001b[0mself\u001b[0m\u001b[0;34m.\u001b[0m\u001b[0m__pydantic_validator__\u001b[0m\u001b[0;34m.\u001b[0m\u001b[0mvalidate_python\u001b[0m\u001b[0;34m(\u001b[0m\u001b[0mdata\u001b[0m\u001b[0;34m,\u001b[0m \u001b[0mself_instance\u001b[0m\u001b[0;34m=\u001b[0m\u001b[0mself\u001b[0m\u001b[0;34m)\u001b[0m\u001b[0;34m\u001b[0m\u001b[0;34m\u001b[0m\u001b[0m\n\u001b[0m\u001b[1;32m    213\u001b[0m         \u001b[0;32mif\u001b[0m \u001b[0mself\u001b[0m \u001b[0;32mis\u001b[0m \u001b[0;32mnot\u001b[0m \u001b[0mvalidated_self\u001b[0m\u001b[0;34m:\u001b[0m\u001b[0;34m\u001b[0m\u001b[0;34m\u001b[0m\u001b[0m\n\u001b[1;32m    214\u001b[0m             warnings.warn(\n",
      "\u001b[0;31mValidationError\u001b[0m: 2 validation errors for Person\nID_\n  Field required [type=missing, input_value={'id_': 1, 'last_name': 'smith', 'age': 52}, input_type=dict]\n    For further information visit https://errors.pydantic.dev/2.9/v/missing\nLAST_NAME\n  Field required [type=missing, input_value={'id_': 1, 'last_name': 'smith', 'age': 52}, input_type=dict]\n    For further information visit https://errors.pydantic.dev/2.9/v/missing"
     ]
    }
   ],
   "source": [
    "p = Person(id_=1, last_name =\"smith\", age=52)"
   ]
  },
  {
   "cell_type": "code",
   "execution_count": 23,
   "id": "19f1f258",
   "metadata": {},
   "outputs": [
    {
     "data": {
      "text/plain": [
       "Person(id_=1, first_name=None, last_name='smith', age=None)"
      ]
     },
     "execution_count": 23,
     "metadata": {},
     "output_type": "execute_result"
    }
   ],
   "source": [
    "p = Person(ID_=1, LAST_NAME =\"smith\", age=52)\n",
    "p\n"
   ]
  },
  {
   "cell_type": "code",
   "execution_count": 24,
   "id": "5d1e582d",
   "metadata": {},
   "outputs": [
    {
     "data": {
      "text/plain": [
       "{'id_': 1, 'first_name': None, 'last_name': 'smith', 'age': None}"
      ]
     },
     "execution_count": 24,
     "metadata": {},
     "output_type": "execute_result"
    }
   ],
   "source": [
    "p.model_dump()\n"
   ]
  },
  {
   "cell_type": "code",
   "execution_count": 25,
   "id": "e1fd0df4",
   "metadata": {},
   "outputs": [
    {
     "data": {
      "text/plain": [
       "{'ID_': 1, 'FIRST_NAME': None, 'LAST_NAME': 'smith', 'AGE': None}"
      ]
     },
     "execution_count": 25,
     "metadata": {},
     "output_type": "execute_result"
    }
   ],
   "source": [
    "p.model_dump(by_alias = True)\n"
   ]
  },
  {
   "cell_type": "code",
   "execution_count": 26,
   "id": "4fde81d9",
   "metadata": {},
   "outputs": [],
   "source": [
    "class Person(BaseModel):\n",
    "    model_config = ConfigDict(alias_generator = make_upper)\n",
    "    \n",
    "    id_ : int = Field(alias = \"ID\")\n",
    "    first_name : str | None = None\n",
    "    last_name : str\n",
    "    age : int |None = None\n"
   ]
  },
  {
   "cell_type": "code",
   "execution_count": 28,
   "id": "e9703ea7",
   "metadata": {},
   "outputs": [
    {
     "data": {
      "text/plain": [
       "Person(id_=1, first_name=None, last_name='smith', age=None)"
      ]
     },
     "execution_count": 28,
     "metadata": {},
     "output_type": "execute_result"
    }
   ],
   "source": [
    "p = Person(ID=1, LAST_NAME =\"smith\", age=52)\n",
    "p"
   ]
  },
  {
   "cell_type": "code",
   "execution_count": 29,
   "id": "02f456e4",
   "metadata": {},
   "outputs": [
    {
     "data": {
      "text/plain": [
       "<bound method BaseModel.model_dump of Person(id_=1, first_name=None, last_name='smith', age=None)>"
      ]
     },
     "execution_count": 29,
     "metadata": {},
     "output_type": "execute_result"
    }
   ],
   "source": [
    "p.model_dump"
   ]
  },
  {
   "cell_type": "code",
   "execution_count": 30,
   "id": "8b3c5fa3",
   "metadata": {},
   "outputs": [
    {
     "data": {
      "text/plain": [
       "'{\"ID\":1,\"FIRST_NAME\":null,\"LAST_NAME\":\"smith\",\"AGE\":null}'"
      ]
     },
     "execution_count": 30,
     "metadata": {},
     "output_type": "execute_result"
    }
   ],
   "source": [
    "p.model_dump_json(by_alias = True)"
   ]
  },
  {
   "cell_type": "code",
   "execution_count": 40,
   "id": "d45dc7bd",
   "metadata": {},
   "outputs": [],
   "source": [
    "class Person(BaseModel):\n",
    "    model_config = ConfigDict(alias_generator = to_camel)\n",
    "    \n",
    "    id_ : int = Field(alias = \"id\")\n",
    "    first_name : str | None = None\n",
    "    last_name : str\n",
    "    age : int |None = None"
   ]
  },
  {
   "cell_type": "code",
   "execution_count": 41,
   "id": "22d687ab",
   "metadata": {},
   "outputs": [
    {
     "data": {
      "text/plain": [
       "{'id_': FieldInfo(annotation=int, required=True, alias='id', alias_priority=2),\n",
       " 'first_name': FieldInfo(annotation=Union[str, NoneType], required=False, default=None, alias='firstName', alias_priority=1),\n",
       " 'last_name': FieldInfo(annotation=str, required=True, alias='lastName', alias_priority=1),\n",
       " 'age': FieldInfo(annotation=Union[int, NoneType], required=False, default=None, alias='age', alias_priority=1)}"
      ]
     },
     "execution_count": 41,
     "metadata": {},
     "output_type": "execute_result"
    }
   ],
   "source": [
    "Person.model_fields"
   ]
  },
  {
   "cell_type": "code",
   "execution_count": 44,
   "id": "adc12c3d",
   "metadata": {},
   "outputs": [
    {
     "data": {
      "text/plain": [
       "Person(id_=1, first_name=None, last_name='Fourier', age=62)"
      ]
     },
     "execution_count": 44,
     "metadata": {},
     "output_type": "execute_result"
    }
   ],
   "source": [
    "p = Person (id= 1, lastName = \"Fourier\", age = 62)\n",
    "p"
   ]
  },
  {
   "cell_type": "code",
   "execution_count": 45,
   "id": "32b5fe0f",
   "metadata": {},
   "outputs": [
    {
     "data": {
      "text/plain": [
       "'{\"id\":1,\"firstName\":null,\"lastName\":\"Fourier\",\"age\":62}'"
      ]
     },
     "execution_count": 45,
     "metadata": {},
     "output_type": "execute_result"
    }
   ],
   "source": [
    "p.model_dump_json(by_alias=True)"
   ]
  },
  {
   "cell_type": "code",
   "execution_count": 49,
   "id": "ca1b5bfe",
   "metadata": {},
   "outputs": [],
   "source": [
    "class Model(BaseModel):\n",
    "    model_config = ConfigDict(alias_generator = to_camel)\n",
    "    \n",
    "    id_ : int = Field(alias = \"id\")\n",
    "    list_ : list[str] = Field(alias=\"list\")\n",
    "    filter_ : dict = Field(alias = \"filter\")\n",
    "    number_elements : list[int]\n"
   ]
  },
  {
   "cell_type": "code",
   "execution_count": 50,
   "id": "456f0537",
   "metadata": {},
   "outputs": [
    {
     "data": {
      "text/plain": [
       "{'id_': FieldInfo(annotation=int, required=True, alias='id', alias_priority=2),\n",
       " 'list_': FieldInfo(annotation=list[str], required=True, alias='list', alias_priority=2),\n",
       " 'filter_': FieldInfo(annotation=dict, required=True, alias='filter', alias_priority=2),\n",
       " 'number_elements': FieldInfo(annotation=list[int], required=True, alias='numberElements', alias_priority=1)}"
      ]
     },
     "execution_count": 50,
     "metadata": {},
     "output_type": "execute_result"
    }
   ],
   "source": [
    "Model.model_fields"
   ]
  },
  {
   "cell_type": "code",
   "execution_count": 52,
   "id": "037a1aff",
   "metadata": {},
   "outputs": [],
   "source": [
    "def make_alias(field_name: str) -> str:\n",
    "    alias = to_camel(field_name)\n",
    "    return alias.removesuffix(\"_\")"
   ]
  },
  {
   "cell_type": "code",
   "execution_count": 53,
   "id": "7076988e",
   "metadata": {},
   "outputs": [
    {
     "data": {
      "text/plain": [
       "'id'"
      ]
     },
     "execution_count": 53,
     "metadata": {},
     "output_type": "execute_result"
    }
   ],
   "source": [
    "make_alias(\"id_\")"
   ]
  },
  {
   "cell_type": "code",
   "execution_count": 54,
   "id": "0109dce2",
   "metadata": {},
   "outputs": [
    {
     "data": {
      "text/plain": [
       "'numberElements'"
      ]
     },
     "execution_count": 54,
     "metadata": {},
     "output_type": "execute_result"
    }
   ],
   "source": [
    "make_alias(\"number_elements\")"
   ]
  },
  {
   "cell_type": "code",
   "execution_count": 57,
   "id": "c45502be",
   "metadata": {},
   "outputs": [],
   "source": [
    "class Model(BaseModel):\n",
    "    model_config = ConfigDict(alias_generator = make_alias)\n",
    "    \n",
    "    id_ : int\n",
    "    list_ : list[str] \n",
    "    filter_ : dict \n",
    "    number_elements : list[int]"
   ]
  },
  {
   "cell_type": "code",
   "execution_count": 58,
   "id": "1a8306aa",
   "metadata": {},
   "outputs": [
    {
     "data": {
      "text/plain": [
       "{'id_': FieldInfo(annotation=int, required=True, alias='id', alias_priority=1),\n",
       " 'list_': FieldInfo(annotation=list[str], required=True, alias='list', alias_priority=1),\n",
       " 'filter_': FieldInfo(annotation=dict, required=True, alias='filter', alias_priority=1),\n",
       " 'number_elements': FieldInfo(annotation=list[int], required=True, alias='numberElements', alias_priority=1)}"
      ]
     },
     "execution_count": 58,
     "metadata": {},
     "output_type": "execute_result"
    }
   ],
   "source": [
    "Model.model_fields"
   ]
  },
  {
   "cell_type": "code",
   "execution_count": null,
   "id": "2ad76189",
   "metadata": {},
   "outputs": [],
   "source": []
  },
  {
   "cell_type": "code",
   "execution_count": null,
   "id": "a6d68cbd",
   "metadata": {},
   "outputs": [],
   "source": []
  },
  {
   "cell_type": "code",
   "execution_count": null,
   "id": "6473d170",
   "metadata": {},
   "outputs": [],
   "source": []
  }
 ],
 "metadata": {
  "kernelspec": {
   "display_name": "Python 3 (ipykernel)",
   "language": "python",
   "name": "python3"
  },
  "language_info": {
   "codemirror_mode": {
    "name": "ipython",
    "version": 3
   },
   "file_extension": ".py",
   "mimetype": "text/x-python",
   "name": "python",
   "nbconvert_exporter": "python",
   "pygments_lexer": "ipython3",
   "version": "3.10.12"
  }
 },
 "nbformat": 4,
 "nbformat_minor": 5
}
