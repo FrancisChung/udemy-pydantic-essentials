{
 "cells": [
  {
   "cell_type": "code",
   "execution_count": 7,
   "id": "1881b609",
   "metadata": {},
   "outputs": [],
   "source": [
    "from pydantic import BaseModel, Field, ConfigDict, ValidationError"
   ]
  },
  {
   "cell_type": "code",
   "execution_count": 8,
   "id": "fc93d461",
   "metadata": {},
   "outputs": [],
   "source": [
    "class Model(BaseModel):\n",
    "    model_config = ConfigDict(populate_by_name = True)\n",
    "    first_name : str = Field(validation_alias=\"FirstName\")"
   ]
  },
  {
   "cell_type": "code",
   "execution_count": 12,
   "id": "2706fd9f",
   "metadata": {},
   "outputs": [
    {
     "data": {
      "text/plain": [
       "Model(first_name='Issac')"
      ]
     },
     "execution_count": 12,
     "metadata": {},
     "output_type": "execute_result"
    }
   ],
   "source": [
    "m = Model(FirstName=\"Issac\")\n",
    "m"
   ]
  },
  {
   "cell_type": "code",
   "execution_count": 17,
   "id": "27bb1f1f",
   "metadata": {},
   "outputs": [
    {
     "data": {
      "text/plain": [
       "Model(first_name='Issacs')"
      ]
     },
     "execution_count": 17,
     "metadata": {},
     "output_type": "execute_result"
    }
   ],
   "source": [
    "data = {\"FirstName\" : \"Issacs\"}\n",
    "m = Model.model_validate(data)\n",
    "m"
   ]
  },
  {
   "cell_type": "code",
   "execution_count": 18,
   "id": "2ccb8019",
   "metadata": {},
   "outputs": [
    {
     "data": {
      "text/plain": [
       "{'first_name': 'Issacs'}"
      ]
     },
     "execution_count": 18,
     "metadata": {},
     "output_type": "execute_result"
    }
   ],
   "source": [
    "m.model_dump()"
   ]
  },
  {
   "cell_type": "code",
   "execution_count": 19,
   "id": "ccbce2bb",
   "metadata": {},
   "outputs": [
    {
     "data": {
      "text/plain": [
       "{'first_name': 'Issacs'}"
      ]
     },
     "execution_count": 19,
     "metadata": {},
     "output_type": "execute_result"
    }
   ],
   "source": [
    "m.model_dump(by_alias=True)"
   ]
  },
  {
   "cell_type": "code",
   "execution_count": 20,
   "id": "cb8e9606",
   "metadata": {},
   "outputs": [],
   "source": [
    "class Model(BaseModel):\n",
    "    model_config = ConfigDict(populate_by_name = True)\n",
    "    first_name : str = Field(validation_alias=\"FirstName\", alias=\"firstName\")"
   ]
  },
  {
   "cell_type": "code",
   "execution_count": 21,
   "id": "1db369b2",
   "metadata": {},
   "outputs": [
    {
     "data": {
      "text/plain": [
       "Model(first_name='Issac')"
      ]
     },
     "execution_count": 21,
     "metadata": {},
     "output_type": "execute_result"
    }
   ],
   "source": [
    "m = Model(FirstName=\"Issac\")\n",
    "m"
   ]
  },
  {
   "cell_type": "code",
   "execution_count": 22,
   "id": "d5265171",
   "metadata": {},
   "outputs": [
    {
     "data": {
      "text/plain": [
       "{'firstName': 'Issac'}"
      ]
     },
     "execution_count": 22,
     "metadata": {},
     "output_type": "execute_result"
    }
   ],
   "source": [
    "m.model_dump(by_alias=True)"
   ]
  },
  {
   "cell_type": "code",
   "execution_count": 27,
   "id": "e6044480",
   "metadata": {},
   "outputs": [],
   "source": [
    "class Model(BaseModel):\n",
    "    model_config = ConfigDict(populate_by_name = True)\n",
    "    first_name : str = Field(\n",
    "        validation_alias=\"FirstName\", \n",
    "        alias=\"firstName\",\n",
    "        serialization_alias=\"givenName\")"
   ]
  },
  {
   "cell_type": "code",
   "execution_count": 28,
   "id": "bfe78617",
   "metadata": {},
   "outputs": [
    {
     "data": {
      "text/plain": [
       "Model(first_name='Issacs')"
      ]
     },
     "execution_count": 28,
     "metadata": {},
     "output_type": "execute_result"
    }
   ],
   "source": [
    "data = {\"FirstName\" : \"Issacs\"}\n",
    "m = Model.model_validate(data)\n",
    "m"
   ]
  },
  {
   "cell_type": "code",
   "execution_count": 29,
   "id": "58512e11",
   "metadata": {},
   "outputs": [
    {
     "data": {
      "text/plain": [
       "Model(first_name='Issacs')"
      ]
     },
     "execution_count": 29,
     "metadata": {},
     "output_type": "execute_result"
    }
   ],
   "source": [
    "Model(first_name='Issacs')"
   ]
  },
  {
   "cell_type": "code",
   "execution_count": 30,
   "id": "3b4fd1d1",
   "metadata": {},
   "outputs": [
    {
     "data": {
      "text/plain": [
       "{'givenName': 'Issacs'}"
      ]
     },
     "execution_count": 30,
     "metadata": {},
     "output_type": "execute_result"
    }
   ],
   "source": [
    "m.model_dump(by_alias=True)"
   ]
  },
  {
   "cell_type": "code",
   "execution_count": 33,
   "id": "bd4f73b0",
   "metadata": {},
   "outputs": [],
   "source": [
    "from pydantic.alias_generators import to_camel"
   ]
  },
  {
   "cell_type": "code",
   "execution_count": 62,
   "id": "2ea339cf",
   "metadata": {},
   "outputs": [],
   "source": [
    "class Model(BaseModel):\n",
    "    model_config = ConfigDict(populate_by_name = True, alias_generator = to_camel)\n",
    "    first_name : str\n",
    "    last_name: str"
   ]
  },
  {
   "cell_type": "code",
   "execution_count": 63,
   "id": "4ddbc23f",
   "metadata": {},
   "outputs": [],
   "source": [
    "data = {\"FirstName\" : \"Issacs\", \"lastName\" : \"Newton\"}"
   ]
  },
  {
   "cell_type": "code",
   "execution_count": 64,
   "id": "5b5f31e5",
   "metadata": {},
   "outputs": [
    {
     "data": {
      "text/plain": [
       "{'first_name': FieldInfo(annotation=str, required=True, alias='firstName', alias_priority=1),\n",
       " 'last_name': FieldInfo(annotation=str, required=True, alias='lastName', alias_priority=1)}"
      ]
     },
     "execution_count": 64,
     "metadata": {},
     "output_type": "execute_result"
    }
   ],
   "source": [
    "Model.model_fields"
   ]
  },
  {
   "cell_type": "code",
   "execution_count": 65,
   "id": "8b162724",
   "metadata": {},
   "outputs": [],
   "source": [
    "class Model(BaseModel):\n",
    "    model_config = ConfigDict(populate_by_name = True, alias_generator = to_camel)\n",
    "    first_name : str = Field(validation_alias = \"FirstName\", serialization_alias=\"givenName\")\n",
    "    last_name: str"
   ]
  },
  {
   "cell_type": "code",
   "execution_count": 66,
   "id": "d3a74804",
   "metadata": {},
   "outputs": [
    {
     "data": {
      "text/plain": [
       "Model(first_name='Issacs', last_name='Newton')"
      ]
     },
     "execution_count": 66,
     "metadata": {},
     "output_type": "execute_result"
    }
   ],
   "source": [
    "data = {\"FirstName\" : \"Issacs\", \"lastName\" : \"Newton\"}\n",
    "m = Model.model_validate(data)\n",
    "m"
   ]
  },
  {
   "cell_type": "code",
   "execution_count": 67,
   "id": "1afe2a99",
   "metadata": {},
   "outputs": [
    {
     "data": {
      "text/plain": [
       "{'givenName': 'Issacs', 'lastName': 'Newton'}"
      ]
     },
     "execution_count": 67,
     "metadata": {},
     "output_type": "execute_result"
    }
   ],
   "source": [
    "m.model_dump(by_alias=True)"
   ]
  },
  {
   "cell_type": "code",
   "execution_count": 72,
   "id": "534d645d",
   "metadata": {},
   "outputs": [],
   "source": [
    "from pydantic import AliasChoices"
   ]
  },
  {
   "cell_type": "code",
   "execution_count": 73,
   "id": "beeaf7f5",
   "metadata": {},
   "outputs": [],
   "source": [
    "class Model(BaseModel):\n",
    "    model_config = ConfigDict(populate_by_name = True, alias_generator = to_camel)\n",
    "    first_name : str = Field(\n",
    "        validation_alias = AliasChoices(\"FirstName\", \"GivenName\"),\n",
    "        serialization_alias = \"givenName\"\n",
    "    )\n",
    "    last_name : str"
   ]
  },
  {
   "cell_type": "code",
   "execution_count": 74,
   "id": "78965143",
   "metadata": {},
   "outputs": [
    {
     "data": {
      "text/plain": [
       "Model(first_name='Issac', last_name='Newton')"
      ]
     },
     "execution_count": 74,
     "metadata": {},
     "output_type": "execute_result"
    }
   ],
   "source": [
    "data = {\n",
    "    \"FirstName\": \"Issac\",\n",
    "    \"lastName\" : \"Newton\"\n",
    "}\n",
    "m = Model.model_validate(data)\n",
    "m"
   ]
  },
  {
   "cell_type": "code",
   "execution_count": 75,
   "id": "891054f9",
   "metadata": {},
   "outputs": [
    {
     "data": {
      "text/plain": [
       "{'givenName': 'Issac', 'lastName': 'Newton'}"
      ]
     },
     "execution_count": 75,
     "metadata": {},
     "output_type": "execute_result"
    }
   ],
   "source": [
    "m.model_dump(by_alias=True)"
   ]
  },
  {
   "cell_type": "code",
   "execution_count": 84,
   "id": "050ad0df",
   "metadata": {},
   "outputs": [],
   "source": [
    "data = {\n",
    "    \"databases\" : {\n",
    "        \"redis\" : {\n",
    "            \"name\" : \"Local Redis\",\n",
    "            \"redis_conn\" : \"redis://secret@localhost:9000\"\n",
    "        },\n",
    "        \"pgsql\" : {\n",
    "            \"name\" : \"Local Postgres\",\n",
    "            \"pgsql_conn\" : \"postgres://secret@localhost:9000\"\n",
    "        },\n",
    "        \"nosql\" : {\n",
    "            \"name\" : \"Local Mongodb\",\n",
    "            \"mongo_conn\" : \"mongodb://secret@localhost:9000\"\n",
    "        }\n",
    "    }\n",
    "}"
   ]
  },
  {
   "cell_type": "code",
   "execution_count": 85,
   "id": "2172031e",
   "metadata": {},
   "outputs": [],
   "source": [
    "class Database(BaseModel):\n",
    "    model_config = ConfigDict(populate_by_name = True, alias_generator = to_camel)\n",
    "    name: str\n",
    "    connection: str = Field(validation_alias = AliasChoices(\"redis_conn\", \"mongo_conn\", \"pgsql_conn\"))"
   ]
  },
  {
   "cell_type": "code",
   "execution_count": 88,
   "id": "0abe7399",
   "metadata": {},
   "outputs": [
    {
     "data": {
      "text/plain": [
       "{'redis': Database(name='Local Redis', connection='redis://secret@localhost:9000'),\n",
       " 'pgsql': Database(name='Local Postgres', connection='postgres://secret@localhost:9000'),\n",
       " 'nosql': Database(name='Local Mongodb', connection='mongodb://secret@localhost:9000')}"
      ]
     },
     "execution_count": 88,
     "metadata": {},
     "output_type": "execute_result"
    }
   ],
   "source": [
    "databases = {}\n",
    "\n",
    "for key, value in data[\"databases\"].items():\n",
    "    m = Database.model_validate(value)\n",
    "    databases[key] = m\n",
    "    \n",
    "databases"
   ]
  },
  {
   "cell_type": "code",
   "execution_count": 90,
   "id": "50e46818",
   "metadata": {},
   "outputs": [],
   "source": [
    "class Databases(BaseModel):\n",
    "    databases: dict[str, Database]"
   ]
  },
  {
   "cell_type": "code",
   "execution_count": 92,
   "id": "2b4ad177",
   "metadata": {},
   "outputs": [],
   "source": [
    "databases = Databases.model_validate(data)"
   ]
  },
  {
   "cell_type": "code",
   "execution_count": 93,
   "id": "9437cc2b",
   "metadata": {},
   "outputs": [
    {
     "data": {
      "text/plain": [
       "Databases(databases={'redis': Database(name='Local Redis', connection='redis://secret@localhost:9000'), 'pgsql': Database(name='Local Postgres', connection='postgres://secret@localhost:9000'), 'nosql': Database(name='Local Mongodb', connection='mongodb://secret@localhost:9000')})"
      ]
     },
     "execution_count": 93,
     "metadata": {},
     "output_type": "execute_result"
    }
   ],
   "source": [
    "databases"
   ]
  },
  {
   "cell_type": "code",
   "execution_count": 94,
   "id": "9f975863",
   "metadata": {},
   "outputs": [
    {
     "name": "stdout",
     "output_type": "stream",
     "text": [
      "{\n",
      "  \"databases\": {\n",
      "    \"redis\": {\n",
      "      \"name\": \"Local Redis\",\n",
      "      \"connection\": \"redis://secret@localhost:9000\"\n",
      "    },\n",
      "    \"pgsql\": {\n",
      "      \"name\": \"Local Postgres\",\n",
      "      \"connection\": \"postgres://secret@localhost:9000\"\n",
      "    },\n",
      "    \"nosql\": {\n",
      "      \"name\": \"Local Mongodb\",\n",
      "      \"connection\": \"mongodb://secret@localhost:9000\"\n",
      "    }\n",
      "  }\n",
      "}\n"
     ]
    }
   ],
   "source": [
    "print(databases.model_dump_json(indent=2))"
   ]
  },
  {
   "cell_type": "code",
   "execution_count": null,
   "id": "3a196905",
   "metadata": {},
   "outputs": [],
   "source": []
  }
 ],
 "metadata": {
  "kernelspec": {
   "display_name": "Python 3 (ipykernel)",
   "language": "python",
   "name": "python3"
  },
  "language_info": {
   "codemirror_mode": {
    "name": "ipython",
    "version": 3
   },
   "file_extension": ".py",
   "mimetype": "text/x-python",
   "name": "python",
   "nbconvert_exporter": "python",
   "pygments_lexer": "ipython3",
   "version": "3.10.12"
  }
 },
 "nbformat": 4,
 "nbformat_minor": 5
}
