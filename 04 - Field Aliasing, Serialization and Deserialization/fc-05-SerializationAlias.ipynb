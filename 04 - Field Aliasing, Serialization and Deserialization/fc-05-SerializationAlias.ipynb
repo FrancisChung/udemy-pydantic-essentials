{
 "cells": [
  {
   "cell_type": "code",
   "execution_count": 5,
   "id": "6e21d73f",
   "metadata": {},
   "outputs": [],
   "source": [
    "from pydantic import BaseModel, Field, ConfigDict, ValidationError"
   ]
  },
  {
   "cell_type": "code",
   "execution_count": 12,
   "id": "072945c3",
   "metadata": {},
   "outputs": [],
   "source": [
    "response_json = \"\"\"\n",
    "{\n",
    "    \"ID\" : 100,\n",
    "    \"FirstName\" : \"Issac\",\n",
    "    \"LastName\" : \"Newton\"\n",
    "}\n",
    "\"\"\""
   ]
  },
  {
   "cell_type": "code",
   "execution_count": 22,
   "id": "e5da1218",
   "metadata": {},
   "outputs": [],
   "source": [
    "class Person(BaseModel):\n",
    "    id_ : int = Field(alias=\"ID\")\n",
    "    first_name: str = Field(alias=\"FirstName\")\n",
    "    last_name : str = Field(alias=\"LastName\")\n",
    "    age : int | None = None"
   ]
  },
  {
   "cell_type": "code",
   "execution_count": 23,
   "id": "bb539c2b",
   "metadata": {},
   "outputs": [
    {
     "data": {
      "text/plain": [
       "Person(id_=100, first_name='Issac', last_name='Newton', age=None)"
      ]
     },
     "execution_count": 23,
     "metadata": {},
     "output_type": "execute_result"
    }
   ],
   "source": [
    "p = Person.model_validate_json(response_json)\n",
    "p"
   ]
  },
  {
   "cell_type": "code",
   "execution_count": 24,
   "id": "6faf0ef8",
   "metadata": {},
   "outputs": [
    {
     "data": {
      "text/plain": [
       "{'ID': 100, 'FirstName': 'Issac', 'LastName': 'Newton', 'age': None}"
      ]
     },
     "execution_count": 24,
     "metadata": {},
     "output_type": "execute_result"
    }
   ],
   "source": [
    "p.model_dump(by_alias=True)"
   ]
  },
  {
   "cell_type": "code",
   "execution_count": 25,
   "id": "84eb1d60",
   "metadata": {},
   "outputs": [],
   "source": [
    "class Person(BaseModel):\n",
    "    id_ : int = Field(alias=\"ID\", serialization_alias=\"ID\")\n",
    "    first_name: str = Field(alias=\"FirstName\", serialization_alias=\"firstName\")\n",
    "    last_name : str = Field(alias=\"LastName\", serialization_alias=\"firstName\")"
   ]
  },
  {
   "cell_type": "code",
   "execution_count": 26,
   "id": "8c018c53",
   "metadata": {},
   "outputs": [
    {
     "data": {
      "text/plain": [
       "Person(id_=100, first_name='Issac', last_name='Newton')"
      ]
     },
     "execution_count": 26,
     "metadata": {},
     "output_type": "execute_result"
    }
   ],
   "source": [
    "p = Person.model_validate_json(response_json)\n",
    "p"
   ]
  },
  {
   "cell_type": "code",
   "execution_count": 27,
   "id": "791e65cf",
   "metadata": {},
   "outputs": [
    {
     "data": {
      "text/plain": [
       "{'ID': 100, 'firstName': 'Newton'}"
      ]
     },
     "execution_count": 27,
     "metadata": {},
     "output_type": "execute_result"
    }
   ],
   "source": [
    "p.model_dump(by_alias=True)"
   ]
  },
  {
   "cell_type": "code",
   "execution_count": 28,
   "id": "fa37a7ab",
   "metadata": {},
   "outputs": [
    {
     "data": {
      "text/plain": [
       "{'id_': FieldInfo(annotation=int, required=True, alias='ID', alias_priority=2),\n",
       " 'first_name': FieldInfo(annotation=str, required=True, alias='FirstName', alias_priority=2, serialization_alias='firstName'),\n",
       " 'last_name': FieldInfo(annotation=str, required=True, alias='LastName', alias_priority=2, serialization_alias='firstName')}"
      ]
     },
     "execution_count": 28,
     "metadata": {},
     "output_type": "execute_result"
    }
   ],
   "source": [
    "p.model_fields"
   ]
  },
  {
   "cell_type": "code",
   "execution_count": null,
   "id": "dff4dcb4",
   "metadata": {},
   "outputs": [],
   "source": []
  }
 ],
 "metadata": {
  "kernelspec": {
   "display_name": "Python 3 (ipykernel)",
   "language": "python",
   "name": "python3"
  },
  "language_info": {
   "codemirror_mode": {
    "name": "ipython",
    "version": 3
   },
   "file_extension": ".py",
   "mimetype": "text/x-python",
   "name": "python",
   "nbconvert_exporter": "python",
   "pygments_lexer": "ipython3",
   "version": "3.10.12"
  }
 },
 "nbformat": 4,
 "nbformat_minor": 5
}
