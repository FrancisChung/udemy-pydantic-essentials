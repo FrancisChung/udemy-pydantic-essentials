{
 "cells": [
  {
   "cell_type": "code",
   "execution_count": 20,
   "id": "8cd5c30a",
   "metadata": {},
   "outputs": [],
   "source": [
    "from pydantic import BaseModel, Field, ConfigDict, ValidationError"
   ]
  },
  {
   "cell_type": "code",
   "execution_count": 21,
   "id": "7b0480d6",
   "metadata": {},
   "outputs": [],
   "source": [
    "class Model(BaseModel):\n",
    "    model_config = ConfigDict(populate_by_name = \"True\")\n",
    "    id_ : int = Field(alias=\"id\")\n",
    "    first_name: str = Field(alias=\"firstName\")"
   ]
  },
  {
   "cell_type": "code",
   "execution_count": 22,
   "id": "c15ca4f0",
   "metadata": {},
   "outputs": [],
   "source": [
    "try:\n",
    "    Model(id =10, first_name = \"Freddie\")\n",
    "except ValidationError as ex:\n",
    "    print(ex)"
   ]
  },
  {
   "cell_type": "code",
   "execution_count": 23,
   "id": "f47b9426",
   "metadata": {},
   "outputs": [],
   "source": [
    "data = {\n",
    "    \"id_\" : 10,\n",
    "    \"first_name\": \"Newton\"\n",
    "}"
   ]
  },
  {
   "cell_type": "code",
   "execution_count": 25,
   "id": "246cc859",
   "metadata": {},
   "outputs": [
    {
     "name": "stdout",
     "output_type": "stream",
     "text": [
      "Model(id_=10, first_name='Newton')\n"
     ]
    }
   ],
   "source": [
    "try:\n",
    "    m = Model.model_validate(data)\n",
    "    print(repr(m))\n",
    "except ValidationError as ex:\n",
    "    print(ex)"
   ]
  },
  {
   "cell_type": "code",
   "execution_count": 26,
   "id": "79627808",
   "metadata": {},
   "outputs": [],
   "source": [
    "from pydantic.alias_generators import to_camel"
   ]
  },
  {
   "cell_type": "code",
   "execution_count": 27,
   "id": "1fac56e3",
   "metadata": {},
   "outputs": [],
   "source": [
    "class Person(BaseModel):\n",
    "    model_config = ConfigDict(\n",
    "        alias_generator = to_camel,\n",
    "        populate_by_name = True,\n",
    "        extra = 'forbid'\n",
    "    )\n",
    "    id_ : int = Field(alias=\"id\", default = 1)\n",
    "    first_name: str | None = None\n",
    "    last_name : str\n",
    "    age : int | None = None"
   ]
  },
  {
   "cell_type": "code",
   "execution_count": 30,
   "id": "6e23c6ef",
   "metadata": {},
   "outputs": [
    {
     "data": {
      "text/plain": [
       "Person(id_=10, first_name='Issac', last_name='Newton', age=84)"
      ]
     },
     "execution_count": 30,
     "metadata": {},
     "output_type": "execute_result"
    }
   ],
   "source": [
    "p = Person(id = 10, first_name = \"Issac\", lastName = \"Newton\", age = 84)\n",
    "p"
   ]
  },
  {
   "cell_type": "code",
   "execution_count": 31,
   "id": "3f2f35a2",
   "metadata": {},
   "outputs": [
    {
     "data": {
      "text/plain": [
       "{'id_': 10, 'first_name': 'Issac', 'last_name': 'Newton', 'age': 84}"
      ]
     },
     "execution_count": 31,
     "metadata": {},
     "output_type": "execute_result"
    }
   ],
   "source": [
    "p.model_dump()"
   ]
  },
  {
   "cell_type": "code",
   "execution_count": 32,
   "id": "3ae61cfc",
   "metadata": {},
   "outputs": [
    {
     "data": {
      "text/plain": [
       "{'id': 10, 'firstName': 'Issac', 'lastName': 'Newton', 'age': 84}"
      ]
     },
     "execution_count": 32,
     "metadata": {},
     "output_type": "execute_result"
    }
   ],
   "source": [
    "p.model_dump(by_alias = True)"
   ]
  },
  {
   "cell_type": "code",
   "execution_count": null,
   "id": "24b5dfe3",
   "metadata": {},
   "outputs": [],
   "source": []
  }
 ],
 "metadata": {
  "kernelspec": {
   "display_name": "Python 3 (ipykernel)",
   "language": "python",
   "name": "python3"
  },
  "language_info": {
   "codemirror_mode": {
    "name": "ipython",
    "version": 3
   },
   "file_extension": ".py",
   "mimetype": "text/x-python",
   "name": "python",
   "nbconvert_exporter": "python",
   "pygments_lexer": "ipython3",
   "version": "3.10.12"
  }
 },
 "nbformat": 4,
 "nbformat_minor": 5
}
