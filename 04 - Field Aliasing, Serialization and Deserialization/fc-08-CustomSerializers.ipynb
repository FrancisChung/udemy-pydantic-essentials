{
 "cells": [
  {
   "cell_type": "code",
   "execution_count": 10,
   "id": "6b049615",
   "metadata": {},
   "outputs": [],
   "source": [
    "from pydantic import BaseModel, field_serializer"
   ]
  },
  {
   "cell_type": "code",
   "execution_count": 34,
   "id": "a1555ed1",
   "metadata": {},
   "outputs": [],
   "source": [
    "from datetime import datetime"
   ]
  },
  {
   "cell_type": "code",
   "execution_count": 16,
   "id": "cb2d9306",
   "metadata": {},
   "outputs": [],
   "source": [
    "class Model(BaseModel):\n",
    "    dt: datetime | None = None\n",
    "\n",
    "    @field_serializer(\"dt\", when_used = \"always\")\n",
    "    def serialize_name(self, value):\n",
    "        print(f\"type={type(value)}\")\n",
    "        return value;"
   ]
  },
  {
   "cell_type": "code",
   "execution_count": 17,
   "id": "70ad858e",
   "metadata": {},
   "outputs": [],
   "source": [
    "m=Model(dt=\"2024-01-09\")"
   ]
  },
  {
   "cell_type": "code",
   "execution_count": 18,
   "id": "88e3f054",
   "metadata": {},
   "outputs": [
    {
     "name": "stdout",
     "output_type": "stream",
     "text": [
      "type=<class 'datetime.datetime'>\n"
     ]
    },
    {
     "data": {
      "text/plain": [
       "{'dt': datetime.datetime(2024, 1, 9, 0, 0)}"
      ]
     },
     "execution_count": 18,
     "metadata": {},
     "output_type": "execute_result"
    }
   ],
   "source": [
    "m.model_dump()"
   ]
  },
  {
   "cell_type": "code",
   "execution_count": 20,
   "id": "cd258737",
   "metadata": {},
   "outputs": [
    {
     "name": "stdout",
     "output_type": "stream",
     "text": [
      "type=<class 'datetime.datetime'>\n"
     ]
    },
    {
     "data": {
      "text/plain": [
       "'{\"dt\":\"2024-01-09T00:00:00\"}'"
      ]
     },
     "execution_count": 20,
     "metadata": {},
     "output_type": "execute_result"
    }
   ],
   "source": [
    "m.model_dump_json()"
   ]
  },
  {
   "cell_type": "code",
   "execution_count": 24,
   "id": "489959a5",
   "metadata": {},
   "outputs": [],
   "source": [
    "class Model(BaseModel):\n",
    "    dt: datetime | None = None\n",
    "\n",
    "    @field_serializer(\"dt\", when_used = \"unless-none\")\n",
    "    def serialize_name(self, value):\n",
    "        print(f\"type={type(value)}\")\n",
    "        return value;"
   ]
  },
  {
   "cell_type": "code",
   "execution_count": 30,
   "id": "8d2867df",
   "metadata": {},
   "outputs": [
    {
     "name": "stdout",
     "output_type": "stream",
     "text": [
      "type=<class 'datetime.datetime'>\n"
     ]
    },
    {
     "data": {
      "text/plain": [
       "'{\"dt\":\"2024-01-09T00:00:00\"}'"
      ]
     },
     "execution_count": 30,
     "metadata": {},
     "output_type": "execute_result"
    }
   ],
   "source": [
    "m=Model(dt=\"2024-01-09\")\n",
    "m.model_dump_json()"
   ]
  },
  {
   "cell_type": "code",
   "execution_count": 31,
   "id": "bc94d1d6",
   "metadata": {},
   "outputs": [],
   "source": [
    "m = Model(dt=None)"
   ]
  },
  {
   "cell_type": "markdown",
   "id": "698ede36",
   "metadata": {},
   "source": [
    "m.model_dumo("
   ]
  },
  {
   "cell_type": "code",
   "execution_count": 33,
   "id": "00810764",
   "metadata": {},
   "outputs": [
    {
     "data": {
      "text/plain": [
       "{'dt': None}"
      ]
     },
     "execution_count": 33,
     "metadata": {},
     "output_type": "execute_result"
    }
   ],
   "source": [
    "m.model_dump()"
   ]
  },
  {
   "cell_type": "code",
   "execution_count": 35,
   "id": "99b4ec8b",
   "metadata": {},
   "outputs": [],
   "source": [
    "dt = datetime(2024,9,9,0,0)"
   ]
  },
  {
   "cell_type": "code",
   "execution_count": 37,
   "id": "76535d37",
   "metadata": {},
   "outputs": [
    {
     "data": {
      "text/plain": [
       "'2024-09-09T00:00:00'"
      ]
     },
     "execution_count": 37,
     "metadata": {},
     "output_type": "execute_result"
    }
   ],
   "source": [
    "dt.isoformat()"
   ]
  },
  {
   "cell_type": "code",
   "execution_count": 39,
   "id": "2a84f3fe",
   "metadata": {},
   "outputs": [
    {
     "data": {
      "text/plain": [
       "'2024/9/9 12:00 AM'"
      ]
     },
     "execution_count": 39,
     "metadata": {},
     "output_type": "execute_result"
    }
   ],
   "source": [
    "dt.strftime(\"%Y/%-m/%-d %I:%M %p\")"
   ]
  },
  {
   "cell_type": "code",
   "execution_count": 42,
   "id": "cb05d90a",
   "metadata": {},
   "outputs": [],
   "source": [
    "    dt: datetime | None = None\n",
    "\n",
    "    @field_serializer(\"dt\", when_used = \"unless-none\")\n",
    "    def serialize_name(self, value):\n",
    "        print(f\"type={type(value)}\")\n",
    "        return value;"
   ]
  },
  {
   "cell_type": "markdown",
   "id": "4ffab706",
   "metadata": {},
   "source": [
    "m=Model(dt=\"2024-01-09\")\n",
    "m.model_dump_json()"
   ]
  },
  {
   "cell_type": "code",
   "execution_count": 43,
   "id": "ac0c8f55",
   "metadata": {},
   "outputs": [
    {
     "name": "stdout",
     "output_type": "stream",
     "text": [
      "type=<class 'datetime.datetime'>\n"
     ]
    },
    {
     "data": {
      "text/plain": [
       "'{\"dt\":\"2024-01-09T00:00:00\"}'"
      ]
     },
     "execution_count": 43,
     "metadata": {},
     "output_type": "execute_result"
    }
   ],
   "source": [
    "m=Model(dt=\"2024-01-09\")\n",
    "m.model_dump_json()"
   ]
  },
  {
   "cell_type": "code",
   "execution_count": 44,
   "id": "f0e90724",
   "metadata": {},
   "outputs": [
    {
     "name": "stdout",
     "output_type": "stream",
     "text": [
      "type=<class 'datetime.datetime'>\n"
     ]
    },
    {
     "data": {
      "text/plain": [
       "{'dt': datetime.datetime(2024, 1, 9, 0, 0)}"
      ]
     },
     "execution_count": 44,
     "metadata": {},
     "output_type": "execute_result"
    }
   ],
   "source": [
    "m.model_dump()"
   ]
  },
  {
   "cell_type": "code",
   "execution_count": 45,
   "id": "767c6a6f",
   "metadata": {},
   "outputs": [],
   "source": [
    "m=Model(dt=None)"
   ]
  },
  {
   "cell_type": "code",
   "execution_count": 46,
   "id": "cb023049",
   "metadata": {},
   "outputs": [
    {
     "data": {
      "text/plain": [
       "{'dt': None}"
      ]
     },
     "execution_count": 46,
     "metadata": {},
     "output_type": "execute_result"
    }
   ],
   "source": [
    "m.model_dump()"
   ]
  },
  {
   "cell_type": "code",
   "execution_count": 47,
   "id": "ceac7115",
   "metadata": {},
   "outputs": [
    {
     "data": {
      "text/plain": [
       "'{\"dt\":null}'"
      ]
     },
     "execution_count": 47,
     "metadata": {},
     "output_type": "execute_result"
    }
   ],
   "source": [
    "m.model_dump_json()"
   ]
  },
  {
   "cell_type": "code",
   "execution_count": 48,
   "id": "fdc2d86f",
   "metadata": {},
   "outputs": [],
   "source": [
    "from pydantic import FieldSerializationInfo"
   ]
  },
  {
   "cell_type": "code",
   "execution_count": 49,
   "id": "092c7ced",
   "metadata": {},
   "outputs": [],
   "source": [
    "class Model(BaseModel):\n",
    "    dt: datetime | None = None\n",
    "\n",
    "    @field_serializer(\"dt\", when_used = \"unless-none\")\n",
    "    def dt_serializer(self, value, info:FieldSerializationInfo):\n",
    "        print(f\"info={info}\")\n",
    "        return value;"
   ]
  },
  {
   "cell_type": "code",
   "execution_count": 51,
   "id": "7c2546d6",
   "metadata": {},
   "outputs": [
    {
     "data": {
      "text/plain": [
       "Model(dt=datetime.datetime(2024, 1, 9, 0, 0))"
      ]
     },
     "execution_count": 51,
     "metadata": {},
     "output_type": "execute_result"
    }
   ],
   "source": [
    "m=Model(dt=\"2024-01-09\")\n",
    "m"
   ]
  },
  {
   "cell_type": "markdown",
   "id": "c752528f",
   "metadata": {},
   "source": [
    "m.model_dumo()"
   ]
  },
  {
   "cell_type": "code",
   "execution_count": 52,
   "id": "ef9807e2",
   "metadata": {},
   "outputs": [
    {
     "name": "stdout",
     "output_type": "stream",
     "text": [
      "info=SerializationInfo(include=None, exclude=None, context=None, mode='python', by_alias=False, exclude_unset=False, exclude_defaults=False, exclude_none=False, round_trip=False, serialize_as_any=False)\n"
     ]
    },
    {
     "data": {
      "text/plain": [
       "{'dt': datetime.datetime(2024, 1, 9, 0, 0)}"
      ]
     },
     "execution_count": 52,
     "metadata": {},
     "output_type": "execute_result"
    }
   ],
   "source": [
    "m.model_dump()"
   ]
  },
  {
   "cell_type": "code",
   "execution_count": 53,
   "id": "46948d44",
   "metadata": {},
   "outputs": [
    {
     "name": "stdout",
     "output_type": "stream",
     "text": [
      "info=SerializationInfo(include=None, exclude=None, context=None, mode='json', by_alias=False, exclude_unset=False, exclude_defaults=False, exclude_none=False, round_trip=False, serialize_as_any=False)\n"
     ]
    },
    {
     "data": {
      "text/plain": [
       "'{\"dt\":\"2024-01-09T00:00:00\"}'"
      ]
     },
     "execution_count": 53,
     "metadata": {},
     "output_type": "execute_result"
    }
   ],
   "source": [
    "m.model_dump_json()"
   ]
  },
  {
   "cell_type": "code",
   "execution_count": 61,
   "id": "66be5cf0",
   "metadata": {},
   "outputs": [],
   "source": [
    "class Model(BaseModel):\n",
    "    dt: datetime | None = None\n",
    "\n",
    "    @field_serializer(\"dt\", when_used = \"unless-none\")\n",
    "    def dt_serializer(self, value, info:FieldSerializationInfo):\n",
    "        print(f\"info={info}\")\n",
    "        print(f\"is_json={info.mode_is_json()}\")\n",
    "        return value"
   ]
  },
  {
   "cell_type": "code",
   "execution_count": 62,
   "id": "7167ff2b",
   "metadata": {},
   "outputs": [],
   "source": [
    "m=Model(dt=\"2024-01-09\")"
   ]
  },
  {
   "cell_type": "code",
   "execution_count": 63,
   "id": "8ead8f17",
   "metadata": {},
   "outputs": [
    {
     "name": "stdout",
     "output_type": "stream",
     "text": [
      "info=SerializationInfo(include=None, exclude=None, context=None, mode='python', by_alias=False, exclude_unset=False, exclude_defaults=False, exclude_none=False, round_trip=False, serialize_as_any=False)\n",
      "is_json=False\n"
     ]
    },
    {
     "data": {
      "text/plain": [
       "{'dt': datetime.datetime(2024, 1, 9, 0, 0)}"
      ]
     },
     "execution_count": 63,
     "metadata": {},
     "output_type": "execute_result"
    }
   ],
   "source": [
    "m.model_dump()"
   ]
  },
  {
   "cell_type": "code",
   "execution_count": 64,
   "id": "98e1da9f",
   "metadata": {},
   "outputs": [
    {
     "name": "stdout",
     "output_type": "stream",
     "text": [
      "info=SerializationInfo(include=None, exclude=None, context=None, mode='json', by_alias=False, exclude_unset=False, exclude_defaults=False, exclude_none=False, round_trip=False, serialize_as_any=False)\n",
      "is_json=True\n"
     ]
    },
    {
     "data": {
      "text/plain": [
       "'{\"dt\":\"2024-01-09T00:00:00\"}'"
      ]
     },
     "execution_count": 64,
     "metadata": {},
     "output_type": "execute_result"
    }
   ],
   "source": [
    "m.model_dump_json()"
   ]
  },
  {
   "cell_type": "code",
   "execution_count": null,
   "id": "0f91cce5",
   "metadata": {},
   "outputs": [],
   "source": []
  }
 ],
 "metadata": {
  "kernelspec": {
   "display_name": "Python 3 (ipykernel)",
   "language": "python",
   "name": "python3"
  },
  "language_info": {
   "codemirror_mode": {
    "name": "ipython",
    "version": 3
   },
   "file_extension": ".py",
   "mimetype": "text/x-python",
   "name": "python",
   "nbconvert_exporter": "python",
   "pygments_lexer": "ipython3",
   "version": "3.10.12"
  }
 },
 "nbformat": 4,
 "nbformat_minor": 5
}
