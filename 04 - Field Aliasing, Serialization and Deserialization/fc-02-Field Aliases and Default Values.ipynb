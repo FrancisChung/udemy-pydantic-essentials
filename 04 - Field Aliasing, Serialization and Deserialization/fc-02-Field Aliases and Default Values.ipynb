{
 "cells": [
  {
   "cell_type": "code",
   "execution_count": 5,
   "id": "af615819",
   "metadata": {},
   "outputs": [],
   "source": [
    "from pydantic import BaseModel, ValidationError, ConfigDict, Field"
   ]
  },
  {
   "cell_type": "code",
   "execution_count": 6,
   "id": "4a369bf4",
   "metadata": {},
   "outputs": [],
   "source": [
    "class Model(BaseModel):\n",
    "    id_ : int = Field(alias=\"id\")\n",
    "    last_name : str = Field(alias=\"lastName\")"
   ]
  },
  {
   "cell_type": "code",
   "execution_count": 7,
   "id": "125c4327",
   "metadata": {},
   "outputs": [],
   "source": [
    "json_data = \"\"\"\n",
    "{\n",
    "    \"id\" : 100,\n",
    "    \"lastName\" : \"Gauss\"\n",
    "}\n",
    "\"\"\""
   ]
  },
  {
   "cell_type": "code",
   "execution_count": 9,
   "id": "75f5cf8c",
   "metadata": {},
   "outputs": [
    {
     "data": {
      "text/plain": [
       "Model(id_=100, last_name='Gauss')"
      ]
     },
     "execution_count": 9,
     "metadata": {},
     "output_type": "execute_result"
    }
   ],
   "source": [
    "m = Model.model_validate_json(json_data)\n",
    "m"
   ]
  },
  {
   "cell_type": "code",
   "execution_count": 10,
   "id": "315649a6",
   "metadata": {},
   "outputs": [
    {
     "ename": "ValidationError",
     "evalue": "2 validation errors for Model\nid\n  Field required [type=missing, input_value={'id_': 100, 'last_name': 'Gauss'}, input_type=dict]\n    For further information visit https://errors.pydantic.dev/2.9/v/missing\nlastName\n  Field required [type=missing, input_value={'id_': 100, 'last_name': 'Gauss'}, input_type=dict]\n    For further information visit https://errors.pydantic.dev/2.9/v/missing",
     "output_type": "error",
     "traceback": [
      "\u001b[0;31m---------------------------------------------------------------------------\u001b[0m",
      "\u001b[0;31mValidationError\u001b[0m                           Traceback (most recent call last)",
      "\u001b[0;32m/tmp/ipykernel_8550/3196801166.py\u001b[0m in \u001b[0;36m<module>\u001b[0;34m\u001b[0m\n\u001b[0;32m----> 1\u001b[0;31m \u001b[0mModel\u001b[0m\u001b[0;34m(\u001b[0m\u001b[0mid_\u001b[0m \u001b[0;34m=\u001b[0m \u001b[0;36m100\u001b[0m\u001b[0;34m,\u001b[0m \u001b[0mlast_name\u001b[0m\u001b[0;34m=\u001b[0m\u001b[0;34m'Gauss'\u001b[0m\u001b[0;34m)\u001b[0m\u001b[0;34m\u001b[0m\u001b[0;34m\u001b[0m\u001b[0m\n\u001b[0m",
      "\u001b[0;32m~/.local/lib/python3.10/site-packages/pydantic/main.py\u001b[0m in \u001b[0;36m__init__\u001b[0;34m(self, **data)\u001b[0m\n\u001b[1;32m    210\u001b[0m         \u001b[0;31m# `__tracebackhide__` tells pytest and some other tools to omit this function from tracebacks\u001b[0m\u001b[0;34m\u001b[0m\u001b[0;34m\u001b[0m\u001b[0m\n\u001b[1;32m    211\u001b[0m         \u001b[0m__tracebackhide__\u001b[0m \u001b[0;34m=\u001b[0m \u001b[0;32mTrue\u001b[0m\u001b[0;34m\u001b[0m\u001b[0;34m\u001b[0m\u001b[0m\n\u001b[0;32m--> 212\u001b[0;31m         \u001b[0mvalidated_self\u001b[0m \u001b[0;34m=\u001b[0m \u001b[0mself\u001b[0m\u001b[0;34m.\u001b[0m\u001b[0m__pydantic_validator__\u001b[0m\u001b[0;34m.\u001b[0m\u001b[0mvalidate_python\u001b[0m\u001b[0;34m(\u001b[0m\u001b[0mdata\u001b[0m\u001b[0;34m,\u001b[0m \u001b[0mself_instance\u001b[0m\u001b[0;34m=\u001b[0m\u001b[0mself\u001b[0m\u001b[0;34m)\u001b[0m\u001b[0;34m\u001b[0m\u001b[0;34m\u001b[0m\u001b[0m\n\u001b[0m\u001b[1;32m    213\u001b[0m         \u001b[0;32mif\u001b[0m \u001b[0mself\u001b[0m \u001b[0;32mis\u001b[0m \u001b[0;32mnot\u001b[0m \u001b[0mvalidated_self\u001b[0m\u001b[0;34m:\u001b[0m\u001b[0;34m\u001b[0m\u001b[0;34m\u001b[0m\u001b[0m\n\u001b[1;32m    214\u001b[0m             warnings.warn(\n",
      "\u001b[0;31mValidationError\u001b[0m: 2 validation errors for Model\nid\n  Field required [type=missing, input_value={'id_': 100, 'last_name': 'Gauss'}, input_type=dict]\n    For further information visit https://errors.pydantic.dev/2.9/v/missing\nlastName\n  Field required [type=missing, input_value={'id_': 100, 'last_name': 'Gauss'}, input_type=dict]\n    For further information visit https://errors.pydantic.dev/2.9/v/missing"
     ]
    }
   ],
   "source": [
    "Model(id_ = 100, last_name='Gauss')"
   ]
  },
  {
   "cell_type": "code",
   "execution_count": 13,
   "id": "4522999b",
   "metadata": {},
   "outputs": [
    {
     "data": {
      "text/plain": [
       "Model(id_=100, last_name='Gauss')"
      ]
     },
     "execution_count": 13,
     "metadata": {},
     "output_type": "execute_result"
    }
   ],
   "source": [
    "n  = Model(id = 100, lastName='Gauss')\n",
    "n"
   ]
  },
  {
   "cell_type": "code",
   "execution_count": 14,
   "id": "7dc5adab",
   "metadata": {},
   "outputs": [
    {
     "data": {
      "text/plain": [
       "'Gauss'"
      ]
     },
     "execution_count": 14,
     "metadata": {},
     "output_type": "execute_result"
    }
   ],
   "source": [
    "n.last_name"
   ]
  },
  {
   "cell_type": "code",
   "execution_count": 15,
   "id": "65cee742",
   "metadata": {},
   "outputs": [
    {
     "data": {
      "text/plain": [
       "True"
      ]
     },
     "execution_count": 15,
     "metadata": {},
     "output_type": "execute_result"
    }
   ],
   "source": [
    "hasattr(m, \"last_name\")"
   ]
  },
  {
   "cell_type": "code",
   "execution_count": 16,
   "id": "c4146cde",
   "metadata": {},
   "outputs": [
    {
     "data": {
      "text/plain": [
       "False"
      ]
     },
     "execution_count": 16,
     "metadata": {},
     "output_type": "execute_result"
    }
   ],
   "source": [
    "hasattr(m, \"lastName\")"
   ]
  },
  {
   "cell_type": "code",
   "execution_count": 17,
   "id": "9d9dd847",
   "metadata": {},
   "outputs": [],
   "source": [
    "class Model(BaseModel):\n",
    "    id_ : int = Field(alias=\"id\", default = 100)\n",
    "    last_name : str = Field(alias=\"lastName\")"
   ]
  },
  {
   "cell_type": "code",
   "execution_count": 18,
   "id": "87a342af",
   "metadata": {},
   "outputs": [
    {
     "data": {
      "text/plain": [
       "Model(id_=100, last_name='Hauss')"
      ]
     },
     "execution_count": 18,
     "metadata": {},
     "output_type": "execute_result"
    }
   ],
   "source": [
    "m = Model(lastName = \"Hauss\")\n",
    "m"
   ]
  },
  {
   "cell_type": "code",
   "execution_count": 19,
   "id": "e439bba1",
   "metadata": {},
   "outputs": [
    {
     "data": {
      "text/plain": [
       "{'id_': 100, 'last_name': 'Hauss'}"
      ]
     },
     "execution_count": 19,
     "metadata": {},
     "output_type": "execute_result"
    }
   ],
   "source": [
    "m.model_dump()"
   ]
  },
  {
   "cell_type": "code",
   "execution_count": 20,
   "id": "6a06f9fd",
   "metadata": {},
   "outputs": [
    {
     "data": {
      "text/plain": [
       "'{\"id_\":100,\"last_name\":\"Hauss\"}'"
      ]
     },
     "execution_count": 20,
     "metadata": {},
     "output_type": "execute_result"
    }
   ],
   "source": [
    "m.model_dump_json()"
   ]
  },
  {
   "cell_type": "code",
   "execution_count": 34,
   "id": "3cfca5d4",
   "metadata": {},
   "outputs": [],
   "source": [
    "class Person(BaseModel):\n",
    "    id_ : int = Field(alias=\"id\")\n",
    "    first_name : str | None = Field(alias=\"firstName\", default = None)\n",
    "    last_name : str | None = Field(alias=\"lastName\", default = None)\n",
    "    age : int | None = None"
   ]
  },
  {
   "cell_type": "code",
   "execution_count": 35,
   "id": "3486d358",
   "metadata": {},
   "outputs": [],
   "source": [
    "issac = Person (id=1, firstName = \"Issac\", lastName = \"Newton\", age=84)"
   ]
  },
  {
   "cell_type": "code",
   "execution_count": 36,
   "id": "b2c7c8af",
   "metadata": {},
   "outputs": [
    {
     "data": {
      "text/plain": [
       "{'id': 1, 'firstName': 'Issac', 'lastName': 'Newton', 'age': 84}"
      ]
     },
     "execution_count": 36,
     "metadata": {},
     "output_type": "execute_result"
    }
   ],
   "source": [
    "issac.model_dump(by_alias=True)"
   ]
  },
  {
   "cell_type": "markdown",
   "id": "53f3bef4",
   "metadata": {},
   "source": [
    "#### "
   ]
  }
 ],
 "metadata": {
  "kernelspec": {
   "display_name": "Python 3 (ipykernel)",
   "language": "python",
   "name": "python3"
  },
  "language_info": {
   "codemirror_mode": {
    "name": "ipython",
    "version": 3
   },
   "file_extension": ".py",
   "mimetype": "text/x-python",
   "name": "python",
   "nbconvert_exporter": "python",
   "pygments_lexer": "ipython3",
   "version": "3.10.12"
  }
 },
 "nbformat": 4,
 "nbformat_minor": 5
}
