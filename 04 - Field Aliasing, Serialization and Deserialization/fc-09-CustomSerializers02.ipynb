{
 "cells": [
  {
   "cell_type": "code",
   "execution_count": 10,
   "id": "6b049615",
   "metadata": {},
   "outputs": [],
   "source": [
    "from pydantic import BaseModel, field_serializer"
   ]
  },
  {
   "cell_type": "code",
   "execution_count": 34,
   "id": "a1555ed1",
   "metadata": {},
   "outputs": [],
   "source": [
    "from datetime import datetime"
   ]
  },
  {
   "cell_type": "code",
   "execution_count": 16,
   "id": "cb2d9306",
   "metadata": {},
   "outputs": [],
   "source": [
    "class Model(BaseModel):\n",
    "    dt: datetime | None = None\n",
    "\n",
    "    @field_serializer(\"dt\", when_used = \"always\")\n",
    "    def serialize_name(self, value):\n",
    "        print(f\"type={type(value)}\")\n",
    "        return value;"
   ]
  },
  {
   "cell_type": "code",
   "execution_count": 17,
   "id": "70ad858e",
   "metadata": {},
   "outputs": [],
   "source": [
    "m=Model(dt=\"2024-01-09\")"
   ]
  },
  {
   "cell_type": "code",
   "execution_count": 18,
   "id": "98453d5f",
   "metadata": {},
   "outputs": [
    {
     "name": "stdout",
     "output_type": "stream",
     "text": [
      "type=<class 'datetime.datetime'>\n"
     ]
    },
    {
     "data": {
      "text/plain": [
       "{'dt': datetime.datetime(2024, 1, 9, 0, 0)}"
      ]
     },
     "execution_count": 18,
     "metadata": {},
     "output_type": "execute_result"
    }
   ],
   "source": [
    "m.model_dump()"
   ]
  },
  {
   "cell_type": "code",
   "execution_count": 20,
   "id": "09949b63",
   "metadata": {},
   "outputs": [
    {
     "name": "stdout",
     "output_type": "stream",
     "text": [
      "type=<class 'datetime.datetime'>\n"
     ]
    },
    {
     "data": {
      "text/plain": [
       "'{\"dt\":\"2024-01-09T00:00:00\"}'"
      ]
     },
     "execution_count": 20,
     "metadata": {},
     "output_type": "execute_result"
    }
   ],
   "source": [
    "m.model_dump_json()"
   ]
  },
  {
   "cell_type": "code",
   "execution_count": 24,
   "id": "fffaad2e",
   "metadata": {},
   "outputs": [],
   "source": [
    "class Model(BaseModel):\n",
    "    dt: datetime | None = None\n",
    "\n",
    "    @field_serializer(\"dt\", when_used = \"unless-none\")\n",
    "    def serialize_name(self, value):\n",
    "        print(f\"type={type(value)}\")\n",
    "        return value;"
   ]
  },
  {
   "cell_type": "code",
   "execution_count": 30,
   "id": "69813f3b",
   "metadata": {},
   "outputs": [
    {
     "name": "stdout",
     "output_type": "stream",
     "text": [
      "type=<class 'datetime.datetime'>\n"
     ]
    },
    {
     "data": {
      "text/plain": [
       "'{\"dt\":\"2024-01-09T00:00:00\"}'"
      ]
     },
     "execution_count": 30,
     "metadata": {},
     "output_type": "execute_result"
    }
   ],
   "source": [
    "m=Model(dt=\"2024-01-09\")\n",
    "m.model_dump_json()"
   ]
  },
  {
   "cell_type": "code",
   "execution_count": 31,
   "id": "14de74a7",
   "metadata": {},
   "outputs": [],
   "source": [
    "m = Model(dt=None)"
   ]
  },
  {
   "cell_type": "markdown",
   "id": "62bfd2b2",
   "metadata": {},
   "source": [
    "m.model_dumo("
   ]
  },
  {
   "cell_type": "code",
   "execution_count": 33,
   "id": "ec9b2784",
   "metadata": {},
   "outputs": [
    {
     "data": {
      "text/plain": [
       "{'dt': None}"
      ]
     },
     "execution_count": 33,
     "metadata": {},
     "output_type": "execute_result"
    }
   ],
   "source": [
    "m.model_dump()"
   ]
  },
  {
   "cell_type": "code",
   "execution_count": 35,
   "id": "395f44c2",
   "metadata": {},
   "outputs": [],
   "source": [
    "dt = datetime(2024,9,9,0,0)"
   ]
  },
  {
   "cell_type": "code",
   "execution_count": 37,
   "id": "ef65c5bb",
   "metadata": {},
   "outputs": [
    {
     "data": {
      "text/plain": [
       "'2024-09-09T00:00:00'"
      ]
     },
     "execution_count": 37,
     "metadata": {},
     "output_type": "execute_result"
    }
   ],
   "source": [
    "dt.isoformat()"
   ]
  },
  {
   "cell_type": "code",
   "execution_count": 39,
   "id": "68baab3e",
   "metadata": {},
   "outputs": [
    {
     "data": {
      "text/plain": [
       "'2024/9/9 12:00 AM'"
      ]
     },
     "execution_count": 39,
     "metadata": {},
     "output_type": "execute_result"
    }
   ],
   "source": [
    "dt.strftime(\"%Y/%-m/%-d %I:%M %p\")"
   ]
  },
  {
   "cell_type": "code",
   "execution_count": 42,
   "id": "938c62b4",
   "metadata": {},
   "outputs": [],
   "source": [
    "    dt: datetime | None = None\n",
    "\n",
    "    @field_serializer(\"dt\", when_used = \"unless-none\")\n",
    "    def serialize_name(self, value):\n",
    "        print(f\"type={type(value)}\")\n",
    "        return value;"
   ]
  },
  {
   "cell_type": "markdown",
   "id": "3d5973b5",
   "metadata": {},
   "source": [
    "m=Model(dt=\"2024-01-09\")\n",
    "m.model_dump_json()"
   ]
  },
  {
   "cell_type": "code",
   "execution_count": 43,
   "id": "b8f3fb02",
   "metadata": {},
   "outputs": [
    {
     "name": "stdout",
     "output_type": "stream",
     "text": [
      "type=<class 'datetime.datetime'>\n"
     ]
    },
    {
     "data": {
      "text/plain": [
       "'{\"dt\":\"2024-01-09T00:00:00\"}'"
      ]
     },
     "execution_count": 43,
     "metadata": {},
     "output_type": "execute_result"
    }
   ],
   "source": [
    "m=Model(dt=\"2024-01-09\")\n",
    "m.model_dump_json()"
   ]
  },
  {
   "cell_type": "code",
   "execution_count": 44,
   "id": "053680b4",
   "metadata": {},
   "outputs": [
    {
     "name": "stdout",
     "output_type": "stream",
     "text": [
      "type=<class 'datetime.datetime'>\n"
     ]
    },
    {
     "data": {
      "text/plain": [
       "{'dt': datetime.datetime(2024, 1, 9, 0, 0)}"
      ]
     },
     "execution_count": 44,
     "metadata": {},
     "output_type": "execute_result"
    }
   ],
   "source": [
    "m.model_dump()"
   ]
  },
  {
   "cell_type": "code",
   "execution_count": 45,
   "id": "a505678c",
   "metadata": {},
   "outputs": [],
   "source": [
    "m=Model(dt=None)"
   ]
  },
  {
   "cell_type": "code",
   "execution_count": 46,
   "id": "2957bf49",
   "metadata": {},
   "outputs": [
    {
     "data": {
      "text/plain": [
       "{'dt': None}"
      ]
     },
     "execution_count": 46,
     "metadata": {},
     "output_type": "execute_result"
    }
   ],
   "source": [
    "m.model_dump()"
   ]
  },
  {
   "cell_type": "code",
   "execution_count": 47,
   "id": "378d885f",
   "metadata": {},
   "outputs": [
    {
     "data": {
      "text/plain": [
       "'{\"dt\":null}'"
      ]
     },
     "execution_count": 47,
     "metadata": {},
     "output_type": "execute_result"
    }
   ],
   "source": [
    "m.model_dump_json()"
   ]
  },
  {
   "cell_type": "code",
   "execution_count": 48,
   "id": "b1ca7a95",
   "metadata": {},
   "outputs": [],
   "source": [
    "from pydantic import FieldSerializationInfo"
   ]
  },
  {
   "cell_type": "code",
   "execution_count": 49,
   "id": "1d59ff78",
   "metadata": {},
   "outputs": [],
   "source": [
    "class Model(BaseModel):\n",
    "    dt: datetime | None = None\n",
    "\n",
    "    @field_serializer(\"dt\", when_used = \"unless-none\")\n",
    "    def dt_serializer(self, value, info:FieldSerializationInfo):\n",
    "        print(f\"info={info}\")\n",
    "        return value;"
   ]
  },
  {
   "cell_type": "code",
   "execution_count": 51,
   "id": "5e91da2d",
   "metadata": {},
   "outputs": [
    {
     "data": {
      "text/plain": [
       "Model(dt=datetime.datetime(2024, 1, 9, 0, 0))"
      ]
     },
     "execution_count": 51,
     "metadata": {},
     "output_type": "execute_result"
    }
   ],
   "source": [
    "m=Model(dt=\"2024-01-09\")\n",
    "m"
   ]
  },
  {
   "cell_type": "markdown",
   "id": "8fe5cbee",
   "metadata": {},
   "source": [
    "m.model_dumo()"
   ]
  },
  {
   "cell_type": "code",
   "execution_count": 52,
   "id": "afc8868d",
   "metadata": {},
   "outputs": [
    {
     "name": "stdout",
     "output_type": "stream",
     "text": [
      "info=SerializationInfo(include=None, exclude=None, context=None, mode='python', by_alias=False, exclude_unset=False, exclude_defaults=False, exclude_none=False, round_trip=False, serialize_as_any=False)\n"
     ]
    },
    {
     "data": {
      "text/plain": [
       "{'dt': datetime.datetime(2024, 1, 9, 0, 0)}"
      ]
     },
     "execution_count": 52,
     "metadata": {},
     "output_type": "execute_result"
    }
   ],
   "source": [
    "m.model_dump()"
   ]
  },
  {
   "cell_type": "code",
   "execution_count": 53,
   "id": "ea1bdfc9",
   "metadata": {},
   "outputs": [
    {
     "name": "stdout",
     "output_type": "stream",
     "text": [
      "info=SerializationInfo(include=None, exclude=None, context=None, mode='json', by_alias=False, exclude_unset=False, exclude_defaults=False, exclude_none=False, round_trip=False, serialize_as_any=False)\n"
     ]
    },
    {
     "data": {
      "text/plain": [
       "'{\"dt\":\"2024-01-09T00:00:00\"}'"
      ]
     },
     "execution_count": 53,
     "metadata": {},
     "output_type": "execute_result"
    }
   ],
   "source": [
    "m.model_dump_json()"
   ]
  },
  {
   "cell_type": "code",
   "execution_count": 61,
   "id": "963aa49c",
   "metadata": {},
   "outputs": [],
   "source": [
    "class Model(BaseModel):\n",
    "    dt: datetime | None = None\n",
    "\n",
    "    @field_serializer(\"dt\", when_used = \"unless-none\")\n",
    "    def dt_serializer(self, value, info:FieldSerializationInfo):\n",
    "        print(f\"info={info}\")\n",
    "        print(f\"is_json={info.mode_is_json()}\")\n",
    "        return value"
   ]
  },
  {
   "cell_type": "code",
   "execution_count": 62,
   "id": "f057d143",
   "metadata": {},
   "outputs": [],
   "source": [
    "m=Model(dt=\"2024-01-09\")"
   ]
  },
  {
   "cell_type": "code",
   "execution_count": 63,
   "id": "832fe394",
   "metadata": {},
   "outputs": [
    {
     "name": "stdout",
     "output_type": "stream",
     "text": [
      "info=SerializationInfo(include=None, exclude=None, context=None, mode='python', by_alias=False, exclude_unset=False, exclude_defaults=False, exclude_none=False, round_trip=False, serialize_as_any=False)\n",
      "is_json=False\n"
     ]
    },
    {
     "data": {
      "text/plain": [
       "{'dt': datetime.datetime(2024, 1, 9, 0, 0)}"
      ]
     },
     "execution_count": 63,
     "metadata": {},
     "output_type": "execute_result"
    }
   ],
   "source": [
    "m.model_dump()"
   ]
  },
  {
   "cell_type": "code",
   "execution_count": 64,
   "id": "ddc6c255",
   "metadata": {},
   "outputs": [
    {
     "name": "stdout",
     "output_type": "stream",
     "text": [
      "info=SerializationInfo(include=None, exclude=None, context=None, mode='json', by_alias=False, exclude_unset=False, exclude_defaults=False, exclude_none=False, round_trip=False, serialize_as_any=False)\n",
      "is_json=True\n"
     ]
    },
    {
     "data": {
      "text/plain": [
       "'{\"dt\":\"2024-01-09T00:00:00\"}'"
      ]
     },
     "execution_count": 64,
     "metadata": {},
     "output_type": "execute_result"
    }
   ],
   "source": [
    "m.model_dump_json()"
   ]
  },
  {
   "cell_type": "code",
   "execution_count": 65,
   "id": "1ebf4240",
   "metadata": {},
   "outputs": [],
   "source": [
    "import pytz"
   ]
  },
  {
   "cell_type": "code",
   "execution_count": 70,
   "id": "dbbc5545",
   "metadata": {},
   "outputs": [
    {
     "data": {
      "text/plain": [
       "datetime.datetime(2024, 12, 6, 4, 27, 49, 355297, tzinfo=<UTC>)"
      ]
     },
     "execution_count": 70,
     "metadata": {},
     "output_type": "execute_result"
    }
   ],
   "source": [
    "dt=datetime.now(pytz.utc)\n",
    "dt"
   ]
  },
  {
   "cell_type": "code",
   "execution_count": 71,
   "id": "6822ef99",
   "metadata": {},
   "outputs": [
    {
     "data": {
      "text/plain": [
       "'2024-12-06T04:27:49.355297+00:00'"
      ]
     },
     "execution_count": 71,
     "metadata": {},
     "output_type": "execute_result"
    }
   ],
   "source": [
    "dt.isoformat()"
   ]
  },
  {
   "cell_type": "code",
   "execution_count": 74,
   "id": "ff4d381d",
   "metadata": {},
   "outputs": [],
   "source": [
    "def make_utc(dt: datetime) -> datetime:\n",
    "    if dt.tzinfo is None:\n",
    "        dt = pytz.utc.localize(dt)\n",
    "    else:\n",
    "        dt = dt.astimezone(pytz.utc)\n",
    "    \n",
    "    return dt"
   ]
  },
  {
   "cell_type": "code",
   "execution_count": 78,
   "id": "fb4cf09f",
   "metadata": {},
   "outputs": [],
   "source": [
    "dt = make_utc(datetime.now(pytz.utc))"
   ]
  },
  {
   "cell_type": "code",
   "execution_count": 79,
   "id": "ac6213c5",
   "metadata": {},
   "outputs": [
    {
     "data": {
      "text/plain": [
       "datetime.datetime(2024, 12, 6, 4, 32, 0, 784269, tzinfo=<UTC>)"
      ]
     },
     "execution_count": 79,
     "metadata": {},
     "output_type": "execute_result"
    }
   ],
   "source": [
    "dt"
   ]
  },
  {
   "cell_type": "code",
   "execution_count": 80,
   "id": "93ad566b",
   "metadata": {},
   "outputs": [
    {
     "data": {
      "text/plain": [
       "'2024/12/6T04:32:00Z'"
      ]
     },
     "execution_count": 80,
     "metadata": {},
     "output_type": "execute_result"
    }
   ],
   "source": [
    "dt.strftime(\"%Y/%-m/%-dT%H:%M:%SZ\")"
   ]
  },
  {
   "cell_type": "code",
   "execution_count": 83,
   "id": "61c9b676",
   "metadata": {},
   "outputs": [],
   "source": [
    "def dt_utc_json_serializer(dt: datetime) -> str:\n",
    "    dt = make_utc(dt)\n",
    "    return dt.strftime(\"%Y/%-m/%-dT%H:%M:%SZ\")"
   ]
  },
  {
   "cell_type": "code",
   "execution_count": 85,
   "id": "b358d67f",
   "metadata": {},
   "outputs": [],
   "source": [
    "class Model(BaseModel):\n",
    "    dt: datetime | None = None\n",
    "\n",
    "    @field_serializer(\"dt\", when_used = \"unless-none\")\n",
    "    def dt_serializer(self, value, info:FieldSerializationInfo):\n",
    "        if info.mode_is_json():\n",
    "            return dt_utc_json_serializer(dt)\n",
    "        return make_utc(dt)"
   ]
  },
  {
   "cell_type": "code",
   "execution_count": 88,
   "id": "dd91a29f",
   "metadata": {},
   "outputs": [
    {
     "data": {
      "text/plain": [
       "Model(dt=datetime.datetime(2020, 1, 1, 0, 0))"
      ]
     },
     "execution_count": 88,
     "metadata": {},
     "output_type": "execute_result"
    }
   ],
   "source": [
    "m=Model(dt=datetime(2020,1,1))\n",
    "m"
   ]
  },
  {
   "cell_type": "code",
   "execution_count": 89,
   "id": "ea2ae508",
   "metadata": {},
   "outputs": [
    {
     "data": {
      "text/plain": [
       "{'dt': datetime.datetime(2024, 12, 6, 4, 39, 8, 346567, tzinfo=<UTC>)}"
      ]
     },
     "execution_count": 89,
     "metadata": {},
     "output_type": "execute_result"
    }
   ],
   "source": [
    "m.model_dump()"
   ]
  },
  {
   "cell_type": "code",
   "execution_count": 90,
   "id": "50bc0419",
   "metadata": {},
   "outputs": [
    {
     "data": {
      "text/plain": [
       "'{\"dt\":\"2024/12/6T04:39:08Z\"}'"
      ]
     },
     "execution_count": 90,
     "metadata": {},
     "output_type": "execute_result"
    }
   ],
   "source": [
    "m.model_dump_json()"
   ]
  },
  {
   "cell_type": "code",
   "execution_count": 91,
   "id": "f854bd76",
   "metadata": {},
   "outputs": [
    {
     "data": {
      "text/plain": [
       "datetime.datetime(2024, 1, 1, 0, 0, tzinfo=<DstTzInfo 'US/Eastern' EST-1 day, 19:00:00 STD>)"
      ]
     },
     "execution_count": 91,
     "metadata": {},
     "output_type": "execute_result"
    }
   ],
   "source": [
    "eastern = pytz.timezone(\"US/Eastern\")\n",
    "dt = eastern.localize(datetime(2024,1,1))\n",
    "dt"
   ]
  },
  {
   "cell_type": "code",
   "execution_count": 92,
   "id": "035ae130",
   "metadata": {},
   "outputs": [
    {
     "data": {
      "text/plain": [
       "'2024-01-01T00:00:00-05:00'"
      ]
     },
     "execution_count": 92,
     "metadata": {},
     "output_type": "execute_result"
    }
   ],
   "source": [
    "dt.isoformat()"
   ]
  },
  {
   "cell_type": "code",
   "execution_count": 93,
   "id": "aa57dbf1",
   "metadata": {},
   "outputs": [
    {
     "data": {
      "text/plain": [
       "Model(dt=datetime.datetime(2024, 1, 1, 0, 0, tzinfo=<DstTzInfo 'US/Eastern' EST-1 day, 19:00:00 STD>))"
      ]
     },
     "execution_count": 93,
     "metadata": {},
     "output_type": "execute_result"
    }
   ],
   "source": [
    "m=Model(dt=dt)\n",
    "m"
   ]
  },
  {
   "cell_type": "code",
   "execution_count": 94,
   "id": "ecd15748",
   "metadata": {},
   "outputs": [
    {
     "data": {
      "text/plain": [
       "{'dt': datetime.datetime(2024, 1, 1, 5, 0, tzinfo=<UTC>)}"
      ]
     },
     "execution_count": 94,
     "metadata": {},
     "output_type": "execute_result"
    }
   ],
   "source": [
    "m.model_dump()"
   ]
  },
  {
   "cell_type": "code",
   "execution_count": 95,
   "id": "ffa95e2c",
   "metadata": {},
   "outputs": [
    {
     "data": {
      "text/plain": [
       "'{\"dt\":\"2024/1/1T05:00:00Z\"}'"
      ]
     },
     "execution_count": 95,
     "metadata": {},
     "output_type": "execute_result"
    }
   ],
   "source": [
    "m.model_dump_json()"
   ]
  },
  {
   "cell_type": "code",
   "execution_count": null,
   "id": "54e0a886",
   "metadata": {},
   "outputs": [],
   "source": []
  }
 ],
 "metadata": {
  "kernelspec": {
   "display_name": "Python 3 (ipykernel)",
   "language": "python",
   "name": "python3"
  },
  "language_info": {
   "codemirror_mode": {
    "name": "ipython",
    "version": 3
   },
   "file_extension": ".py",
   "mimetype": "text/x-python",
   "name": "python",
   "nbconvert_exporter": "python",
   "pygments_lexer": "ipython3",
   "version": "3.10.12"
  }
 },
 "nbformat": 4,
 "nbformat_minor": 5
}
