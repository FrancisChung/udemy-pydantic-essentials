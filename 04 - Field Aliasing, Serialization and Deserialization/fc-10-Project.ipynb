{
 "cells": [
  {
   "metadata": {},
   "cell_type": "markdown",
   "source": [
    "Implement the following\n",
    "\n",
    "Auto generate camel case aliases\n",
    "The field type_ in our model is provided as type in source data, and should also serialize to type\n",
    "The data we receive contains the following field names that need to map to our own model field names:\n",
    "    number_of_doors is provided as doors\n",
    "    manufactured_data is provided as completionDate\n",
    "The field base_msrp_usd is provided as msrpUSD, and we want the serialization name to be baseMSRPUSD\n",
    "We want the json serialized output of manufactered_date to be of pattern YYYY/MM/DD, but serializing to Python Dict should remain as date object.\n"
   ],
   "id": "40e979e74f322805"
  },
  {
   "metadata": {
    "ExecuteTime": {
     "end_time": "2024-12-23T05:23:13.080452Z",
     "start_time": "2024-12-23T05:23:13.072146Z"
    }
   },
   "cell_type": "code",
   "source": [
    "\n",
    "\n",
    "from pydantic import BaseModel, ValidationError, ConfigDict, Field, field_serializer\n",
    "from datetime import date\n",
    "from enum import Enum\n",
    "from pydantic.alias_generators import to_camel\n",
    "\n",
    "class AutomobileType(Enum):\n",
    "    sedan = \"Sedan\"\n",
    "    coupe = \"Coupe\"\n",
    "    convertible = \"Convertible\"\n",
    "    suv = \"SUV\"\n",
    "    truck = \"Truck\"\n",
    "\n",
    "\n",
    "\n",
    "data_json = '''\n",
    "{\n",
    "    \"manufacturer\": \"BMW\",\n",
    "    \"seriesName\": \"M4\",\n",
    "    \"type\": \"Convertible\",\n",
    "    \"isElectric\": false,\n",
    "    \"completionDate\": \"2023-01-01\",\n",
    "    \"msrpUSD\": 93300,\n",
    "    \"vin\": \"1234567890\",\n",
    "    \"doors\": 2,\n",
    "    \"registrationCountry\": \"France\",\n",
    "    \"licensePlate\": \"AAA-BBB\"\n",
    "}\n",
    "'''\n",
    "\n",
    "expected_serialized_dict = {\n",
    "    'manufacturer': 'BMW',\n",
    "    'series_name': 'M4',\n",
    "    'type_': AutomobileType.convertible,\n",
    "    'is_electric': False,\n",
    "    'manufactured_date': date(2023, 1, 1),\n",
    "    'base_msrp_usd': 93300.0,\n",
    "    'vin': '1234567890',\n",
    "    'number_of_doors': 2,\n",
    "    'registration_country': 'France',\n",
    "    'license_plate': 'AAA-BBB'\n",
    "}\n",
    "\n",
    "expected_serialized_dict_by_alias = {\n",
    "    'manufacturer': 'BMW',\n",
    "    'seriesName': 'M4',\n",
    "    'type': AutomobileType.convertible,\n",
    "    'isElectric': False,\n",
    "    'manufacturedDate': date(2023, 1, 1),\n",
    "    'baseMSRPUSD': 93300.0,\n",
    "    'vin': '1234567890',\n",
    "    'numberOfDoors': 2,\n",
    "    'registrationCountry': 'France',\n",
    "    'licensePlate': 'AAA-BBB'\n",
    "}\n",
    "\n",
    "expected_serialized_json_by_alias = (\n",
    "    '{\"manufacturer\":\"BMW\",\"seriesName\":\"M4\",\"type\":\"Convertible\",'\n",
    "    '\"isElectric\":false,\"manufacturedDate\":\"2023/01/01\",\"baseMSRPUSD\":93300.0,'\n",
    "    '\"vin\":\"1234567890\",\"numberOfDoors\":2,\"registrationCountry\":\"France\",'\n",
    "    '\"licensePlate\":\"AAA-BBB\"}'\n",
    ")"
   ],
   "id": "d3ef8b07a612dea7",
   "outputs": [],
   "execution_count": 42
  },
  {
   "metadata": {
    "ExecuteTime": {
     "end_time": "2024-12-23T05:23:13.574088Z",
     "start_time": "2024-12-23T05:23:13.565651Z"
    }
   },
   "cell_type": "code",
   "source": [
    "\n",
    "\n",
    "\n",
    "class Automobile(BaseModel):\n",
    "    model_config = ConfigDict(\n",
    "        extra='forbid',\n",
    "        str_strip_whitespace = True,\n",
    "        validate_default = True,\n",
    "        validate_assignment = True,\n",
    "        alias_generator = to_camel,\n",
    "    )\n",
    "    manufacturer: str\n",
    "    series_name: str = Field(alias='seriesName')\n",
    "    type_: AutomobileType = Field(alias='type')\n",
    "    is_electric: bool = Field(alias='isElectric')\n",
    "    manufactured_date: date = Field(validation_alias='completionDate')\n",
    "    base_msrp_usd: float = Field(alias='msrpUSD', serialization_alias='baseMSRPUSD')\n",
    "    vin: str\n",
    "    number_of_doors: int = Field(alias='doors', serialization_alias='numberOfDoors')\n",
    "    registration_country: str | None = None\n",
    "    license_plate: str | None = None\n",
    "\n",
    "    @field_serializer(\"manufactured_date\", when_used=\"json-unless-none\")\n",
    "    def serialize_date(self, value: date) -> str:\n",
    "        return value.strftime(\"%Y/%m/%d\")\n"
   ],
   "id": "cbbc5c4123a0d3fc",
   "outputs": [],
   "execution_count": 43
  },
  {
   "metadata": {
    "ExecuteTime": {
     "end_time": "2024-12-23T05:23:14.174493Z",
     "start_time": "2024-12-23T05:23:14.169976Z"
    }
   },
   "cell_type": "code",
   "source": "car = Automobile.model_validate_json(data_json)",
   "id": "4413cf58b6c1baaf",
   "outputs": [],
   "execution_count": 44
  },
  {
   "metadata": {
    "ExecuteTime": {
     "end_time": "2024-12-23T05:23:14.704713Z",
     "start_time": "2024-12-23T05:23:14.699203Z"
    }
   },
   "cell_type": "code",
   "source": "car.model_dump()",
   "id": "2760be3d58e9d628",
   "outputs": [
    {
     "data": {
      "text/plain": [
       "{'manufacturer': 'BMW',\n",
       " 'series_name': 'M4',\n",
       " 'type_': <AutomobileType.convertible: 'Convertible'>,\n",
       " 'is_electric': False,\n",
       " 'manufactured_date': datetime.date(2023, 1, 1),\n",
       " 'base_msrp_usd': 93300.0,\n",
       " 'vin': '1234567890',\n",
       " 'number_of_doors': 2,\n",
       " 'registration_country': 'France',\n",
       " 'license_plate': 'AAA-BBB'}"
      ]
     },
     "execution_count": 45,
     "metadata": {},
     "output_type": "execute_result"
    }
   ],
   "execution_count": 45
  },
  {
   "metadata": {
    "ExecuteTime": {
     "end_time": "2024-12-23T05:23:15.159030Z",
     "start_time": "2024-12-23T05:23:15.154925Z"
    }
   },
   "cell_type": "code",
   "source": "assert car.model_dump() == expected_serialized_dict",
   "id": "615ae21afb6efae6",
   "outputs": [],
   "execution_count": 46
  },
  {
   "metadata": {
    "ExecuteTime": {
     "end_time": "2024-12-23T05:23:15.833515Z",
     "start_time": "2024-12-23T05:23:15.827455Z"
    }
   },
   "cell_type": "code",
   "source": "car.model_dump(by_alias=True)",
   "id": "4f487f2594f945f4",
   "outputs": [
    {
     "data": {
      "text/plain": [
       "{'manufacturer': 'BMW',\n",
       " 'seriesName': 'M4',\n",
       " 'type': <AutomobileType.convertible: 'Convertible'>,\n",
       " 'isElectric': False,\n",
       " 'manufacturedDate': datetime.date(2023, 1, 1),\n",
       " 'baseMSRPUSD': 93300.0,\n",
       " 'vin': '1234567890',\n",
       " 'numberOfDoors': 2,\n",
       " 'registrationCountry': 'France',\n",
       " 'licensePlate': 'AAA-BBB'}"
      ]
     },
     "execution_count": 47,
     "metadata": {},
     "output_type": "execute_result"
    }
   ],
   "execution_count": 47
  },
  {
   "metadata": {
    "ExecuteTime": {
     "end_time": "2024-12-23T05:23:16.367344Z",
     "start_time": "2024-12-23T05:23:16.361985Z"
    }
   },
   "cell_type": "code",
   "source": "car.model_dump(by_alias=True) == expected_serialized_dict_by_alias",
   "id": "3805fd8e85950ac9",
   "outputs": [
    {
     "data": {
      "text/plain": [
       "True"
      ]
     },
     "execution_count": 48,
     "metadata": {},
     "output_type": "execute_result"
    }
   ],
   "execution_count": 48
  },
  {
   "metadata": {
    "ExecuteTime": {
     "end_time": "2024-12-23T05:23:17.352271Z",
     "start_time": "2024-12-23T05:23:17.345249Z"
    }
   },
   "cell_type": "code",
   "source": " car.model_dump_json(by_alias=True)",
   "id": "5bd0f3c570d898c",
   "outputs": [
    {
     "data": {
      "text/plain": [
       "'{\"manufacturer\":\"BMW\",\"seriesName\":\"M4\",\"type\":\"Convertible\",\"isElectric\":false,\"manufacturedDate\":\"2023/01/01\",\"baseMSRPUSD\":93300.0,\"vin\":\"1234567890\",\"numberOfDoors\":2,\"registrationCountry\":\"France\",\"licensePlate\":\"AAA-BBB\"}'"
      ]
     },
     "execution_count": 49,
     "metadata": {},
     "output_type": "execute_result"
    }
   ],
   "execution_count": 49
  },
  {
   "metadata": {
    "ExecuteTime": {
     "end_time": "2024-12-23T05:23:19.074663Z",
     "start_time": "2024-12-23T05:23:19.065497Z"
    }
   },
   "cell_type": "code",
   "source": " car.model_dump_json(by_alias=True) == expected_serialized_json_by_alias",
   "id": "ad0901cbb7c444d3",
   "outputs": [
    {
     "data": {
      "text/plain": [
       "True"
      ]
     },
     "execution_count": 50,
     "metadata": {},
     "output_type": "execute_result"
    }
   ],
   "execution_count": 50
  },
  {
   "metadata": {},
   "cell_type": "code",
   "outputs": [],
   "execution_count": null,
   "source": [
    "expected_serialized_json_by_alias = (\n",
    "    '{\"manufacturer\":\"BMW\",\"seriesName\":\"M4\",\"type\":\"Convertible\",'\n",
    "    '\"isElectric\":false,\"manufacturedDate\":\"2023/01/01\",\"baseMSRPUSD\":93300.0,'\n",
    "    '\"vin\":\"1234567890\",\"numberOfDoors\":2,\"registrationCountry\":\"France\",'\n",
    "    '\"licensePlate\":\"AAA-BBB\"}'\n",
    ")"
   ],
   "id": "23f0583735b8a516"
  }
 ],
 "metadata": {
  "kernelspec": {
   "name": "python3",
   "language": "python",
   "display_name": "Python 3 (ipykernel)"
  }
 },
 "nbformat": 5,
 "nbformat_minor": 9
}
