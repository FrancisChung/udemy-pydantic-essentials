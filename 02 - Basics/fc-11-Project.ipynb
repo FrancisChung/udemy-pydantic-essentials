{
 "cells": [
  {
   "cell_type": "code",
   "execution_count": 3,
   "id": "8d60b6bc",
   "metadata": {},
   "outputs": [],
   "source": [
    "from pydantic import BaseModel, ValidationError\n",
    "from datetime import date"
   ]
  },
  {
   "cell_type": "code",
   "execution_count": 8,
   "id": "d1d3fce7",
   "metadata": {},
   "outputs": [],
   "source": [
    "class Automobile(BaseModel):\n",
    "    manufacturer: str\n",
    "    series_name: str\n",
    "    type_: str\n",
    "    is_electric: bool = False\n",
    "    manufactured_date: date\n",
    "    base_msrp_usd: float \n",
    "    vim: str\n",
    "    number_of_doors: int = 4\n",
    "    registration_country: str | None = None\n",
    "    license_plate: str | None = None\n",
    "    "
   ]
  },
  {
   "cell_type": "code",
   "execution_count": null,
   "id": "511254fc",
   "metadata": {},
   "outputs": [],
   "source": []
  }
 ],
 "metadata": {
  "kernelspec": {
   "display_name": "Python 3 (ipykernel)",
   "language": "python",
   "name": "python3"
  },
  "language_info": {
   "codemirror_mode": {
    "name": "ipython",
    "version": 3
   },
   "file_extension": ".py",
   "mimetype": "text/x-python",
   "name": "python",
   "nbconvert_exporter": "python",
   "pygments_lexer": "ipython3",
   "version": "3.10.12"
  }
 },
 "nbformat": 4,
 "nbformat_minor": 5
}
