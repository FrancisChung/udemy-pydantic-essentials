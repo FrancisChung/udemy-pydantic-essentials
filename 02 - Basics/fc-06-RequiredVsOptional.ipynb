{
 "cells": [
  {
   "cell_type": "code",
   "execution_count": 2,
   "id": "4e484e8c",
   "metadata": {},
   "outputs": [],
   "source": [
    "from pydantic import BaseModel\n",
    "\n",
    "class Circle(BaseModel):\n",
    "    center: tuple[int, int]\n",
    "    radius: int"
   ]
  },
  {
   "cell_type": "code",
   "execution_count": 4,
   "id": "f1e9a8d6",
   "metadata": {},
   "outputs": [
    {
     "data": {
      "text/plain": [
       "{'center': FieldInfo(annotation=tuple[int, int], required=True),\n",
       " 'radius': FieldInfo(annotation=int, required=True)}"
      ]
     },
     "execution_count": 4,
     "metadata": {},
     "output_type": "execute_result"
    }
   ],
   "source": [
    "Circle.model_fields"
   ]
  },
  {
   "cell_type": "code",
   "execution_count": 5,
   "id": "0b2299e3",
   "metadata": {},
   "outputs": [],
   "source": [
    "class Circle(BaseModel):\n",
    "    center: tuple[int, int] = (0,0)\n",
    "    radius: int"
   ]
  },
  {
   "cell_type": "code",
   "execution_count": 6,
   "id": "1f8a2a6b",
   "metadata": {},
   "outputs": [
    {
     "data": {
      "text/plain": [
       "{'center': FieldInfo(annotation=tuple[int, int], required=False, default=(0, 0)),\n",
       " 'radius': FieldInfo(annotation=int, required=True)}"
      ]
     },
     "execution_count": 6,
     "metadata": {},
     "output_type": "execute_result"
    }
   ],
   "source": [
    "Circle.model_fields"
   ]
  },
  {
   "cell_type": "code",
   "execution_count": 7,
   "id": "2b064297",
   "metadata": {},
   "outputs": [
    {
     "data": {
      "text/plain": [
       "Circle(center=(0, 0), radius=1)"
      ]
     },
     "execution_count": 7,
     "metadata": {},
     "output_type": "execute_result"
    }
   ],
   "source": [
    "Circle(radius=1)"
   ]
  },
  {
   "cell_type": "code",
   "execution_count": 8,
   "id": "77f00a1a",
   "metadata": {},
   "outputs": [
    {
     "data": {
      "text/plain": [
       "Circle(center=(0, 0), radius=1)"
      ]
     },
     "execution_count": 8,
     "metadata": {},
     "output_type": "execute_result"
    }
   ],
   "source": [
    "Circle(center=(0,0), radius=1)"
   ]
  },
  {
   "cell_type": "code",
   "execution_count": 10,
   "id": "a5b65b09",
   "metadata": {},
   "outputs": [],
   "source": [
    "data = {\"radius\": 1}\n",
    "data_json = '{\"radius\": 1}'"
   ]
  },
  {
   "cell_type": "code",
   "execution_count": 11,
   "id": "fd822300",
   "metadata": {},
   "outputs": [
    {
     "data": {
      "text/plain": [
       "Circle(center=(0, 0), radius=1)"
      ]
     },
     "execution_count": 11,
     "metadata": {},
     "output_type": "execute_result"
    }
   ],
   "source": [
    "Circle.model_validate(data)"
   ]
  },
  {
   "cell_type": "code",
   "execution_count": 12,
   "id": "0acf7a32",
   "metadata": {},
   "outputs": [
    {
     "data": {
      "text/plain": [
       "Circle(center=(0, 0), radius=1)"
      ]
     },
     "execution_count": 12,
     "metadata": {},
     "output_type": "execute_result"
    }
   ],
   "source": [
    "Circle.model_validate_json(data_json)"
   ]
  },
  {
   "cell_type": "code",
   "execution_count": 17,
   "id": "c0bdb3e5",
   "metadata": {},
   "outputs": [
    {
     "name": "stdout",
     "output_type": "stream",
     "text": [
      "1 validation error for Circle\n",
      "center\n",
      "  Input should be a valid tuple [type=tuple_type, input_value='100', input_type=str]\n",
      "    For further information visit https://errors.pydantic.dev/2.9/v/tuple_type\n"
     ]
    }
   ],
   "source": [
    "from pydantic import ValidationError\n",
    "try:\n",
    "    Circle(center=\"100\", radius=2)\n",
    "except ValidationError as ex:\n",
    "    print(ex)"
   ]
  },
  {
   "cell_type": "code",
   "execution_count": 28,
   "id": "3a9b0dcc",
   "metadata": {},
   "outputs": [],
   "source": [
    "from time import time\n",
    "\n",
    "def extend_list(user_list:list = []):\n",
    "    user_list = user_list.append(int(time()))\n",
    "    return user_list"
   ]
  },
  {
   "cell_type": "code",
   "execution_count": 38,
   "id": "9acca5e9",
   "metadata": {},
   "outputs": [
    {
     "data": {
      "text/plain": [
       "[1731201317]"
      ]
     },
     "execution_count": 38,
     "metadata": {},
     "output_type": "execute_result"
    }
   ],
   "source": [
    "my_time = []\n",
    "extend_list(my_time)\n",
    "my_time"
   ]
  },
  {
   "cell_type": "code",
   "execution_count": 39,
   "id": "6ac9d87b",
   "metadata": {},
   "outputs": [],
   "source": [
    "my_times = extend_list([])\n",
    "my_times"
   ]
  },
  {
   "cell_type": "code",
   "execution_count": 40,
   "id": "848cab2b",
   "metadata": {},
   "outputs": [],
   "source": [
    "new_time"
   ]
  },
  {
   "cell_type": "code",
   "execution_count": 41,
   "id": "1a13f2c4",
   "metadata": {},
   "outputs": [],
   "source": [
    "new_time"
   ]
  },
  {
   "cell_type": "code",
   "execution_count": null,
   "id": "b6b87054",
   "metadata": {},
   "outputs": [],
   "source": []
  }
 ],
 "metadata": {
  "kernelspec": {
   "display_name": "Python 3 (ipykernel)",
   "language": "python",
   "name": "python3"
  },
  "language_info": {
   "codemirror_mode": {
    "name": "ipython",
    "version": 3
   },
   "file_extension": ".py",
   "mimetype": "text/x-python",
   "name": "python",
   "nbconvert_exporter": "python",
   "pygments_lexer": "ipython3",
   "version": "3.10.12"
  }
 },
 "nbformat": 4,
 "nbformat_minor": 5
}
