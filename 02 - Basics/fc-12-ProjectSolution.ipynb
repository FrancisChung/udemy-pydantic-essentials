{
 "cells": [
  {
   "cell_type": "code",
   "execution_count": 15,
   "id": "e6478193",
   "metadata": {},
   "outputs": [],
   "source": [
    "from pydantic import BaseModel, ValidationError\n",
    "from datetime import date"
   ]
  },
  {
   "cell_type": "code",
   "execution_count": 19,
   "id": "ab6a7ecd",
   "metadata": {},
   "outputs": [],
   "source": [
    "class Automobile(BaseModel):\n",
    "    manufacturer: str\n",
    "    series_name: str\n",
    "    type_: str\n",
    "    is_electric: bool = False\n",
    "    manufactured_date: date\n",
    "    base_msrp_usd: float \n",
    "    vin: str\n",
    "    number_of_doors: int = 4\n",
    "    registration_country: str | None = None\n",
    "    license_plate: str | None = None\n",
    "    "
   ]
  },
  {
   "cell_type": "code",
   "execution_count": 20,
   "id": "a9060117",
   "metadata": {},
   "outputs": [],
   "source": [
    "data = {\n",
    "    \"manufacturer\": \"BMW\",\n",
    "    \"series_name\": \"M4\",\n",
    "    \"type_\": \"Convertible\",\n",
    "    \"is_electric\": False,\n",
    "    \"manufactured_date\": \"2023-01-01\",\n",
    "    \"base_msrp_usd\": 93_300,\n",
    "    \"vin\": \"1234567890\",\n",
    "    \"number_of_doors\": 2,\n",
    "    \"registration_country\": \"France\",\n",
    "    \"license_plate\": \"AAA-BBB\",\n",
    "}\n",
    "\n",
    "data_expected_serialization = {\n",
    "    'manufacturer': 'BMW',\n",
    "    'series_name': 'M4',\n",
    "    'type_': 'Convertible',\n",
    "    'is_electric': False,\n",
    "    'manufactured_date': date(2023,1,1),\n",
    "    'base_msrp_usd': 93_300,\n",
    "    'vin': '1234567890',\n",
    "    'number_of_doors': 2,\n",
    "    'registration_country': 'France',\n",
    "    'license_plate': 'AAA-BBB',\n",
    "}"
   ]
  },
  {
   "cell_type": "code",
   "execution_count": 21,
   "id": "b562dbc8",
   "metadata": {},
   "outputs": [],
   "source": [
    "car = Automobile.model_validate(data)"
   ]
  },
  {
   "cell_type": "code",
   "execution_count": 24,
   "id": "a995ed53",
   "metadata": {},
   "outputs": [
    {
     "data": {
      "text/plain": [
       "Automobile(manufacturer='BMW', series_name='M4', type_='Convertible', is_electric=False, manufactured_date=datetime.date(2023, 1, 1), base_msrp_usd=93300.0, vin='1234567890', number_of_doors=2, registration_country='France', license_plate='AAA-BBB')"
      ]
     },
     "execution_count": 24,
     "metadata": {},
     "output_type": "execute_result"
    }
   ],
   "source": [
    "Automobile(\n",
    "    manufacturer= 'BMW',\n",
    "    series_name= 'M4',\n",
    "    type_='Convertible',\n",
    "    is_electric= False,\n",
    "    manufactured_date= date(2023,1,1),\n",
    "    base_msrp_usd= 93_300,\n",
    "    vin= '1234567890',\n",
    "    number_of_doors= 2,\n",
    "    registration_country= 'France',\n",
    "    license_plate= 'AAA-BBB')"
   ]
  },
  {
   "cell_type": "code",
   "execution_count": 25,
   "id": "29e56913",
   "metadata": {},
   "outputs": [
    {
     "data": {
      "text/plain": [
       "{'manufacturer': 'BMW',\n",
       " 'series_name': 'M4',\n",
       " 'type_': 'Convertible',\n",
       " 'is_electric': False,\n",
       " 'manufactured_date': datetime.date(2023, 1, 1),\n",
       " 'base_msrp_usd': 93300.0,\n",
       " 'vin': '1234567890',\n",
       " 'number_of_doors': 2,\n",
       " 'registration_country': 'France',\n",
       " 'license_plate': 'AAA-BBB'}"
      ]
     },
     "execution_count": 25,
     "metadata": {},
     "output_type": "execute_result"
    }
   ],
   "source": [
    "car.model_dump()"
   ]
  },
  {
   "cell_type": "code",
   "execution_count": 26,
   "id": "1ba80ae2",
   "metadata": {},
   "outputs": [],
   "source": [
    "assert car.model_dump() == data_expected_serialization"
   ]
  },
  {
   "cell_type": "code",
   "execution_count": null,
   "id": "3ea224b2",
   "metadata": {},
   "outputs": [],
   "source": []
  }
 ],
 "metadata": {
  "kernelspec": {
   "display_name": "Python 3 (ipykernel)",
   "language": "python",
   "name": "python3"
  },
  "language_info": {
   "codemirror_mode": {
    "name": "ipython",
    "version": 3
   },
   "file_extension": ".py",
   "mimetype": "text/x-python",
   "name": "python",
   "nbconvert_exporter": "python",
   "pygments_lexer": "ipython3",
   "version": "3.10.12"
  }
 },
 "nbformat": 4,
 "nbformat_minor": 5
}
