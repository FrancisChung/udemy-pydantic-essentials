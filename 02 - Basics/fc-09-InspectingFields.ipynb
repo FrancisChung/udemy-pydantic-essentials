{
 "cells": [
  {
   "cell_type": "code",
   "execution_count": 1,
   "id": "3c248ab3",
   "metadata": {},
   "outputs": [],
   "source": [
    "from pydantic import BaseModel, ValidationError"
   ]
  },
  {
   "cell_type": "code",
   "execution_count": 2,
   "id": "6fef7fad",
   "metadata": {},
   "outputs": [],
   "source": [
    "class Circle(BaseModel):\n",
    "    center_x: int = 0\n",
    "    center_y: int = 0\n",
    "    radius: int = 1\n",
    "    name: str | None = None"
   ]
  },
  {
   "cell_type": "code",
   "execution_count": 4,
   "id": "1cd025c1",
   "metadata": {},
   "outputs": [
    {
     "data": {
      "text/plain": [
       "{'center_x': FieldInfo(annotation=int, required=False, default=0),\n",
       " 'center_y': FieldInfo(annotation=int, required=False, default=0),\n",
       " 'radius': FieldInfo(annotation=int, required=False, default=1),\n",
       " 'name': FieldInfo(annotation=Union[str, NoneType], required=False, default=None)}"
      ]
     },
     "execution_count": 4,
     "metadata": {},
     "output_type": "execute_result"
    }
   ],
   "source": [
    "Circle.model_fields"
   ]
  },
  {
   "cell_type": "code",
   "execution_count": 5,
   "id": "fb16926a",
   "metadata": {},
   "outputs": [],
   "source": [
    "c1 = Circle (radius = 2)"
   ]
  },
  {
   "cell_type": "code",
   "execution_count": 6,
   "id": "e7b9d729",
   "metadata": {},
   "outputs": [],
   "source": [
    "c2 = Circle(name = \"Unit Circle\")"
   ]
  },
  {
   "cell_type": "code",
   "execution_count": 7,
   "id": "d112b316",
   "metadata": {},
   "outputs": [
    {
     "data": {
      "text/plain": [
       "{'center_x': FieldInfo(annotation=int, required=False, default=0),\n",
       " 'center_y': FieldInfo(annotation=int, required=False, default=0),\n",
       " 'radius': FieldInfo(annotation=int, required=False, default=1),\n",
       " 'name': FieldInfo(annotation=Union[str, NoneType], required=False, default=None)}"
      ]
     },
     "execution_count": 7,
     "metadata": {},
     "output_type": "execute_result"
    }
   ],
   "source": [
    "c1.model_fields"
   ]
  },
  {
   "cell_type": "code",
   "execution_count": 8,
   "id": "4b67280c",
   "metadata": {},
   "outputs": [
    {
     "data": {
      "text/plain": [
       "{'center_x': FieldInfo(annotation=int, required=False, default=0),\n",
       " 'center_y': FieldInfo(annotation=int, required=False, default=0),\n",
       " 'radius': FieldInfo(annotation=int, required=False, default=1),\n",
       " 'name': FieldInfo(annotation=Union[str, NoneType], required=False, default=None)}"
      ]
     },
     "execution_count": 8,
     "metadata": {},
     "output_type": "execute_result"
    }
   ],
   "source": [
    "c2.model_fields"
   ]
  },
  {
   "cell_type": "code",
   "execution_count": 9,
   "id": "e650114c",
   "metadata": {},
   "outputs": [
    {
     "data": {
      "text/plain": [
       "Circle(center_x=0, center_y=0, radius=2, name=None)"
      ]
     },
     "execution_count": 9,
     "metadata": {},
     "output_type": "execute_result"
    }
   ],
   "source": [
    "c1"
   ]
  },
  {
   "cell_type": "code",
   "execution_count": 10,
   "id": "1d81554a",
   "metadata": {},
   "outputs": [
    {
     "data": {
      "text/plain": [
       "Circle(center_x=0, center_y=0, radius=1, name='Unit Circle')"
      ]
     },
     "execution_count": 10,
     "metadata": {},
     "output_type": "execute_result"
    }
   ],
   "source": [
    "c2"
   ]
  },
  {
   "cell_type": "code",
   "execution_count": 11,
   "id": "1a449f98",
   "metadata": {},
   "outputs": [
    {
     "data": {
      "text/plain": [
       "{'radius'}"
      ]
     },
     "execution_count": 11,
     "metadata": {},
     "output_type": "execute_result"
    }
   ],
   "source": [
    "c1.model_fields_set"
   ]
  },
  {
   "cell_type": "code",
   "execution_count": 12,
   "id": "d92e8e55",
   "metadata": {},
   "outputs": [
    {
     "data": {
      "text/plain": [
       "{'name'}"
      ]
     },
     "execution_count": 12,
     "metadata": {},
     "output_type": "execute_result"
    }
   ],
   "source": [
    "c2.model_fields_set"
   ]
  },
  {
   "cell_type": "code",
   "execution_count": 14,
   "id": "f8381fde",
   "metadata": {},
   "outputs": [
    {
     "data": {
      "text/plain": [
       "{'center_x', 'center_y', 'name'}"
      ]
     },
     "execution_count": 14,
     "metadata": {},
     "output_type": "execute_result"
    }
   ],
   "source": [
    "c1.model_fields.keys() - c1.model_fields_set"
   ]
  },
  {
   "cell_type": "code",
   "execution_count": 17,
   "id": "047bd942",
   "metadata": {},
   "outputs": [],
   "source": [
    "class Model(BaseModel):\n",
    "    field_1: int = 1\n",
    "    field_2: int | None = None\n",
    "    field_3: str\n",
    "    field_4: str | None = \"Python\""
   ]
  },
  {
   "cell_type": "code",
   "execution_count": 19,
   "id": "4330896a",
   "metadata": {},
   "outputs": [],
   "source": [
    "m1 = Model(field_3=\"m1\")"
   ]
  },
  {
   "cell_type": "code",
   "execution_count": 20,
   "id": "a4537d65",
   "metadata": {},
   "outputs": [
    {
     "data": {
      "text/plain": [
       "{'field_1': 1, 'field_2': None, 'field_3': 'm1', 'field_4': 'Python'}"
      ]
     },
     "execution_count": 20,
     "metadata": {},
     "output_type": "execute_result"
    }
   ],
   "source": [
    "m1.model_dump()"
   ]
  },
  {
   "cell_type": "code",
   "execution_count": 21,
   "id": "2a0cdbbe",
   "metadata": {},
   "outputs": [
    {
     "data": {
      "text/plain": [
       "{'field_1': FieldInfo(annotation=int, required=False, default=1),\n",
       " 'field_2': FieldInfo(annotation=Union[int, NoneType], required=False, default=None),\n",
       " 'field_3': FieldInfo(annotation=str, required=True),\n",
       " 'field_4': FieldInfo(annotation=Union[str, NoneType], required=False, default='Python')}"
      ]
     },
     "execution_count": 21,
     "metadata": {},
     "output_type": "execute_result"
    }
   ],
   "source": [
    "m1.model_fields"
   ]
  },
  {
   "cell_type": "code",
   "execution_count": 22,
   "id": "84b76993",
   "metadata": {},
   "outputs": [
    {
     "data": {
      "text/plain": [
       "{'field_3'}"
      ]
     },
     "execution_count": 22,
     "metadata": {},
     "output_type": "execute_result"
    }
   ],
   "source": [
    "m1.model_fields_set\n"
   ]
  },
  {
   "cell_type": "code",
   "execution_count": 23,
   "id": "365701d0",
   "metadata": {},
   "outputs": [
    {
     "data": {
      "text/plain": [
       "{'field_3': 'm1'}"
      ]
     },
     "execution_count": 23,
     "metadata": {},
     "output_type": "execute_result"
    }
   ],
   "source": [
    "m1.model_dump(include=m1.model_fields_set)"
   ]
  },
  {
   "cell_type": "code",
   "execution_count": null,
   "id": "442ace4e",
   "metadata": {},
   "outputs": [],
   "source": []
  }
 ],
 "metadata": {
  "kernelspec": {
   "display_name": "Python 3 (ipykernel)",
   "language": "python",
   "name": "python3"
  },
  "language_info": {
   "codemirror_mode": {
    "name": "ipython",
    "version": 3
   },
   "file_extension": ".py",
   "mimetype": "text/x-python",
   "name": "python",
   "nbconvert_exporter": "python",
   "pygments_lexer": "ipython3",
   "version": "3.10.12"
  }
 },
 "nbformat": 4,
 "nbformat_minor": 5
}
