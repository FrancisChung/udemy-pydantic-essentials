{
 "cells": [
  {
   "cell_type": "code",
   "id": "initial_id",
   "metadata": {
    "collapsed": true,
    "ExecuteTime": {
     "end_time": "2025-03-01T03:33:54.236977Z",
     "start_time": "2025-03-01T03:33:54.152933Z"
    }
   },
   "source": [
    "from pydantic import BaseModel, EmailStr, NameEmail, ValidationError\n",
    "class Model(BaseModel):\n",
    "    email: EmailStr"
   ],
   "outputs": [],
   "execution_count": 1
  },
  {
   "metadata": {
    "ExecuteTime": {
     "end_time": "2025-03-01T03:34:18.359927Z",
     "start_time": "2025-03-01T03:34:18.351152Z"
    }
   },
   "cell_type": "code",
   "source": [
    "m = Model(email=\"john.smith@some-domain.com\")\n",
    "m"
   ],
   "id": "d2d76b25c0824e7",
   "outputs": [
    {
     "data": {
      "text/plain": [
       "Model(email='john.smith@some-domain.com')"
      ]
     },
     "execution_count": 3,
     "metadata": {},
     "output_type": "execute_result"
    }
   ],
   "execution_count": 3
  },
  {
   "metadata": {
    "ExecuteTime": {
     "end_time": "2025-03-01T03:35:28.603404Z",
     "start_time": "2025-03-01T03:35:28.595398Z"
    }
   },
   "cell_type": "code",
   "source": [
    "class Model(BaseModel):\n",
    "    email: NameEmail"
   ],
   "id": "d898d101bc2ea71",
   "outputs": [],
   "execution_count": 4
  },
  {
   "metadata": {
    "ExecuteTime": {
     "end_time": "2025-03-01T03:35:55.760355Z",
     "start_time": "2025-03-01T03:35:55.757513Z"
    }
   },
   "cell_type": "code",
   "source": [
    "m = Model(name=\"John Smith\", email=\"john.smith@some-domain.com\")\n",
    "m"
   ],
   "id": "b9c10f6d087a42cc",
   "outputs": [
    {
     "data": {
      "text/plain": [
       "Model(email=NameEmail(name='john.smith', email='john.smith@some-domain.com'))"
      ]
     },
     "execution_count": 5,
     "metadata": {},
     "output_type": "execute_result"
    }
   ],
   "execution_count": 5
  },
  {
   "metadata": {
    "ExecuteTime": {
     "end_time": "2025-03-01T03:37:09.929381Z",
     "start_time": "2025-03-01T03:37:09.924012Z"
    }
   },
   "cell_type": "code",
   "source": [
    "m = Model(email=\"John Smith <john.smith@some-domain.com>\")\n",
    "m"
   ],
   "id": "1ff1f1b0148245cf",
   "outputs": [
    {
     "data": {
      "text/plain": [
       "Model(email=NameEmail(name='John Smith', email='john.smith@some-domain.com'))"
      ]
     },
     "execution_count": 8,
     "metadata": {},
     "output_type": "execute_result"
    }
   ],
   "execution_count": 8
  },
  {
   "metadata": {
    "ExecuteTime": {
     "end_time": "2025-03-01T03:37:34.862158Z",
     "start_time": "2025-03-01T03:37:34.857163Z"
    }
   },
   "cell_type": "code",
   "source": "type(m.email)",
   "id": "5a92098151895080",
   "outputs": [
    {
     "data": {
      "text/plain": [
       "pydantic.networks.NameEmail"
      ]
     },
     "execution_count": 9,
     "metadata": {},
     "output_type": "execute_result"
    }
   ],
   "execution_count": 9
  },
  {
   "metadata": {
    "ExecuteTime": {
     "end_time": "2025-03-01T03:38:06.608461Z",
     "start_time": "2025-03-01T03:38:06.603682Z"
    }
   },
   "cell_type": "code",
   "source": "m.email.email",
   "id": "9bf8324efe57fc52",
   "outputs": [
    {
     "data": {
      "text/plain": [
       "'john.smith@some-domain.com'"
      ]
     },
     "execution_count": 13,
     "metadata": {},
     "output_type": "execute_result"
    }
   ],
   "execution_count": 13
  },
  {
   "metadata": {
    "ExecuteTime": {
     "end_time": "2025-03-01T03:38:10.147825Z",
     "start_time": "2025-03-01T03:38:10.143118Z"
    }
   },
   "cell_type": "code",
   "source": "m.email.name",
   "id": "aa23a54d2b819364",
   "outputs": [
    {
     "data": {
      "text/plain": [
       "'John Smith'"
      ]
     },
     "execution_count": 14,
     "metadata": {},
     "output_type": "execute_result"
    }
   ],
   "execution_count": 14
  },
  {
   "metadata": {
    "ExecuteTime": {
     "end_time": "2025-03-01T03:40:54.890232Z",
     "start_time": "2025-03-01T03:40:54.883949Z"
    }
   },
   "cell_type": "code",
   "source": [
    "from pydantic import AnyUrl\n",
    "url = AnyUrl(\"https://www.google.com/search?q=pydantic\")\n",
    "url"
   ],
   "id": "1e13f3f1a46b397c",
   "outputs": [
    {
     "data": {
      "text/plain": [
       "Url('https://www.google.com/search?q=pydantic')"
      ]
     },
     "execution_count": 18,
     "metadata": {},
     "output_type": "execute_result"
    }
   ],
   "execution_count": 18
  },
  {
   "metadata": {
    "ExecuteTime": {
     "end_time": "2025-03-01T03:48:14.747759Z",
     "start_time": "2025-03-01T03:48:14.744682Z"
    }
   },
   "cell_type": "code",
   "source": "from pydantic import HttpUrl",
   "id": "5933702d94db1b47",
   "outputs": [],
   "execution_count": 22
  },
  {
   "metadata": {
    "ExecuteTime": {
     "end_time": "2025-03-01T03:48:15.229112Z",
     "start_time": "2025-03-01T03:48:15.224144Z"
    }
   },
   "cell_type": "code",
   "source": [
    "class ExternalAPI(BaseModel):\n",
    "    root_url: HttpUrl"
   ],
   "id": "9296055409c948d9",
   "outputs": [],
   "execution_count": 23
  },
  {
   "metadata": {
    "ExecuteTime": {
     "end_time": "2025-03-01T03:48:52.360323Z",
     "start_time": "2025-03-01T03:48:52.355848Z"
    }
   },
   "cell_type": "code",
   "source": "api = ExternalAPI(root_url=\"https://www.google.com/search?q=pydantic\")",
   "id": "2171f0eecc6dd4e7",
   "outputs": [],
   "execution_count": 25
  },
  {
   "metadata": {
    "ExecuteTime": {
     "end_time": "2025-03-01T03:48:57.949160Z",
     "start_time": "2025-03-01T03:48:57.943895Z"
    }
   },
   "cell_type": "code",
   "source": "api",
   "id": "373927010707452",
   "outputs": [
    {
     "data": {
      "text/plain": [
       "ExternalAPI(root_url=Url('https://www.google.com/search?q=pydantic'))"
      ]
     },
     "execution_count": 26,
     "metadata": {},
     "output_type": "execute_result"
    }
   ],
   "execution_count": 26
  },
  {
   "metadata": {},
   "cell_type": "code",
   "outputs": [],
   "execution_count": null,
   "source": "",
   "id": "2dd4ab5a74c8291e"
  }
 ],
 "metadata": {
  "kernelspec": {
   "display_name": "Python 3",
   "language": "python",
   "name": "python3"
  },
  "language_info": {
   "codemirror_mode": {
    "name": "ipython",
    "version": 2
   },
   "file_extension": ".py",
   "mimetype": "text/x-python",
   "name": "python",
   "nbconvert_exporter": "python",
   "pygments_lexer": "ipython2",
   "version": "2.7.6"
  }
 },
 "nbformat": 4,
 "nbformat_minor": 5
}
