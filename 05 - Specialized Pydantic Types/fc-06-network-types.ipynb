{
 "cells": [
  {
   "cell_type": "code",
   "id": "initial_id",
   "metadata": {
    "collapsed": true,
    "ExecuteTime": {
     "end_time": "2025-03-01T03:33:54.236977Z",
     "start_time": "2025-03-01T03:33:54.152933Z"
    }
   },
   "source": [
    "from pydantic import BaseModel, EmailStr, NameEmail, ValidationError\n",
    "class Model(BaseModel):\n",
    "    email: EmailStr"
   ],
   "outputs": [],
   "execution_count": 1
  },
  {
   "metadata": {
    "ExecuteTime": {
     "end_time": "2025-03-01T03:34:18.359927Z",
     "start_time": "2025-03-01T03:34:18.351152Z"
    }
   },
   "cell_type": "code",
   "source": [
    "m = Model(email=\"john.smith@some-domain.com\")\n",
    "m"
   ],
   "id": "d2d76b25c0824e7",
   "outputs": [
    {
     "data": {
      "text/plain": [
       "Model(email='john.smith@some-domain.com')"
      ]
     },
     "execution_count": 3,
     "metadata": {},
     "output_type": "execute_result"
    }
   ],
   "execution_count": 3
  },
  {
   "metadata": {
    "ExecuteTime": {
     "end_time": "2025-03-01T03:35:28.603404Z",
     "start_time": "2025-03-01T03:35:28.595398Z"
    }
   },
   "cell_type": "code",
   "source": [
    "class Model(BaseModel):\n",
    "    email: NameEmail"
   ],
   "id": "d898d101bc2ea71",
   "outputs": [],
   "execution_count": 4
  },
  {
   "metadata": {
    "ExecuteTime": {
     "end_time": "2025-03-01T03:35:55.760355Z",
     "start_time": "2025-03-01T03:35:55.757513Z"
    }
   },
   "cell_type": "code",
   "source": [
    "m = Model(name=\"John Smith\", email=\"john.smith@some-domain.com\")\n",
    "m"
   ],
   "id": "b9c10f6d087a42cc",
   "outputs": [
    {
     "data": {
      "text/plain": [
       "Model(email=NameEmail(name='john.smith', email='john.smith@some-domain.com'))"
      ]
     },
     "execution_count": 5,
     "metadata": {},
     "output_type": "execute_result"
    }
   ],
   "execution_count": 5
  },
  {
   "metadata": {
    "ExecuteTime": {
     "end_time": "2025-03-01T03:37:09.929381Z",
     "start_time": "2025-03-01T03:37:09.924012Z"
    }
   },
   "cell_type": "code",
   "source": [
    "m = Model(email=\"John Smith <john.smith@some-domain.com>\")\n",
    "m"
   ],
   "id": "1ff1f1b0148245cf",
   "outputs": [
    {
     "data": {
      "text/plain": [
       "Model(email=NameEmail(name='John Smith', email='john.smith@some-domain.com'))"
      ]
     },
     "execution_count": 8,
     "metadata": {},
     "output_type": "execute_result"
    }
   ],
   "execution_count": 8
  },
  {
   "metadata": {
    "ExecuteTime": {
     "end_time": "2025-03-01T03:37:34.862158Z",
     "start_time": "2025-03-01T03:37:34.857163Z"
    }
   },
   "cell_type": "code",
   "source": "type(m.email)",
   "id": "5a92098151895080",
   "outputs": [
    {
     "data": {
      "text/plain": [
       "pydantic.networks.NameEmail"
      ]
     },
     "execution_count": 9,
     "metadata": {},
     "output_type": "execute_result"
    }
   ],
   "execution_count": 9
  },
  {
   "metadata": {
    "ExecuteTime": {
     "end_time": "2025-03-01T03:38:06.608461Z",
     "start_time": "2025-03-01T03:38:06.603682Z"
    }
   },
   "cell_type": "code",
   "source": "m.email.email",
   "id": "9bf8324efe57fc52",
   "outputs": [
    {
     "data": {
      "text/plain": [
       "'john.smith@some-domain.com'"
      ]
     },
     "execution_count": 13,
     "metadata": {},
     "output_type": "execute_result"
    }
   ],
   "execution_count": 13
  },
  {
   "metadata": {
    "ExecuteTime": {
     "end_time": "2025-03-01T03:38:10.147825Z",
     "start_time": "2025-03-01T03:38:10.143118Z"
    }
   },
   "cell_type": "code",
   "source": "m.email.name",
   "id": "aa23a54d2b819364",
   "outputs": [
    {
     "data": {
      "text/plain": [
       "'John Smith'"
      ]
     },
     "execution_count": 14,
     "metadata": {},
     "output_type": "execute_result"
    }
   ],
   "execution_count": 14
  },
  {
   "metadata": {},
   "cell_type": "code",
   "outputs": [],
   "execution_count": null,
   "source": "",
   "id": "1e13f3f1a46b397c"
  }
 ],
 "metadata": {
  "kernelspec": {
   "display_name": "Python 3",
   "language": "python",
   "name": "python3"
  },
  "language_info": {
   "codemirror_mode": {
    "name": "ipython",
    "version": 2
   },
   "file_extension": ".py",
   "mimetype": "text/x-python",
   "name": "python",
   "nbconvert_exporter": "python",
   "pygments_lexer": "ipython2",
   "version": "2.7.6"
  }
 },
 "nbformat": 4,
 "nbformat_minor": 5
}
