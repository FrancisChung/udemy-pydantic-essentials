{
 "cells": [
  {
   "cell_type": "code",
   "id": "initial_id",
   "metadata": {
    "collapsed": true,
    "ExecuteTime": {
     "end_time": "2025-02-15T00:46:50.982559Z",
     "start_time": "2025-02-15T00:46:50.923703Z"
    }
   },
   "source": "from pydantic import BaseModel, PositiveInt, ValidationError",
   "outputs": [],
   "execution_count": 1
  },
  {
   "metadata": {
    "ExecuteTime": {
     "end_time": "2025-02-15T00:47:29.550060Z",
     "start_time": "2025-02-15T00:47:29.518595Z"
    }
   },
   "cell_type": "code",
   "source": [
    "class Circle(BaseModel):\n",
    "    center: tuple[int, int] = (0, 0)\n",
    "    radius: PositiveInt = 1"
   ],
   "id": "21e11820157a80f6",
   "outputs": [],
   "execution_count": 2
  },
  {
   "metadata": {
    "ExecuteTime": {
     "end_time": "2025-02-15T00:47:35.169473Z",
     "start_time": "2025-02-15T00:47:35.164549Z"
    }
   },
   "cell_type": "code",
   "source": "Circle()",
   "id": "947c0d35115556f",
   "outputs": [
    {
     "data": {
      "text/plain": [
       "Circle(center=(0, 0), radius=1)"
      ]
     },
     "execution_count": 3,
     "metadata": {},
     "output_type": "execute_result"
    }
   ],
   "execution_count": 3
  },
  {
   "metadata": {
    "ExecuteTime": {
     "end_time": "2025-02-15T00:47:55.292730Z",
     "start_time": "2025-02-15T00:47:55.288689Z"
    }
   },
   "cell_type": "code",
   "source": "Circle(center=(0,0), radius=1)",
   "id": "5317f5c78176f0b",
   "outputs": [
    {
     "data": {
      "text/plain": [
       "Circle(center=(0, 0), radius=1)"
      ]
     },
     "execution_count": 4,
     "metadata": {},
     "output_type": "execute_result"
    }
   ],
   "execution_count": 4
  },
  {
   "metadata": {
    "ExecuteTime": {
     "end_time": "2025-02-15T00:48:10.867251Z",
     "start_time": "2025-02-15T00:48:10.862607Z"
    }
   },
   "cell_type": "code",
   "source": "Circle(radius=2)",
   "id": "97c9017ce92cf669",
   "outputs": [
    {
     "data": {
      "text/plain": [
       "Circle(center=(0, 0), radius=2)"
      ]
     },
     "execution_count": 5,
     "metadata": {},
     "output_type": "execute_result"
    }
   ],
   "execution_count": 5
  },
  {
   "metadata": {
    "ExecuteTime": {
     "end_time": "2025-02-15T00:49:38.326070Z",
     "start_time": "2025-02-15T00:49:38.320138Z"
    }
   },
   "cell_type": "code",
   "source": "Circle(center=(1,1), radius=3)",
   "id": "34c9d862b0057823",
   "outputs": [
    {
     "data": {
      "text/plain": [
       "Circle(center=(1, 1), radius=3)"
      ]
     },
     "execution_count": 6,
     "metadata": {},
     "output_type": "execute_result"
    }
   ],
   "execution_count": 6
  },
  {
   "metadata": {
    "ExecuteTime": {
     "end_time": "2025-02-15T00:51:15.161474Z",
     "start_time": "2025-02-15T00:51:15.157355Z"
    }
   },
   "cell_type": "code",
   "source": [
    " try:\n",
    "     Circle(center=(0.5, 0.5), radius=0)\n",
    " except ValidationError as ex:\n",
    "     print(ex)"
   ],
   "id": "11d455ba78966c3",
   "outputs": [
    {
     "name": "stdout",
     "output_type": "stream",
     "text": [
      "3 validation errors for Circle\n",
      "center.0\n",
      "  Input should be a valid integer, got a number with a fractional part [type=int_from_float, input_value=0.5, input_type=float]\n",
      "    For further information visit https://errors.pydantic.dev/2.9/v/int_from_float\n",
      "center.1\n",
      "  Input should be a valid integer, got a number with a fractional part [type=int_from_float, input_value=0.5, input_type=float]\n",
      "    For further information visit https://errors.pydantic.dev/2.9/v/int_from_float\n",
      "radius\n",
      "  Input should be greater than 0 [type=greater_than, input_value=0, input_type=int]\n",
      "    For further information visit https://errors.pydantic.dev/2.9/v/greater_than\n"
     ]
    }
   ],
   "execution_count": 8
  },
  {
   "metadata": {
    "ExecuteTime": {
     "end_time": "2025-02-15T00:52:25.464219Z",
     "start_time": "2025-02-15T00:52:25.459960Z"
    }
   },
   "cell_type": "code",
   "source": "Circle.model_fields",
   "id": "7de8a2a2237d82a5",
   "outputs": [
    {
     "data": {
      "text/plain": [
       "{'center': FieldInfo(annotation=tuple[int, int], required=False, default=(0, 0)),\n",
       " 'radius': FieldInfo(annotation=int, required=False, default=1, metadata=[Gt(gt=0)])}"
      ]
     },
     "execution_count": 9,
     "metadata": {},
     "output_type": "execute_result"
    }
   ],
   "execution_count": 9
  },
  {
   "metadata": {},
   "cell_type": "code",
   "outputs": [],
   "execution_count": null,
   "source": "",
   "id": "578f5c3acea1ced4"
  }
 ],
 "metadata": {
  "kernelspec": {
   "display_name": "Python 3",
   "language": "python",
   "name": "python3"
  },
  "language_info": {
   "codemirror_mode": {
    "name": "ipython",
    "version": 2
   },
   "file_extension": ".py",
   "mimetype": "text/x-python",
   "name": "python",
   "nbconvert_exporter": "python",
   "pygments_lexer": "ipython2",
   "version": "2.7.6"
  }
 },
 "nbformat": 4,
 "nbformat_minor": 5
}
