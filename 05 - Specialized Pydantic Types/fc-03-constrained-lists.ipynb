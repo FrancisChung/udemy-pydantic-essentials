{
 "cells": [
  {
   "cell_type": "code",
   "id": "initial_id",
   "metadata": {
    "collapsed": true,
    "ExecuteTime": {
     "end_time": "2025-02-15T00:56:50.411774Z",
     "start_time": "2025-02-15T00:56:50.365612Z"
    }
   },
   "source": "from pydantic import BaseModel, PositiveInt, ValidationError",
   "outputs": [],
   "execution_count": 1
  },
  {
   "metadata": {
    "ExecuteTime": {
     "end_time": "2025-02-15T00:57:03.660627Z",
     "start_time": "2025-02-15T00:57:03.608872Z"
    }
   },
   "cell_type": "code",
   "source": [
    "class Circle(BaseModel):\n",
    "    center: tuple[int, int] = (0, 0)\n",
    "    radius: PositiveInt = 1"
   ],
   "id": "434285567087eca1",
   "outputs": [],
   "execution_count": 2
  },
  {
   "metadata": {
    "ExecuteTime": {
     "end_time": "2025-02-15T00:57:57.548704Z",
     "start_time": "2025-02-15T00:57:57.543018Z"
    }
   },
   "cell_type": "code",
   "source": [
    "class Sphere(BaseModel):\n",
    "    center: tuple[int, int] | tuple[int, int, int] = (0, 0)\n",
    "    radius: PositiveInt = 1"
   ],
   "id": "936e2f56f8786cab",
   "outputs": [],
   "execution_count": 4
  },
  {
   "metadata": {
    "ExecuteTime": {
     "end_time": "2025-02-15T00:58:18.873374Z",
     "start_time": "2025-02-15T00:58:18.864164Z"
    }
   },
   "cell_type": "code",
   "source": "Sphere(center=(1,1), radius=10)",
   "id": "5b9011a87e3619e0",
   "outputs": [
    {
     "data": {
      "text/plain": [
       "Sphere(center=(1, 1), radius=10)"
      ]
     },
     "execution_count": 5,
     "metadata": {},
     "output_type": "execute_result"
    }
   ],
   "execution_count": 5
  },
  {
   "metadata": {
    "ExecuteTime": {
     "end_time": "2025-02-15T00:58:29.749121Z",
     "start_time": "2025-02-15T00:58:29.743989Z"
    }
   },
   "cell_type": "code",
   "source": "Sphere(center=(1,1,1), radius=10)",
   "id": "21c370b2de8f52d5",
   "outputs": [
    {
     "data": {
      "text/plain": [
       "Sphere(center=(1, 1, 1), radius=10)"
      ]
     },
     "execution_count": 6,
     "metadata": {},
     "output_type": "execute_result"
    }
   ],
   "execution_count": 6
  },
  {
   "metadata": {
    "ExecuteTime": {
     "end_time": "2025-02-15T00:59:57.132819Z",
     "start_time": "2025-02-15T00:59:57.127619Z"
    }
   },
   "cell_type": "code",
   "source": [
    " try:\n",
    "     Sphere(center=(1, 2, 3, 4))\n",
    " except ValidationError as ex:\n",
    "     print(ex)"
   ],
   "id": "235a9f451fd4e507",
   "outputs": [
    {
     "name": "stdout",
     "output_type": "stream",
     "text": [
      "2 validation errors for Sphere\n",
      "center.tuple[int, int]\n",
      "  Tuple should have at most 2 items after validation, not 4 [type=too_long, input_value=(1, 2, 3, 4), input_type=tuple]\n",
      "    For further information visit https://errors.pydantic.dev/2.9/v/too_long\n",
      "center.tuple[int, int, int]\n",
      "  Tuple should have at most 3 items after validation, not 4 [type=too_long, input_value=(1, 2, 3, 4), input_type=tuple]\n",
      "    For further information visit https://errors.pydantic.dev/2.9/v/too_long\n"
     ]
    }
   ],
   "execution_count": 8
  },
  {
   "metadata": {
    "ExecuteTime": {
     "end_time": "2025-02-15T03:21:19.233903Z",
     "start_time": "2025-02-15T03:21:19.230488Z"
    }
   },
   "cell_type": "code",
   "source": [
    "from pydantic import conlist\n",
    "\n",
    "class Sphere(BaseModel):\n",
    "    center: conlist(int, min_length=2, max_length=3)\n",
    "    radius: PositiveInt = 1"
   ],
   "id": "4d0ff050935e4d92",
   "outputs": [],
   "execution_count": 9
  },
  {
   "metadata": {
    "ExecuteTime": {
     "end_time": "2025-02-15T03:21:33.338075Z",
     "start_time": "2025-02-15T03:21:33.332351Z"
    }
   },
   "cell_type": "code",
   "source": "Sphere(center=(1,2))",
   "id": "bd2d9973b1d6206e",
   "outputs": [
    {
     "data": {
      "text/plain": [
       "Sphere(center=[1, 2], radius=1)"
      ]
     },
     "execution_count": 11,
     "metadata": {},
     "output_type": "execute_result"
    }
   ],
   "execution_count": 11
  },
  {
   "metadata": {
    "ExecuteTime": {
     "end_time": "2025-02-15T03:21:52.105289Z",
     "start_time": "2025-02-15T03:21:52.101638Z"
    }
   },
   "cell_type": "code",
   "source": "Sphere(center=(1,2,3))",
   "id": "1f0310156d78c25a",
   "outputs": [
    {
     "data": {
      "text/plain": [
       "Sphere(center=[1, 2, 3], radius=1)"
      ]
     },
     "execution_count": 13,
     "metadata": {},
     "output_type": "execute_result"
    }
   ],
   "execution_count": 13
  },
  {
   "metadata": {
    "ExecuteTime": {
     "end_time": "2025-02-15T03:22:06.233635Z",
     "start_time": "2025-02-15T03:22:06.230212Z"
    }
   },
   "cell_type": "code",
   "source": [
    " try:\n",
    "     Sphere(center=(1, 2, 3, 4))\n",
    " except ValidationError as ex:\n",
    "     print(ex)"
   ],
   "id": "60d6976179f38a2e",
   "outputs": [
    {
     "name": "stdout",
     "output_type": "stream",
     "text": [
      "1 validation error for Sphere\n",
      "center\n",
      "  List should have at most 3 items after validation, not 4 [type=too_long, input_value=(1, 2, 3, 4), input_type=tuple]\n",
      "    For further information visit https://errors.pydantic.dev/2.9/v/too_long\n"
     ]
    }
   ],
   "execution_count": 14
  },
  {
   "metadata": {},
   "cell_type": "code",
   "outputs": [],
   "execution_count": null,
   "source": "",
   "id": "63a8568622cf6094"
  }
 ],
 "metadata": {
  "kernelspec": {
   "display_name": "Python 3",
   "language": "python",
   "name": "python3"
  },
  "language_info": {
   "codemirror_mode": {
    "name": "ipython",
    "version": 2
   },
   "file_extension": ".py",
   "mimetype": "text/x-python",
   "name": "python",
   "nbconvert_exporter": "python",
   "pygments_lexer": "ipython2",
   "version": "2.7.6"
  }
 },
 "nbformat": 4,
 "nbformat_minor": 5
}
