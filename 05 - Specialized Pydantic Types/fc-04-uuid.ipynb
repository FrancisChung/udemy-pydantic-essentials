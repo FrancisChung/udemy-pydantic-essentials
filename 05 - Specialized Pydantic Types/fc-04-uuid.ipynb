{
 "cells": [
  {
   "cell_type": "code",
   "id": "initial_id",
   "metadata": {
    "collapsed": true,
    "ExecuteTime": {
     "end_time": "2025-02-15T03:27:18.789979Z",
     "start_time": "2025-02-15T03:27:18.785591Z"
    }
   },
   "source": [
    "from uuid import uuid4\n",
    "\n",
    "from jupyter_server.auth.security import persist_config"
   ],
   "outputs": [],
   "execution_count": 1
  },
  {
   "metadata": {
    "ExecuteTime": {
     "end_time": "2025-02-15T03:27:28.055945Z",
     "start_time": "2025-02-15T03:27:28.049353Z"
    }
   },
   "cell_type": "code",
   "source": "uuid4()",
   "id": "e0d1ea921757a30a",
   "outputs": [
    {
     "data": {
      "text/plain": [
       "UUID('f203346e-cb03-4d4b-a98c-02ac5a527fce')"
      ]
     },
     "execution_count": 2,
     "metadata": {},
     "output_type": "execute_result"
    }
   ],
   "execution_count": 2
  },
  {
   "metadata": {
    "ExecuteTime": {
     "end_time": "2025-02-15T03:27:55.847889Z",
     "start_time": "2025-02-15T03:27:55.796076Z"
    }
   },
   "cell_type": "code",
   "source": "from pydantic import BaseModel, Field, UUID4, ValidationError",
   "id": "f3b534b1b05fb8ef",
   "outputs": [],
   "execution_count": 3
  },
  {
   "metadata": {
    "ExecuteTime": {
     "end_time": "2025-02-15T03:28:14.382279Z",
     "start_time": "2025-02-15T03:28:14.353436Z"
    }
   },
   "cell_type": "code",
   "source": [
    "class Person(BaseModel):\n",
    "    id: UUID4"
   ],
   "id": "85df3dfc166f07bc",
   "outputs": [],
   "execution_count": 4
  },
  {
   "metadata": {
    "ExecuteTime": {
     "end_time": "2025-02-15T03:28:23.442172Z",
     "start_time": "2025-02-15T03:28:23.439427Z"
    }
   },
   "cell_type": "code",
   "source": "p = Person(id=uuid4())",
   "id": "ca17228995597ca3",
   "outputs": [],
   "execution_count": 5
  },
  {
   "metadata": {
    "ExecuteTime": {
     "end_time": "2025-02-15T03:28:32.489864Z",
     "start_time": "2025-02-15T03:28:32.485166Z"
    }
   },
   "cell_type": "code",
   "source": "p",
   "id": "9a367da63abd8b7f",
   "outputs": [
    {
     "data": {
      "text/plain": [
       "Person(id=UUID('39f4ea6d-62e3-4317-a1ca-c67141ef935d'))"
      ]
     },
     "execution_count": 6,
     "metadata": {},
     "output_type": "execute_result"
    }
   ],
   "execution_count": 6
  },
  {
   "metadata": {
    "ExecuteTime": {
     "end_time": "2025-02-15T03:29:05.834298Z",
     "start_time": "2025-02-15T03:29:05.825773Z"
    }
   },
   "cell_type": "code",
   "source": "p.model_dump()",
   "id": "6a0da75d811e0d12",
   "outputs": [
    {
     "data": {
      "text/plain": [
       "{'id': UUID('39f4ea6d-62e3-4317-a1ca-c67141ef935d')}"
      ]
     },
     "execution_count": 8,
     "metadata": {},
     "output_type": "execute_result"
    }
   ],
   "execution_count": 8
  },
  {
   "metadata": {
    "ExecuteTime": {
     "end_time": "2025-02-15T03:29:45.309639Z",
     "start_time": "2025-02-15T03:29:45.303173Z"
    }
   },
   "cell_type": "code",
   "source": "p.model_dump_json()",
   "id": "3fb9e13f15516913",
   "outputs": [
    {
     "data": {
      "text/plain": [
       "'{\"id\":\"39f4ea6d-62e3-4317-a1ca-c67141ef935d\"}'"
      ]
     },
     "execution_count": 9,
     "metadata": {},
     "output_type": "execute_result"
    }
   ],
   "execution_count": 9
  },
  {
   "metadata": {
    "ExecuteTime": {
     "end_time": "2025-02-15T03:33:57.121332Z",
     "start_time": "2025-02-15T03:33:57.117150Z"
    }
   },
   "cell_type": "code",
   "source": [
    "class Person(BaseModel):\n",
    "    id : UUID4 = uuid4()"
   ],
   "id": "4940fcd424cf67bf",
   "outputs": [],
   "execution_count": 10
  },
  {
   "metadata": {
    "ExecuteTime": {
     "end_time": "2025-02-15T03:59:23.741001Z",
     "start_time": "2025-02-15T03:59:23.734230Z"
    }
   },
   "cell_type": "code",
   "source": [
    "q = Person\n",
    "q"
   ],
   "id": "29eadd69bcf6fd2c",
   "outputs": [
    {
     "data": {
      "text/plain": [
       "__main__.Person"
      ]
     },
     "execution_count": 18,
     "metadata": {},
     "output_type": "execute_result"
    }
   ],
   "execution_count": 18
  },
  {
   "metadata": {
    "ExecuteTime": {
     "end_time": "2025-02-15T04:01:03.166354Z",
     "start_time": "2025-02-15T04:01:03.163405Z"
    }
   },
   "cell_type": "code",
   "source": [
    "class Person(BaseModel):\n",
    "    id_ : UUID4 = Field(alias=\"id\", default=uuid4())"
   ],
   "id": "73aee1d27261642c",
   "outputs": [],
   "execution_count": 20
  },
  {
   "metadata": {
    "ExecuteTime": {
     "end_time": "2025-02-15T04:01:21.945026Z",
     "start_time": "2025-02-15T04:01:21.938654Z"
    }
   },
   "cell_type": "code",
   "source": [
    "p1 = Person()\n",
    "p1"
   ],
   "id": "3e63b0279b25e85a",
   "outputs": [
    {
     "data": {
      "text/plain": [
       "Person(id_=UUID('4ded3dd1-9050-4c66-b33c-422514cdfe23'))"
      ]
     },
     "execution_count": 21,
     "metadata": {},
     "output_type": "execute_result"
    }
   ],
   "execution_count": 21
  },
  {
   "metadata": {
    "ExecuteTime": {
     "end_time": "2025-02-15T04:01:27.820494Z",
     "start_time": "2025-02-15T04:01:27.817289Z"
    }
   },
   "cell_type": "code",
   "source": [
    "p2 = Person()\n",
    "p2"
   ],
   "id": "bfadddb90eaeee6",
   "outputs": [
    {
     "data": {
      "text/plain": [
       "Person(id_=UUID('4ded3dd1-9050-4c66-b33c-422514cdfe23'))"
      ]
     },
     "execution_count": 22,
     "metadata": {},
     "output_type": "execute_result"
    }
   ],
   "execution_count": 22
  },
  {
   "metadata": {
    "ExecuteTime": {
     "end_time": "2025-02-15T04:01:59.105769Z",
     "start_time": "2025-02-15T04:01:59.102728Z"
    }
   },
   "cell_type": "code",
   "source": "# Need to use the defaultFactory",
   "id": "18f6849b4a10350",
   "outputs": [],
   "execution_count": 25
  },
  {
   "metadata": {
    "ExecuteTime": {
     "end_time": "2025-02-15T04:02:22.787172Z",
     "start_time": "2025-02-15T04:02:22.781684Z"
    }
   },
   "cell_type": "code",
   "source": [
    "class Person(BaseModel):\n",
    "    id_ : UUID4 = Field(alias=\"id\", default_factory=uuid4)"
   ],
   "id": "9d5e31f9083e4180",
   "outputs": [],
   "execution_count": 27
  },
  {
   "metadata": {
    "ExecuteTime": {
     "end_time": "2025-02-15T04:02:27.333370Z",
     "start_time": "2025-02-15T04:02:27.329327Z"
    }
   },
   "cell_type": "code",
   "source": [
    "p1 = Person()\n",
    "p1"
   ],
   "id": "1392c0117ca7d1cc",
   "outputs": [
    {
     "data": {
      "text/plain": [
       "Person(id_=UUID('5c449153-f9e0-4072-9a8a-e7b30ace5a14'))"
      ]
     },
     "execution_count": 28,
     "metadata": {},
     "output_type": "execute_result"
    }
   ],
   "execution_count": 28
  },
  {
   "metadata": {
    "ExecuteTime": {
     "end_time": "2025-02-15T04:02:30.871720Z",
     "start_time": "2025-02-15T04:02:30.867601Z"
    }
   },
   "cell_type": "code",
   "source": [
    "p2 = Person()\n",
    "p2"
   ],
   "id": "b333451fe63ef441",
   "outputs": [
    {
     "data": {
      "text/plain": [
       "Person(id_=UUID('04ecd07e-21c9-4e90-9920-7b3d2425c075'))"
      ]
     },
     "execution_count": 29,
     "metadata": {},
     "output_type": "execute_result"
    }
   ],
   "execution_count": 29
  },
  {
   "metadata": {},
   "cell_type": "code",
   "outputs": [],
   "execution_count": null,
   "source": "",
   "id": "1bd03334a38cbd1a"
  }
 ],
 "metadata": {
  "kernelspec": {
   "display_name": "Python 3",
   "language": "python",
   "name": "python3"
  },
  "language_info": {
   "codemirror_mode": {
    "name": "ipython",
    "version": 2
   },
   "file_extension": ".py",
   "mimetype": "text/x-python",
   "name": "python",
   "nbconvert_exporter": "python",
   "pygments_lexer": "ipython2",
   "version": "2.7.6"
  }
 },
 "nbformat": 4,
 "nbformat_minor": 5
}
