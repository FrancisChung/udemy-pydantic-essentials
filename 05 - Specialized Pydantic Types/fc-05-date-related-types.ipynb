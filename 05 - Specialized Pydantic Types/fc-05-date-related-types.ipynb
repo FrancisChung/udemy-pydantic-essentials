{
 "cells": [
  {
   "cell_type": "code",
   "id": "initial_id",
   "metadata": {
    "collapsed": true,
    "ExecuteTime": {
     "end_time": "2025-02-15T04:03:56.179865Z",
     "start_time": "2025-02-15T04:03:56.176936Z"
    }
   },
   "source": "# Date Related Types",
   "outputs": [],
   "execution_count": 1
  },
  {
   "metadata": {
    "ExecuteTime": {
     "end_time": "2025-02-15T04:35:50.062046Z",
     "start_time": "2025-02-15T04:35:50.057499Z"
    }
   },
   "cell_type": "code",
   "source": [
    "from pydantic import (\n",
    "    BaseModel, ConfigDict, PastDate, AwareDatetime, PastDatetime, NaiveDatetime,  ValidationError\n",
    ")"
   ],
   "id": "77fb107aaeb13fb3",
   "outputs": [],
   "execution_count": 15
  },
  {
   "metadata": {
    "ExecuteTime": {
     "end_time": "2025-02-15T04:35:51.114659Z",
     "start_time": "2025-02-15T04:35:51.110425Z"
    }
   },
   "cell_type": "code",
   "source": [
    "class Model(BaseModel):\n",
    "    dt: PastDatetime"
   ],
   "id": "a9d295645ad73d5c",
   "outputs": [],
   "execution_count": 16
  },
  {
   "metadata": {
    "ExecuteTime": {
     "end_time": "2025-02-15T04:35:52.035003Z",
     "start_time": "2025-02-15T04:35:52.030595Z"
    }
   },
   "cell_type": "code",
   "source": "from datetime import datetime",
   "id": "27d082a3f307f8e5",
   "outputs": [],
   "execution_count": 17
  },
  {
   "metadata": {
    "ExecuteTime": {
     "end_time": "2025-02-15T04:35:52.651238Z",
     "start_time": "2025-02-15T04:35:52.645894Z"
    }
   },
   "cell_type": "code",
   "source": "datetime.now()",
   "id": "b86c00572ad78ff3",
   "outputs": [
    {
     "data": {
      "text/plain": [
       "datetime.datetime(2025, 2, 15, 15, 35, 52, 647125)"
      ]
     },
     "execution_count": 18,
     "metadata": {},
     "output_type": "execute_result"
    }
   ],
   "execution_count": 18
  },
  {
   "metadata": {
    "ExecuteTime": {
     "end_time": "2025-02-15T04:35:59.614482Z",
     "start_time": "2025-02-15T04:35:59.609097Z"
    }
   },
   "cell_type": "code",
   "source": [
    "class Model(BaseModel):\n",
    "    dt: NaiveDatetime"
   ],
   "id": "79c190236a103752",
   "outputs": [],
   "execution_count": 19
  },
  {
   "metadata": {
    "ExecuteTime": {
     "end_time": "2025-02-15T04:36:03.498164Z",
     "start_time": "2025-02-15T04:36:03.494409Z"
    }
   },
   "cell_type": "code",
   "source": "import pytz",
   "id": "7c8a8e880ed640d6",
   "outputs": [],
   "execution_count": 20
  },
  {
   "metadata": {
    "ExecuteTime": {
     "end_time": "2025-02-15T04:38:00.983981Z",
     "start_time": "2025-02-15T04:38:00.977097Z"
    }
   },
   "cell_type": "code",
   "source": [
    "from datetime import timedelta\n",
    "\n",
    "local_1_hour_ago = datetime.now() - timedelta(hours=1)\n",
    "local_1_hour_ago"
   ],
   "id": "841597f365e8cb88",
   "outputs": [
    {
     "data": {
      "text/plain": [
       "datetime.datetime(2025, 2, 15, 14, 38, 0, 978998)"
      ]
     },
     "execution_count": 22,
     "metadata": {},
     "output_type": "execute_result"
    }
   ],
   "execution_count": 22
  },
  {
   "metadata": {
    "ExecuteTime": {
     "end_time": "2025-02-15T04:38:39.667003Z",
     "start_time": "2025-02-15T04:38:39.661224Z"
    }
   },
   "cell_type": "code",
   "source": [
    "utc_1_hour_ago = local_1_hour_ago.astimezone(pytz.utc)\n",
    "utc_1_hour_ago"
   ],
   "id": "e4be265c330d9c49",
   "outputs": [
    {
     "data": {
      "text/plain": [
       "datetime.datetime(2025, 2, 15, 3, 38, 0, 978998, tzinfo=<UTC>)"
      ]
     },
     "execution_count": 23,
     "metadata": {},
     "output_type": "execute_result"
    }
   ],
   "execution_count": 23
  },
  {
   "metadata": {},
   "cell_type": "code",
   "outputs": [],
   "execution_count": null,
   "source": "Model()",
   "id": "4a2d3af57d19e613"
  }
 ],
 "metadata": {
  "kernelspec": {
   "display_name": "Python 3",
   "language": "python",
   "name": "python3"
  },
  "language_info": {
   "codemirror_mode": {
    "name": "ipython",
    "version": 2
   },
   "file_extension": ".py",
   "mimetype": "text/x-python",
   "name": "python",
   "nbconvert_exporter": "python",
   "pygments_lexer": "ipython2",
   "version": "2.7.6"
  }
 },
 "nbformat": 4,
 "nbformat_minor": 5
}
