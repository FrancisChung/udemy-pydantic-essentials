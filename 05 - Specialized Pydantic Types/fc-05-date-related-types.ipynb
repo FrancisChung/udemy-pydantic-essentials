{
 "cells": [
  {
   "cell_type": "code",
   "id": "initial_id",
   "metadata": {
    "collapsed": true,
    "ExecuteTime": {
     "end_time": "2025-03-01T03:23:19.653459Z",
     "start_time": "2025-03-01T03:23:19.649632Z"
    }
   },
   "source": "# Date Related Types",
   "outputs": [],
   "execution_count": 2
  },
  {
   "metadata": {
    "ExecuteTime": {
     "end_time": "2025-03-01T03:23:20.195516Z",
     "start_time": "2025-03-01T03:23:20.145443Z"
    }
   },
   "cell_type": "code",
   "source": [
    "from pydantic import (\n",
    "    BaseModel, ConfigDict, PastDate, AwareDatetime, PastDatetime, NaiveDatetime,  ValidationError\n",
    ")"
   ],
   "id": "77fb107aaeb13fb3",
   "outputs": [],
   "execution_count": 3
  },
  {
   "metadata": {
    "ExecuteTime": {
     "end_time": "2025-03-01T03:23:20.594079Z",
     "start_time": "2025-03-01T03:23:20.565533Z"
    }
   },
   "cell_type": "code",
   "source": [
    "class Model(BaseModel):\n",
    "    dt: PastDatetime"
   ],
   "id": "a9d295645ad73d5c",
   "outputs": [],
   "execution_count": 4
  },
  {
   "metadata": {
    "ExecuteTime": {
     "end_time": "2025-03-01T03:23:20.843842Z",
     "start_time": "2025-03-01T03:23:20.838862Z"
    }
   },
   "cell_type": "code",
   "source": "from datetime import datetime",
   "id": "27d082a3f307f8e5",
   "outputs": [],
   "execution_count": 5
  },
  {
   "metadata": {
    "ExecuteTime": {
     "end_time": "2025-03-01T03:23:21.078003Z",
     "start_time": "2025-03-01T03:23:21.072728Z"
    }
   },
   "cell_type": "code",
   "source": "datetime.now()",
   "id": "b86c00572ad78ff3",
   "outputs": [
    {
     "data": {
      "text/plain": [
       "datetime.datetime(2025, 3, 1, 14, 23, 21, 73581)"
      ]
     },
     "execution_count": 6,
     "metadata": {},
     "output_type": "execute_result"
    }
   ],
   "execution_count": 6
  },
  {
   "metadata": {
    "ExecuteTime": {
     "end_time": "2025-03-01T03:23:21.307721Z",
     "start_time": "2025-03-01T03:23:21.304219Z"
    }
   },
   "cell_type": "code",
   "source": [
    "class Model(BaseModel):\n",
    "    dt: NaiveDatetime"
   ],
   "id": "79c190236a103752",
   "outputs": [],
   "execution_count": 7
  },
  {
   "metadata": {
    "ExecuteTime": {
     "end_time": "2025-03-01T03:23:21.545113Z",
     "start_time": "2025-03-01T03:23:21.522551Z"
    }
   },
   "cell_type": "code",
   "source": "import pytz",
   "id": "7c8a8e880ed640d6",
   "outputs": [],
   "execution_count": 8
  },
  {
   "metadata": {
    "ExecuteTime": {
     "end_time": "2025-03-01T03:23:21.749609Z",
     "start_time": "2025-03-01T03:23:21.744990Z"
    }
   },
   "cell_type": "code",
   "source": [
    "from datetime import timedelta\n",
    "\n",
    "local_1_hour_ago = datetime.now() - timedelta(hours=1)\n",
    "local_1_hour_ago"
   ],
   "id": "841597f365e8cb88",
   "outputs": [
    {
     "data": {
      "text/plain": [
       "datetime.datetime(2025, 3, 1, 13, 23, 21, 746445)"
      ]
     },
     "execution_count": 9,
     "metadata": {},
     "output_type": "execute_result"
    }
   ],
   "execution_count": 9
  },
  {
   "metadata": {
    "ExecuteTime": {
     "end_time": "2025-03-01T03:23:21.990199Z",
     "start_time": "2025-03-01T03:23:21.985023Z"
    }
   },
   "cell_type": "code",
   "source": [
    "utc_1_hour_ago = local_1_hour_ago.astimezone(pytz.utc)\n",
    "utc_1_hour_ago"
   ],
   "id": "e4be265c330d9c49",
   "outputs": [
    {
     "data": {
      "text/plain": [
       "datetime.datetime(2025, 3, 1, 2, 23, 21, 746445, tzinfo=<UTC>)"
      ]
     },
     "execution_count": 10,
     "metadata": {},
     "output_type": "execute_result"
    }
   ],
   "execution_count": 10
  },
  {
   "metadata": {
    "ExecuteTime": {
     "end_time": "2025-03-01T03:23:22.317467Z",
     "start_time": "2025-03-01T03:23:22.312124Z"
    }
   },
   "cell_type": "code",
   "source": [
    "class Model(BaseModel):\n",
    "    dt: AwareDatetime"
   ],
   "id": "4a2d3af57d19e613",
   "outputs": [],
   "execution_count": 11
  },
  {
   "metadata": {
    "ExecuteTime": {
     "end_time": "2025-03-01T03:23:22.994141Z",
     "start_time": "2025-03-01T03:23:22.989743Z"
    }
   },
   "cell_type": "code",
   "source": "Model(dt=utc_1_hour_ago)",
   "id": "438d294cc95ba0de",
   "outputs": [
    {
     "data": {
      "text/plain": [
       "Model(dt=datetime.datetime(2025, 3, 1, 2, 23, 21, 746445, tzinfo=<UTC>))"
      ]
     },
     "execution_count": 12,
     "metadata": {},
     "output_type": "execute_result"
    }
   ],
   "execution_count": 12
  },
  {
   "metadata": {
    "ExecuteTime": {
     "end_time": "2025-03-01T03:24:44.812251Z",
     "start_time": "2025-03-01T03:24:44.806692Z"
    }
   },
   "cell_type": "code",
   "source": [
    "try:\n",
    "    Model(dt=local_1_hour_ago)\n",
    "except ValidationError as e:\n",
    "    print(e)"
   ],
   "id": "d355c4d8964cfffc",
   "outputs": [
    {
     "name": "stdout",
     "output_type": "stream",
     "text": [
      "1 validation error for Model\n",
      "dt\n",
      "  Input should have timezone info [type=timezone_aware, input_value=datetime.datetime(2025, 3, 1, 13, 23, 21, 746445), input_type=datetime]\n",
      "    For further information visit https://errors.pydantic.dev/2.9/v/timezone_aware\n"
     ]
    }
   ],
   "execution_count": 15
  },
  {
   "metadata": {},
   "cell_type": "code",
   "outputs": [],
   "execution_count": null,
   "source": "",
   "id": "e59853b719f78510"
  }
 ],
 "metadata": {
  "kernelspec": {
   "display_name": "Python 3",
   "language": "python",
   "name": "python3"
  },
  "language_info": {
   "codemirror_mode": {
    "name": "ipython",
    "version": 2
   },
   "file_extension": ".py",
   "mimetype": "text/x-python",
   "name": "python",
   "nbconvert_exporter": "python",
   "pygments_lexer": "ipython2",
   "version": "2.7.6"
  }
 },
 "nbformat": 4,
 "nbformat_minor": 5
}
